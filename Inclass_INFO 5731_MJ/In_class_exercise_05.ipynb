{
  "nbformat": 4,
  "nbformat_minor": 0,
  "metadata": {
    "colab": {
      "name": "Copy of In_class_exercise_05.ipynb",
      "provenance": [],
      "collapsed_sections": [],
      "include_colab_link": true
    },
    "kernelspec": {
      "name": "python3",
      "display_name": "Python 3"
    }
  },
  "cells": [
    {
      "cell_type": "markdown",
      "metadata": {
        "id": "view-in-github",
        "colab_type": "text"
      },
      "source": [
        "<a href=\"https://colab.research.google.com/github/mayurijoshi106/mayuri_INFO5731_spring2020/blob/master/Inclass_INFO%205731_MJ/In_class_exercise_05.ipynb\" target=\"_parent\"><img src=\"https://colab.research.google.com/assets/colab-badge.svg\" alt=\"Open In Colab\"/></a>"
      ]
    },
    {
      "cell_type": "markdown",
      "metadata": {
        "id": "z7TahL04sVvR",
        "colab_type": "text"
      },
      "source": [
        "# **The fifth in-class-exercise**"
      ]
    },
    {
      "cell_type": "markdown",
      "metadata": {
        "id": "ejyZITr8sjnh",
        "colab_type": "text"
      },
      "source": [
        "## **1. Rule-based information extraction**\n",
        "\n",
        "Use any keywords related to data science, natural language processing, machine learning to search from google scholar, get the **titles** of 100 articles (either by web scraping or manually) about this topic, define a set of patterns to extract the research questions/problems, methods/algorithms/models, datasets, applications, or any other important information about this topic. "
      ]
    },
    {
      "cell_type": "code",
      "metadata": {
        "id": "XvR_O9D8sOUY",
        "colab_type": "code",
        "colab": {
          "base_uri": "https://localhost:8080/",
          "height": 301
        },
        "outputId": "f3034d89-1e16-49b9-fb23-9cad20ac440f"
      },
      "source": [
        "\n",
        "import pandas as pd\n",
        "import csv\n",
        "with open(\"NLP Titles.txt\", \"r\",  newline=\"\", encoding='utf-8') as file:\n",
        "    titles = file.read()\n",
        "titles\n",
        "\n",
        "import re \n",
        "import string \n",
        "import nltk \n",
        "import spacy \n",
        "import pandas as pd \n",
        "import numpy as np \n",
        "import math \n",
        "from tqdm import tqdm \n",
        "\n",
        "from spacy.matcher import Matcher \n",
        "from spacy.tokens import Span \n",
        "from spacy import displacy \n",
        "\n",
        "pd.set_option('display.max_colwidth', 200)\n",
        "# load spaCy model\n",
        "nlp = spacy.load(\"en_core_web_sm\")\n",
        "\n",
        "\n",
        "doc=nlp('Natural language processing and text mining')\n",
        "#token, dependency, POS tag \n",
        "# detect research methods\n",
        "for token in doc:\n",
        "  print (token.text, \"-->\",token.dep_,\"-->\", token.pos_)\n",
        "pattern2=[{},\n",
        "          {'lower': 'Natural', 'OP':'?'}, \n",
        "          {'lower': 'Language', 'OP':'?'},\n",
        "          {},\n",
        "          {'lower': 'and'},\n",
        "          {'POS': 'PROPN', 'OP': '+'},\n",
        "          {},\n",
        "          {'POS': 'Noun', 'OP': '*'}\n",
        "           ]\n",
        " \n",
        "matcher = Matcher(nlp.vocab) \n",
        "matcher.add(\"matching_1\", None, pattern1) \n",
        "matches = matcher(doc) \n",
        "if(len(matches) > 0): \n",
        "  span = doc[matches[0][1]:matches[0][2]] \n",
        "  print(span.text)\n",
        "\n",
        "doc=nlp(titles)\n",
        "#token, dependency, POS tag \n",
        "# detect research methods\n",
        "#for token in doc:\n",
        " # print (token.text, \"-->\",token.dep_,\"-->\", token.pos_)\n",
        "\n",
        "def find_pattern (pattern):\n",
        "  matcher = Matcher(nlp.vocab) \n",
        "  matcher.add(\"matching_1\", None, pattern) \n",
        "  matches = matcher(doc) \n",
        "  if(len(matches) > 0): \n",
        "    span = doc[matches[0][1]:matches[0][2]] \n",
        "    print(span.text)\n",
        "  \n",
        "pattern2=[{},\n",
        "          {'lower': 'Natural', 'OP':'?'}, \n",
        "          {'lower': 'Language', 'OP':'?'},\n",
        "          {'lower': 'and'},\n",
        "          {'POS': 'PROPN'},\n",
        "          {'POS': 'PROPN', 'OP': '*'},\n",
        "          {}\n",
        "           ]\n",
        "\n",
        "pattern3 = [{},\n",
        "            {'lower': 'Natural', 'OP':'?'}, \n",
        "            {'lower': 'Language', 'OP':'?'},\n",
        "            {},\n",
        "            {'lower': 'using'},\n",
        "            {'POS': 'PROPN','OP':'*'}\n",
        "             ]\n",
        "\n",
        "pattern4=[ {'POS': 'NOUN', 'OP':'*'},\n",
        "          {'POS': 'PROPN', 'OP':'*'},\n",
        "          {'lower': 'of'}\n",
        "           ]\n",
        "\n",
        "pattern5=[{'POS':'PROPN', 'OP':'*'},\n",
        "          {'POS':'NOUN', 'OP':'*'},\n",
        "          {'POS':'VERB', 'OP':'*'},\n",
        "          {'ORTH': ':'},\n",
        "          {'POS':'PROPN', 'OP':'*'},\n",
        "          {'POS':'NOUN', 'OP':'*'}\n",
        "           ]\n",
        "\n",
        "\n",
        "pattern6=[{},\n",
        "          {},\n",
        "          {},\n",
        "          {'lower': 'for'},\n",
        "          {'POS':'PROPN', 'OP':'+'}\n",
        "           ]\n",
        "#print(\"by:\")\n",
        "#find_pattern (pattern1)\n",
        "print(\"Pattern2 ----- and\")\n",
        "find_pattern (pattern2)\n",
        "print(\"Pattern3 ----- using\")\n",
        "find_pattern (pattern3)\n",
        "print(\"Pattern4 ----- of\")\n",
        "find_pattern (pattern4)\n",
        "print(\"Pattern5 ----- :\")\n",
        "find_pattern (pattern5)\n",
        "print('Pattern6 ----- for')\n",
        "find_pattern (pattern6)\n",
        "\n",
        "# detect research application"
      ],
      "execution_count": 75,
      "outputs": [
        {
          "output_type": "stream",
          "text": [
            "Natural --> amod --> ADJ\n",
            "language --> compound --> NOUN\n",
            "processing --> ROOT --> NOUN\n",
            "and --> cc --> CCONJ\n",
            "text --> compound --> NOUN\n",
            "mining --> conj --> NOUN\n",
            "processing and text\n",
            "Pattern2 ----- and\n",
            "Pattern3 ----- using\n",
            "Capturing favorability using\n",
            "Pattern4 ----- of\n",
            "Foundations of\n",
            "Pattern5 ----- :\n",
            "Python:\n",
            "Pattern6 ----- for\n",
            "Natural language processing for Prolog\n"
          ],
          "name": "stdout"
        }
      ]
    },
    {
      "cell_type": "markdown",
      "metadata": {
        "id": "Dq_7VGmrsum4",
        "colab_type": "text"
      },
      "source": [
        "## **2. Domain-specific information extraction**\n",
        "\n",
        "For the legal case used in the data cleaning exercise: [01-05-1 Adams v Tanner.txt](https://raw.githubusercontent.com/unt-iialab/INFO5731_Spring2020/master/In_class_exercise/01-05-1%20%20Adams%20v%20Tanner.txt), use [legalNLP](https://lexpredict-lexnlp.readthedocs.io/en/latest/modules/extract/extract.html#nlp-based-extraction-methods) to extract the following inforation from the text (if the information is not exist, just print None):\n",
        "\n",
        "(1) acts, e.g., “section 1 of the Advancing Hope Act, 1986”\n",
        "\n",
        "(2) amounts, e.g., “ten pounds” or “5.8 megawatts”\n",
        "\n",
        "(3) citations, e.g., “10 U.S. 100” or “1998 S. Ct. 1”\n",
        "\n",
        "(4) companies, e.g., “Lexpredict LLC”\n",
        "\n",
        "(5) conditions, e.g., “subject to …” or “unless and until …”\n",
        "\n",
        "(6) constraints, e.g., “no more than”\n",
        "\n",
        "(7) copyright, e.g., “(C) Copyright 2000 Acme”\n",
        "\n",
        "(8) courts, e.g., “Supreme Court of New York”\n",
        "\n",
        "(9) CUSIP, e.g., “392690QT3”\n",
        "\n",
        "(10) dates, e.g., “June 1, 2017” or “2018-01-01”\n",
        "\n",
        "(11) definitions, e.g., “Term shall mean …”\n",
        "\n",
        "(12) distances, e.g., “fifteen miles”\n",
        "\n",
        "(13) durations, e.g., “ten years” or “thirty days”\n",
        "\n",
        "(14) geographic and geopolitical entities, e.g., “New York” or “Norway”\n",
        "\n",
        "(15) money and currency usages, e.g., “$5” or “10 Euro”\n",
        "\n",
        "(16) percents and rates, e.g., “10%” or “50 bps”\n",
        "\n",
        "(17) PII, e.g., “212-212-2121” or “999-999-9999”\n",
        "\n",
        "(18) ratios, e.g.,” 3:1” or “four to three”\n",
        "\n",
        "(19) regulations, e.g., “32 CFR 170”\n",
        "\n",
        "(20) trademarks, e.g., “MyApp (TM)”\n",
        "\n",
        "(21) URLs, e.g., “http://acme.com/”\n",
        "\n",
        "(22) addresses, e.g., “1999 Mount Read Blvd, Rochester, NY, USA, 14615”\n",
        "\n",
        "(23) persons, e.g., “John Doe"
      ]
    },
    {
      "cell_type": "code",
      "metadata": {
        "id": "qc7NtJrLx5tS",
        "colab_type": "code",
        "colab": {
          "base_uri": "https://localhost:8080/",
          "height": 1000
        },
        "outputId": "3675a6e4-5a12-4395-981c-0c1788b831d4"
      },
      "source": [
        "import re\n",
        "import requests\n",
        "page = 'https://raw.githubusercontent.com/unt-iialab/INFO5731_Spring2020/master/In_class_exercise/01-05-1%20%20Adams%20v%20Tanner.txt'\n",
        "data = requests.get(page).text\n",
        "print (data)\n",
        "\n"
      ],
      "execution_count": 28,
      "outputs": [
        {
          "output_type": "stream",
          "text": [
            "\r\n",
            "5 Ala. 740\r\n",
            "Supreme Court of Alabama.\r\n",
            "ADAMS\r\n",
            "v.\r\n",
            "TANNER AND HORTON.\r\n",
            "June Term, 1843.\r\n",
            "Synopsis\r\n",
            "WRIT of Error to the Circuit Court of Sumter.\r\n",
            " \r\n",
            "\r\n",
            "\r\n",
            "West Headnotes (2)\r\n",
            "\r\n",
            "\r\n",
            "[1]\r\n",
            "Chattel Mortgages\r\n",
            "Crops\r\n",
            "A growing crop has such an existence as to be the subject-matter of a mortgage or other contract which passes an interest to vest in possession, either immediately or at a future time.\r\n",
            "4 Cases that cite this headnote\r\n",
            "\r\n",
            "[2]\r\n",
            "Creditors’ Remedies\r\n",
            "Lien and Priority\r\n",
            "Under St.1821, prohibiting a levy on a crop until it has been gathered, no lien attaches in favor of a fi. fa. on a growing crop, nor does such lien attach until after the crop has been gathered.\r\n",
            "5 Cases that cite this headnote\r\n",
            "\r\n",
            "**1 This was a trial of the right of property under the statute. In November, 1840, an execution issued from the circuit court of Sumter, at the suit of the plaintiff in error, requiring the sheriff of that county, to make of the goods, &c., of Allen Harrison and others, the sum of thirty-seven hundred and seventy-seven 80-100 dollars, besides costs. This execution was levied on thirty bales of cotton, as the property of Allen Harrison, which was claimed, and a bond given to try the right. An issue was made up to try the question of the liability of the cotton to the plaintiff’s execution, and submitted to a jury. On the trial, a bill of exceptions was sealed at the instance of the plaintiff. The plaintiff proved that he recovered his judgment in October, 1839; that an execution *741 was issued thereon on the 7th Nov. thereafter, and that alias and pluries fieri facias’, issued regularly up to the time levy was made; that the cotton levied on was growed on the plantation of Harrison, and cultivated by the hands in his service. It was proved by the claimants, by the production of a written contract, that Harrison, on the twenty-second of May, 1840, in consideration that the claimants were involved, as indorsers for Burton & Harrison of Sumter county, and were then exposed to an execution, amounting to upwards of fourteen thousand dollars, bargained and sold to the claimants all his growing crop of cotton &c., consisting of one hundred and twenty acres, &c. Allen Harrison promised and obliged himself to give up his crop to the use of the claimants at any time to save them from suffering as his indorsers; if the crop matured and was gathered he undertook to deliver the cotton in Gainesville. The claimants came from Tennessee, (where they resided) about the first of September, 1840, bringing with them three or four white laborers, and took possession of the crop and slaves, and with the latter, and white laborers, gathered the cotton, prepared it for market, and when levied on, it was in a ware-house in Gainesville. The plaintiff then proved by Harrison, that the claimants took possession of the crop, while he was absent, and disposed of it without his consent. It was admitted, that the contract was made in good faith.\r\n",
            "The court charged the jury, that the plaintiff had no lien by virtue of his judgment, and execution on the growing crop; that Harrison had a right to convey it, without being in any manner restrained by them; that the writing adduced, was a sale of the crop, but if it was not, and the lien of the fieri facias would have attached upon it, when gathered, yet if the claimants obtained possession on the first of September, and controlled the gathering of the crop, then no lien attached, and it was not subject to the levy.\r\n",
            "Attorneys and Law Firms\r\n",
            "R. H. SMITH, for the plaintiff, in error, made the following points.--1. The crop of Harrison, must, in May, 1840, have been in an immature state, and it is insisted, was not the subject of a sale. 2. By the common law, a growing crop could be levied on and sold, [1 Salk. Rep. 361; 1 Bos. & P. Rep. 307; 6 East’s Rep. 604, note 1; 2 Johns. Rep. 418, 422; 7 Mass. Rep. 34,] and our statue, [[[Aik. Dig. § 41, p. 167,] which forbids the levy of an *742 execution on a growing crop, is to receive a strict construction. It merely inhibits the levy, but the lien attaches, and a levy and sale may be made after the crop matures, and is gathered. 3. The contract does not purport to convey the growing crop, but is a mere executory agreement, requiring some act to be done by Harrison, in order to invest the claimants with the right of property. [Chit. on Con. 112, 207; 3 Johns. Rep. 338, 424; 5 Wend. Rep. 26; 13 Johns. Rep. 235; 8 Dowl. Rep, 693;] and until this act was done, the crop, no matter by who gathered, because liable to be seized for Harrison’s debts. A court of chancery would not compel a specific performance of the contract at the claimant’s instance. 4. The charge of the court is also objectionable in deciding disputed facts.\r\n",
            "W. M. MURPHY, with whom was W. G. JONES, for the defendant--cited the act of 1821, [Aik. Dig. 167,] which declares it to be lawful to levy an execution on a planted crop, until it is gathered, and contended that no lien attached in favor of the plaintiff. This being the case, the defendant in execution was not restrained from making the contract which he did with the claimants.\r\n",
            "**2 The lien of an execution is destroyed by an injunction, because it takes away the right to levy it. In short, whenever the right to levy an execution is but temporarily suspended, or withdrawn, the lien is during that time lost. [[[[Whipple v. Foot, 2 Johns. Rep. 216; 3 Wash. C. C. Rep. 66; 4 How. Rep. 130.]\r\n",
            "It is admitted that the contract between the defendant in execution, and the claimants, was in good faith, if so, the severance and removal of the cotton gave the latter a good title against all creditors of the former.\r\n",
            "Opinion\r\n",
            "\r\n",
            "COLLIER, C. J.\r\n",
            "\r\n",
            "There can be no doubt that a growing crop has such an existence as to be the subject matter of a sale, mortgage, or other contract which possess an interest to vest in possession, either immediately or at some future time. This proposition has frequently been assumed as unquestionable; the point of inquiry generally being, whether under a statute of frauds, such as the 29 Chas. 2, it is a mere chattel, and transferrable by parol without writing. [Chitty on Con. 241-2, 332; Whipple v. Foot, 2 Johns. Rep. 422; Stewart v. Doughty, 9 Johns. Rep. 112; *743 Austin v. Sawyer, 9 Cow. Rep. 39. See also Ravesies v. Lee & Alston, at last term.] The contract set out in the bill of exceptions, we are inclined to think evidences rather a mortgage than an absolute sale. It recites that the claimants are involved as indorsers of a mercantile firm, of which the defendant was a partner; that an execution for upwards of fourteen thousand dollars against their estate, is in the sheriff’s hands, and that a conveyance is made of the crop of cotton, corn and oats, which the grantor agrees to give up at any time to the use of the claimants, so as to prevent injury to them as indorsers. The defendant in execution might at any time have divested the interest which the contract vested in the claimants, by discharging their liability as his indorsers, or a judgment creditor might have satisfied the lien, and when the crop was gathered, have levied on, and sold it under a fieri facias.\r\n",
            "We will then consider the writing under which the claimants assert a right, as a mortgage with a power to take possession any time during the year, unless they should be relieved from their engagements as indorsers. It is not pretended that their liability has been satisfied, and it is admitted that the parties have acted with good faith, so that it is a dry question of law, whether the right of the plaintiff, or the claimants shall prevail. Assuming for the present that the execution of the plaintiffs did not operate a lien upon the planted crop previous to the contract of May, 1840, we will inquire whether the defendant in execution had such an interest as could be levied on and sold.\r\n",
            "The claimants had previous to the levy of the execution taken possession of the crop, prepared the cotton for market, and removed it to a ware-house. This possession, it is insisted, was a trespass, because it was acquired in the absence of the defendant in execution, and without his consent then given. Conceding the truth of the facts stated in the bill of exceptions, and we think it will not follow, that the possession of the claimants is a nullity, and that the case must be considered as if they had never interfered with the crop. The contract contains an express undertaking to give up the crop at any time the claimants might require it for their indemnity, and if they took possession of it in the absence of the grantor, (though without his consent,) if he subsequently acquiesced in it, the inference would be, if necessary, that their acts were approved by him. Taking this to be clear *744 law, and it will be seen, that the defendant in execution at the time of the levy had nothing more than a mere equitable right to redeem the cotton by paying the debts indorsed by the claimants. He had no possession coupled with this equity, but only a naked equity, which it has been held cannot be reached by an ordinary execution. [Perkins and Elliott v. Mayfield, 5 Porter’s Rep. 182.]\r\n",
            "**3 This brings us back to the question, whether the execution of the plaintiff was a lien on the growing crop, so as to defeat the mortgage to the claimants. It has been frequently mooted whether, at common law, corn, &c., before it is gathered, can be seized under a fieri facias. Mr. Dane, in remarking upon this point, says, “The American editor of Bacon’s Abridgment, says, ‘Wheat growing in the ground is a chattel, and subject to be taken in execution; and the sheriff may suffer it to grow till harvest, and then cut and sell it; or may perhaps sell it growing, and the purchaser will then be entitled to enter, for the purpose of cutting and carrying it away.” [He cites Whipple v. Foot, ut supra, also Poole’s case, Salk. 368; 1 Bos. & P. 397; 6 East, 604, n.] But Whipple v. Foot seems to be the only case that supports his position, that unripe wheat or corn may be taken in execution; and the same editor states that nothing can be taken in execution which cannot be sold. This position, says the learned commentator, is no doubt law. But it is unnecessary to consider how this matter stands at common law. The first section of the act of 1821, “To prevent sheriffs and other officers from levying executions in certain cases, enacts, that “It shall not be lawful for any sheriff or other officer, to levy a writ of fieri facias or other execution on the planted crop of a debtor, or person against whom an execution may issue, until the crop is gathered.” [Aik. Dig. 167.] Now here is an express inhibition to levy an execution on a crop while it remains on, or in the ground, and until it is severed from the soil to which it owes its growth. In respect to property thus situated, will the lien of an execution attach eo instanti upon its being placed in the hands of an officer? If so, the act cited, will only have the effect of keeping the right to levy it in abeyance until the crop is gathered. The lien of an execution does, not only operate so as to prevent the debtor from disposing of the property on which it attaches, but gives to the creditor the right to have it sold to satisfy his *745 judgment. The lien and the right to levy are intimately connected, and if the latter be taken away, or suspended, the effect, at common law, is the destruction of the former. This principle is fully established by Mansony and Hurtell v. The President, &c. of the Bank of the United States, and its assignees, and the citations contained in the opinion of the court in that case, as also in my opinion in Wood v. Gary, et al., both decided at the last term. That it was competent for the legislature to have made it unlawful to levy an execution on particular property, until its condition was changed, and still to give it a continuing lien, cannot be doubted; but there is nothing in the act in question to indicate that such is its intention. If the object was merely to suspend the sale, until the crop was gathered, it would have been very easy to have said so in explicit terms, but declaring as the statute does, in totidem verbis, that the execution shall not be levied, the legislature must be supposed to have meant what they have expressed. The act was induced by the doubts which existed as to what was the common law, and was intended to remove those doubts by declaring what should be the law in future. It does not create a lien or authorize a levy in a case in which the law, as it then existed, was silent. The idea that the lien attached upon the planted crop as soon as the execution was delivered to the sheriff, though the right to levy it was postponed until a severance took place, is attempted to be deduced from the last words of the section cited, viz: “until the crop is gathered.” These words cannot, upon any just principles of construction be regarded so potent as to give to an execution a retrospective effect. They do not refer to the lien, if they did they would postpone it until the crop was gathered; but it is the levy they relate to and postpone until that event takes place.\r\n",
            "**4 The right to levy an execution on a planted crop, then, being expressly taken away by the statute, the lien which is connected with and consequent upon that right, never attaches until severance. This being the case, the right of the defendant in execution to make the contract which he did, is unquestionable, and the title of the claimants, coupled as it was with the possession, was paramount to any lien which the execution could exert.\r\n",
            "The circuit judge may have mistaken the law in supposing that the contract was a sale, but if he did, an error in that respect was very immaterial, for whether a sale or mortgage, as we have *746 seen, under the facts of the case, the defendant in execution has no interest that could be seised and sold under execution. There is no assumption of any material fact in the charge; but the possession of the claimant, the time when acquired, the gathering of the crop, &c., are all referred to the determination of the jury; who are instructed, if they find them according to the evidence adduced, that no lien ever attached in favor of the plaintiff. The bona fides of the contract was conceded, so that no charge was necessary on that point, and it could not with propriety enter into the inquiry of the jury.\r\n",
            "It results from what has been said, that the judgment of the circuit court is affirmed.\r\n",
            "\r\n",
            "DISSENTING OPINION.\r\n",
            "\r\n",
            "ORMOND, J.\r\n",
            "**4 The statute which presents the question before the court is, that “it shall not be lawful for any sheriff or other officer to levy a writ of fieei facias or other execution, on the planted crop of a debtor, or person against whom an execution may issue, until the crop is gathered.” [Clay’s Dig. 210, § 46.]\r\n",
            "I shall not enter upon the enquiry, whether, at common law, an execution could be levied upon a growing crop, though I apprehend, it would not be difficult to maintain the affirmative of the proposition. It is sufficient for my purpose, that the statute supposes such to have been the law, as it doubtless was the practice.\r\n",
            "This act must be considered in connection with the other acts upon the same subject. The policy of the State, as indicated by these statutes, is undeniably that all the property of a debtor, real and personal, to which he has a legal title, shall be subject to sale by execution, and it appears to me that it would be difficult to assign a reason for the exemption of this species of property from the claims of judgment creditors, and for giving to the defendant in execution the right to dispose of it. It appears to me, with all deference, that the argument that because the sheriff was prohibited from levying on a ““planted crop,” that therefore the execution had lost its lien, and the debtor had the right to sell it, is a non sequitur. The mischief which the statute designed to remedy was, the sacrifice which would be necessarily made by the sale of an immature crop: the statute enables the debtor to retain it until it matures, and by severing it from the soil to put it *747 in a condition to bring its value--the lien in the mean time continuing in the plaintiff in execution.\r\n",
            "**5 If further confirmation of the correctness of this view were necessary, it will be found, I think, in the language employed by the legislature. The sheriff is forbidden to levy on a “planted crop” until the crop is gathered. Now, if the view taken by the majority of the court, is correct, the right secured to the plaintiff in execution, of levying on the crop after it is gathered, may be frustrated, as it was in this case, by a sale by the defendant in execution, whilst the crop is in an immature state. The construction which has been put upon the statute, involves the singular anomaly, that the legislature, for the protection of the debtor, has forbidden the plaintiff in execution to sell the property of his debtor, because it is not in a condition to bring its value, and yet permits the debtor, voluntarily, by a sale, to submit to the same sacrifice, for his own benefit. It is, in effect, a gift to the defendant in execution, of the growing crop, provided he does not gather it himself, but disposes of it in its then condition. This, I feel a thorough conviction, was not the intention of the legislature; but that it was to secure him from loss, by prohibiting a levy and sale of the crop, until it was gathered, when the temporary suspension of the right to sell, ceased.\r\n",
            "All Citations\r\n",
            "5 Ala. 740, 1843 WL 284\r\n",
            "End of Document\r\n",
            "© 2019 Thomson Reuters. No claim to original U.S. Government Works.\r\n",
            "Citing References (9)\r\n",
            "Treatment\r\n",
            "Title\r\n",
            "Date\r\n",
            "Type\r\n",
            "Depth\r\n",
            "Headnote(s)\r\n",
            "Cited by\r\n",
            "1.  Booker v. Jones’s Adm’x\r\n",
            "55 Ala. 266, 271 , Ala.\r\n",
            "Trover for Conversion of Cotton, with Counts in Case. APPEAL from the Circuit Court of Hale. Tried before the Hon. M. J. SAFFOLD.\r\n",
            "Dec Term 1876\r\n",
            "Case\r\n",
            "—\r\n",
            "Cited by\r\n",
            "2.  Lehman, Durr & Co. v. Marshall\r\n",
            "47 Ala. 362, 376 , Ala.\r\n",
            "[TROVER FOR CONVERSION OF COTTON.] APPEAL from the City Court of Montgomery. Tried before Hon. JOHN D. CUNNINGHAM.\r\n",
            "Jan Term 1872\r\n",
            "Case\r\n",
            "—\r\n",
            "Cited by\r\n",
            "3.  Bibb v. Janney\r\n",
            "45 Ala. 329, 334 , Ala.\r\n",
            "[GARNISHMENT; WAGES; WAIVER OF EXEMPTION.] APPEAL from City Court of Montgomery. Tried before Hon. JOHN D. CUNNINGHAM.\r\n",
            "Jan Term 1871\r\n",
            "Case\r\n",
            "—\r\n",
            "Cited by\r\n",
            "4.  McKenzie v. Lampley\r\n",
            "31 Ala. 526, 527 , Ala.\r\n",
            "[TRIAL OF RIGHT OF PROPERTY IN COTTON.] APPEAL from the Circuit Court of Barbour. Tried before the Hon. S. D. HALE.\r\n",
            "Jan Term 1858\r\n",
            "Case\r\n",
            "—\r\n",
            "Cited by\r\n",
            "5.  Evans v. Lamar\r\n",
            "21 Ala. 333, 335+ , Ala.\r\n",
            "ERROR to the Circuit Court of Autauga. Tried before the Hon. A. B. MOORE.\r\n",
            "Jun Term 1852\r\n",
            "Case\r\n",
            "—\r\n",
            "Cited by\r\n",
            " 6.  Dewey v. Bowman\r\n",
            "8 Cal. 145, 147 , Cal.\r\n",
            "The judgment of the Court below, against Jacob S. Cohen, should be reversed, for the following reasons: Because the finding of the Court was, so far as Cohen was concerned,...\r\n",
            "Jul Term 1857\r\n",
            "Case\r\n",
            "—\r\n",
            "Mentioned by\r\n",
            "7.  Rees v. Coats\r\n",
            "65 Ala. 256, 258 , Ala.\r\n",
            "Trover for Conversion of Three Bales of Cotton. APPEAL from the Circuit Court of Etowah. Tried before the Hon. WM. L. WHITLOCK.\r\n",
            "Nov Term 1880\r\n",
            "Case\r\n",
            "—\r\n",
            "Mentioned by\r\n",
            "8.  Edwards v. Thompson\r\n",
            "4 S.W. 913, 914 , Tenn.\r\n",
            "Appeal from circuit court, Weakley county.\r\n",
            "May 1887\r\n",
            "Case\r\n",
            "—\r\n",
            "—\r\n",
            "9.  Growing crops as subject to levy and seizure under attachment or execution\r\n",
            "103 A.L.R. 464\r\n",
            "Generally, at common law, growing crops raised by annual planting, while still attached to the soil, are regarded as personal chattels, subject to levy and seizure under attachment...\r\n",
            "1936\r\n",
            "ALR\r\n",
            "—\r\n",
            "—\r\n",
            "Table of Authorities (3)\r\n",
            "Treatment\r\n",
            "Referenced Title\r\n",
            "Type\r\n",
            "Depth\r\n",
            "Quoted\r\n",
            "Page Number\r\n",
            "Mentioned\r\n",
            "1.  Austin v. Sawyer\r\n",
            "9 Cow. 39, N.Y.Sup., 1828\r\n",
            "Parol evidence is not admissible to contradict, or substantially vary, a written contract. And where A. quit-claimed land to W., on which a crop of wheat was growing, reserving the...\r\n",
            "Case\r\n",
            "2\r\n",
            "Cited\r\n",
            " 2.  Perkins v. Mayfield\r\n",
            "5 Port. 182, Ala., 1837\r\n",
            "On writ of error to the Circuit Court of Tuskaloosa.\r\n",
            "Case\r\n",
            "2+\r\n",
            "Mentioned\r\n",
            "3.  Stewart v. Doughty\r\n",
            "9 Johns. 108, N.Y.Sup., 1812\r\n",
            "A. let to B. a farm for six years, and A. agreed “to render, yield and pay to A. the one half of all the wheat, rye, corn and other grain, raised on the farm in each year, in the...\r\n",
            "Case\r\n",
            "2\r\n",
            "Filings\r\n",
            "There are no Filings for this citation.\r\n",
            "Negative Treatment\r\n",
            "There are no Negative Treatment results for this citation.\r\n",
            "History\r\n",
            "There are no History results for this citation.\r\n",
            "\n"
          ],
          "name": "stdout"
        }
      ]
    },
    {
      "cell_type": "code",
      "metadata": {
        "id": "FSkU-DnkQzq7",
        "colab_type": "code",
        "colab": {
          "base_uri": "https://localhost:8080/",
          "height": 641
        },
        "outputId": "fd91337d-07ce-42a0-a3ba-672b9331d94b"
      },
      "source": [
        "!pip install lexnlp"
      ],
      "execution_count": 29,
      "outputs": [
        {
          "output_type": "stream",
          "text": [
            "Requirement already satisfied: lexnlp in /usr/local/lib/python3.6/dist-packages (1.4.0)\n",
            "Requirement already satisfied: reporters-db==1.0.12.1 in /usr/local/lib/python3.6/dist-packages (from lexnlp) (1.0.12.1)\n",
            "Requirement already satisfied: regex==2017.9.23 in /usr/local/lib/python3.6/dist-packages (from lexnlp) (2017.9.23)\n",
            "Requirement already satisfied: gensim==3.4.0 in /usr/local/lib/python3.6/dist-packages (from lexnlp) (3.4.0)\n",
            "Requirement already satisfied: num2words==0.5.7 in /usr/local/lib/python3.6/dist-packages (from lexnlp) (0.5.7)\n",
            "Requirement already satisfied: typing==3.6.2 in /usr/local/lib/python3.6/dist-packages (from lexnlp) (3.6.2)\n",
            "Requirement already satisfied: nltk==3.4.5 in /usr/local/lib/python3.6/dist-packages (from lexnlp) (3.4.5)\n",
            "Requirement already satisfied: pycountry==18.5.26 in /usr/local/lib/python3.6/dist-packages (from lexnlp) (18.5.26)\n",
            "Requirement already satisfied: requests==2.22.0 in /usr/local/lib/python3.6/dist-packages (from lexnlp) (2.22.0)\n",
            "Requirement already satisfied: datefinder-lexpredict==0.6.2 in /usr/local/lib/python3.6/dist-packages (from lexnlp) (0.6.2)\n",
            "Requirement already satisfied: pandas==0.23.4 in /usr/local/lib/python3.6/dist-packages (from lexnlp) (0.23.4)\n",
            "Requirement already satisfied: scikit-learn==0.21.3 in /usr/local/lib/python3.6/dist-packages (from lexnlp) (0.21.3)\n",
            "Requirement already satisfied: us==1.0.0 in /usr/local/lib/python3.6/dist-packages (from lexnlp) (1.0.0)\n",
            "Requirement already satisfied: scipy==1.0.0 in /usr/local/lib/python3.6/dist-packages (from lexnlp) (1.0.0)\n",
            "Requirement already satisfied: dateparser==0.7.0 in /usr/local/lib/python3.6/dist-packages (from lexnlp) (0.7.0)\n",
            "Requirement already satisfied: Unidecode==0.4.21 in /usr/local/lib/python3.6/dist-packages (from lexnlp) (0.4.21)\n",
            "Requirement already satisfied: six in /usr/local/lib/python3.6/dist-packages (from reporters-db==1.0.12.1->lexnlp) (1.12.0)\n",
            "Requirement already satisfied: smart-open>=1.2.1 in /usr/local/lib/python3.6/dist-packages (from gensim==3.4.0->lexnlp) (1.9.0)\n",
            "Requirement already satisfied: numpy>=1.11.3 in /usr/local/lib/python3.6/dist-packages (from gensim==3.4.0->lexnlp) (1.17.5)\n",
            "Requirement already satisfied: idna<2.9,>=2.5 in /usr/local/lib/python3.6/dist-packages (from requests==2.22.0->lexnlp) (2.8)\n",
            "Requirement already satisfied: urllib3!=1.25.0,!=1.25.1,<1.26,>=1.21.1 in /usr/local/lib/python3.6/dist-packages (from requests==2.22.0->lexnlp) (1.24.3)\n",
            "Requirement already satisfied: certifi>=2017.4.17 in /usr/local/lib/python3.6/dist-packages (from requests==2.22.0->lexnlp) (2019.11.28)\n",
            "Requirement already satisfied: chardet<3.1.0,>=3.0.2 in /usr/local/lib/python3.6/dist-packages (from requests==2.22.0->lexnlp) (3.0.4)\n",
            "Requirement already satisfied: pytz in /usr/local/lib/python3.6/dist-packages (from datefinder-lexpredict==0.6.2->lexnlp) (2018.9)\n",
            "Requirement already satisfied: python-dateutil>=2.4.2 in /usr/local/lib/python3.6/dist-packages (from datefinder-lexpredict==0.6.2->lexnlp) (2.6.1)\n",
            "Requirement already satisfied: joblib>=0.11 in /usr/local/lib/python3.6/dist-packages (from scikit-learn==0.21.3->lexnlp) (0.14.1)\n",
            "Requirement already satisfied: jellyfish==0.5.6 in /usr/local/lib/python3.6/dist-packages (from us==1.0.0->lexnlp) (0.5.6)\n",
            "Requirement already satisfied: tzlocal in /usr/local/lib/python3.6/dist-packages (from dateparser==0.7.0->lexnlp) (1.5.1)\n",
            "Requirement already satisfied: boto3 in /usr/local/lib/python3.6/dist-packages (from smart-open>=1.2.1->gensim==3.4.0->lexnlp) (1.11.15)\n",
            "Requirement already satisfied: boto>=2.32 in /usr/local/lib/python3.6/dist-packages (from smart-open>=1.2.1->gensim==3.4.0->lexnlp) (2.49.0)\n",
            "Requirement already satisfied: botocore<1.15.0,>=1.14.15 in /usr/local/lib/python3.6/dist-packages (from boto3->smart-open>=1.2.1->gensim==3.4.0->lexnlp) (1.14.15)\n",
            "Requirement already satisfied: jmespath<1.0.0,>=0.7.1 in /usr/local/lib/python3.6/dist-packages (from boto3->smart-open>=1.2.1->gensim==3.4.0->lexnlp) (0.9.4)\n",
            "Requirement already satisfied: s3transfer<0.4.0,>=0.3.0 in /usr/local/lib/python3.6/dist-packages (from boto3->smart-open>=1.2.1->gensim==3.4.0->lexnlp) (0.3.3)\n",
            "Requirement already satisfied: docutils<0.16,>=0.10 in /usr/local/lib/python3.6/dist-packages (from botocore<1.15.0,>=1.14.15->boto3->smart-open>=1.2.1->gensim==3.4.0->lexnlp) (0.15.2)\n"
          ],
          "name": "stdout"
        }
      ]
    },
    {
      "cell_type": "code",
      "metadata": {
        "id": "q2vDGZEmQ_Ui",
        "colab_type": "code",
        "colab": {
          "base_uri": "https://localhost:8080/",
          "height": 159
        },
        "outputId": "4d9b9a8d-e91c-433d-a286-b8eefcfccb36"
      },
      "source": [
        "import nltk\n",
        "nltk.download('wordnet')\n",
        "nltk.download('averaged_perceptron_tagger')\n",
        "nltk.download('punkt')"
      ],
      "execution_count": 30,
      "outputs": [
        {
          "output_type": "stream",
          "text": [
            "[nltk_data] Downloading package wordnet to /root/nltk_data...\n",
            "[nltk_data]   Unzipping corpora/wordnet.zip.\n",
            "[nltk_data] Downloading package averaged_perceptron_tagger to\n",
            "[nltk_data]     /root/nltk_data...\n",
            "[nltk_data]   Unzipping taggers/averaged_perceptron_tagger.zip.\n",
            "[nltk_data] Downloading package punkt to /root/nltk_data...\n",
            "[nltk_data]   Unzipping tokenizers/punkt.zip.\n"
          ],
          "name": "stdout"
        },
        {
          "output_type": "execute_result",
          "data": {
            "text/plain": [
              "True"
            ]
          },
          "metadata": {
            "tags": []
          },
          "execution_count": 30
        }
      ]
    },
    {
      "cell_type": "code",
      "metadata": {
        "id": "C2aIFbC3RCul",
        "colab_type": "code",
        "colab": {
          "base_uri": "https://localhost:8080/",
          "height": 35
        },
        "outputId": "31903c04-b897-4888-8b86-4588df856923"
      },
      "source": [
        "#Exporting acts\n",
        "\n",
        "import lexnlp.extract.en.acts\n",
        "try:\n",
        "  print(list(lexnlp.extract.en.acts.get_acts(data)))\n",
        "except:\n",
        "  print(None)\n"
      ],
      "execution_count": 34,
      "outputs": [
        {
          "output_type": "stream",
          "text": [
            "[]\n"
          ],
          "name": "stdout"
        }
      ]
    },
    {
      "cell_type": "code",
      "metadata": {
        "id": "W6aste4oRNJM",
        "colab_type": "code",
        "colab": {
          "base_uri": "https://localhost:8080/",
          "height": 55
        },
        "outputId": "b63a217d-343a-4321-f78c-dd6ddf419f66"
      },
      "source": [
        "#Exporting amounts\n",
        "\n",
        "import lexnlp.extract.en.amounts\n",
        "try:\n",
        "  print(list(lexnlp.extract.en.amounts.get_amounts(data)))\n",
        "except:\n",
        "  print(None)"
      ],
      "execution_count": 35,
      "outputs": [
        {
          "output_type": "stream",
          "text": [
            "[5.0, 740.0, 1843.0, 2.0, 1.0, 4.0, 2.0, 1821.0, 5.0, 1.0, 1840.0, 3777, 80.0, 100.0, 30, 1839.0, 741.0, 22, 1840.0, 14000, 120, 1, 1840.0, 3, 4, 1, 1.0, 1840.0, 2.0, 1.0, 361.0, 1.0, 307.0, 6.0, 604.0, 1.0, 2.0, 418.0, 422.0, 7.0, 34.0, 41.0, 167.0, 742.0, 3.0, 112.0, 207.0, 3.0, 338.0, 424.0, 5.0, 26.0, 13.0, 235.0, 8.0, 693.0, 4.0, 1821.0, 167.0, 2.0, 2.0, 216.0, 3.0, 66.0, 4.0, 130.0, 29.0, 2.0, 241.0, 2.0, 332.0, 2.0, 422.0, 9.0, 112.0, 743.0, 9.0, 39.0, 14000, 1840.0, 744.0, 5.0, 182.0, 3.0, 368.0, 1.0, 397.0, 6.0, 604.0, 1, 1821.0, 167.0, 745.0, 4.0, 746.0, 4.0, 210.0, 46.0, 747.0, 5.0, 5.0, 740.0, 1843.0, 284.0, 2019.0, 9.0, 1.0, 55.0, 266.0, 271.0, 1876.0, 2.0, 47.0, 362.0, 376.0, 1872.0, 3.0, 45.0, 329.0, 334.0, 1871.0, 4.0, 31.0, 526.0, 527.0, 1858.0, 5.0, 21.0, 333.0, 335.0, 1852.0, 6.0, 8.0, 145.0, 147.0, 1857.0, 7.0, 65.0, 256.0, 258.0, 3, 1880.0, 8.0, 4.0, 913.0, 914.0, 1887.0, 9.0, 103.0, 464.0, 1936.0, 3.0, 1.0, 9.0, 39.0, 1828.0, 2.0, 2.0, 5.0, 182.0, 1837.0, 2.0, 3.0, 9.0, 108.0, 1812.0, 6, 1, 2.0]\n"
          ],
          "name": "stdout"
        }
      ]
    },
    {
      "cell_type": "code",
      "metadata": {
        "id": "mRQ23IveSRbs",
        "colab_type": "code",
        "colab": {
          "base_uri": "https://localhost:8080/",
          "height": 55
        },
        "outputId": "30cc7f63-87ce-4d37-a36c-446ed8c7ad64"
      },
      "source": [
        "#Extracting citations\n",
        "\n",
        "import lexnlp.extract.en.citations\n",
        "try:\n",
        "  print(list(lexnlp.extract.en.citations.get_citations(data)))\n",
        "except:\n",
        "  print(None)"
      ],
      "execution_count": 36,
      "outputs": [
        {
          "output_type": "stream",
          "text": [
            "[(5, 'Ala.', 'Alabama Reports', 740, None, None, None), (5, 'Ala.', 'Alabama Reports', 740, '1843', None, None), (55, 'Ala.', 'Alabama Reports', 266, '271', None, None), (47, 'Ala.', 'Alabama Reports', 362, '376', None, None), (45, 'Ala.', 'Alabama Reports', 329, '334', None, None), (31, 'Ala.', 'Alabama Reports', 526, '527', None, None), (21, 'Ala.', 'Alabama Reports', 333, '335', None, None), (8, 'Cal.', 'California Reports', 145, '147', None, None), (65, 'Ala.', 'Alabama Reports', 256, '258', None, None), (4, 'S.W.', 'South Western Reporter', 913, '914', None, None), (103, 'A.L.R.', 'American Law Reports', 464, None, None, None), (9, 'Cow.', \"Cowen's Reports\", 39, None, None, None), (5, 'Port.', 'Alabama Reports, Porter', 182, None, None, None), (9, 'Johns.', \"Johnson's Reports\", 108, None, None, None)]\n"
          ],
          "name": "stdout"
        }
      ]
    },
    {
      "cell_type": "code",
      "metadata": {
        "id": "TcbYldkwSU1r",
        "colab_type": "code",
        "colab": {
          "base_uri": "https://localhost:8080/",
          "height": 35
        },
        "outputId": "f33b65b5-4935-4624-eefd-551d03dfcf5a"
      },
      "source": [
        "#Extracting companies\n",
        "\n",
        "import lexnlp.extract.en.entities.nltk_re\n",
        "try:\n",
        "  print(list(lexnlp.extract.en.entities.nltk_re.get_entities.nltk_re.get_companies(data)))\n",
        "except:\n",
        "  print(None)"
      ],
      "execution_count": 37,
      "outputs": [
        {
          "output_type": "stream",
          "text": [
            "None\n"
          ],
          "name": "stdout"
        }
      ]
    },
    {
      "cell_type": "code",
      "metadata": {
        "id": "Mg1CVeO8SYCu",
        "colab_type": "code",
        "colab": {
          "base_uri": "https://localhost:8080/",
          "height": 55
        },
        "outputId": "6589978a-b76a-47a0-a715-534eeb002619"
      },
      "source": [
        "#Extracting condition\n",
        "\n",
        "import lexnlp.extract.en.conditions\n",
        "try:\n",
        "  print(list(lexnlp.extract.en.conditions.get_conditions(data)))\n",
        "except:\n",
        "  print(None)"
      ],
      "execution_count": 40,
      "outputs": [
        {
          "output_type": "stream",
          "text": [
            "[('until', '[2]\\r\\nCreditors’ Remedies\\r\\nLien and Priority\\r\\nUnder St.1821, prohibiting a levy on a crop', ''), ('until', 'on a growing crop, nor does such lien attach', ''), ('if', 'It was proved by the claimants, by the production of a written contract, that Harrison, on the twenty-second of May, 1840, in consideration that the claimants were involved, as indorsers for Burton & Harrison of Sumter county, and were then exposed to an execution, amounting to upwards of fourteen thousand dollars, bargained and sold to the claimants all his growing crop of cotton &c., consisting of one hundred and twenty acres, &c. Allen Harrison promised and obliged himself to give up his crop to the use of the claimants at any time to save them from suffering as his indorsers;', ''), ('when', 'The claimants came from Tennessee, (where they resided) about the first of September, 1840, bringing with them three or four white laborers, and took possession of the crop and slaves, and with the latter, and white laborers, gathered the cotton, prepared it for market, and', ''), ('if', 'The court charged the jury, that the plaintiff had no lien by virtue of his judgment, and execution on the growing crop; that Harrison had a right to convey it, without being in any manner restrained by them; that the writing adduced, was a sale of the crop, but', ''), ('when', 'it was not, and the lien of the fieri facias would have attached upon it,', ''), ('if', 'gathered, yet', ''), ('not subject to', 'the claimants obtained possession on the first of September, and controlled the gathering of the crop, then no lien attached, and it was', ''), ('until', 'Rep, 693;] and', ''), ('until', '167,] which declares it to be lawful to levy an execution on a planted crop,', ''), ('if', 'It is admitted that the contract between the defendant in execution, and the claimants, was in good faith,', ''), ('when', 'The defendant in execution might at any time have divested the interest which the contract vested in the claimants, by discharging their liability as his indorsers, or a judgment creditor might have satisfied the lien, and', ''), ('unless', 'We will then consider the writing under which the claimants assert a right, as a mortgage with a power to take possession any time during the year,', ''), ('if', 'Conceding the truth of the facts stated in the bill of exceptions, and we think it will not follow, that the possession of the claimants is a nullity, and that the case must be considered as', ''), ('if', 'The contract contains an express undertaking to give up the crop at any time the claimants might require it for their indemnity, and', ''), ('if', 'they took possession of it in the absence of the grantor, (though without his consent,)', ''), ('if', 'he subsequently acquiesced in it, the inference would be,', ''), ('subject to', 'Mr. Dane, in remarking upon this point, says, “The American editor of Bacon’s Abridgment, says, ‘Wheat growing in the ground is a chattel, and', ''), ('until', 'The first section of the act of 1821, “To prevent sheriffs and other officers from levying executions in certain cases, enacts, that “It shall not be lawful for any sheriff or other officer, to levy a writ of fieri facias or other execution on the planted crop of a debtor, or person against whom an execution may issue,', ''), ('until', 'Now here is an express inhibition to levy an execution on a crop while it remains on, or in the ground, and', ''), ('until', 'If so, the act cited, will only have the effect of keeping the right to levy it in abeyance', ''), ('if', 'The lien and the right to levy are intimately connected, and', ''), ('until', 'That it was competent for the legislature to have made it unlawful to levy an execution on particular property,', ''), ('until', 'If the object was merely to suspend the sale,', ''), ('as soon as', 'The idea that the lien attached upon the planted crop', ''), ('until', 'the execution was delivered to the sheriff, though the right to levy it was postponed', ''), ('if', 'They do not refer to the lien,', ''), ('until', 'they did they would postpone it', ''), ('until', 'the crop was gathered; but it is the levy they relate to and postpone', ''), ('until', '**4 The right to levy an execution on a planted crop, then, being expressly taken away by the statute, the lien which is connected with and consequent upon that right, never attaches', ''), ('if', 'The circuit judge may have mistaken the law in supposing that the contract was a sale, but', ''), ('when', 'There is no assumption of any material fact in the charge; but the possession of the claimant, the time', ''), ('if', 'acquired, the gathering of the crop, &c., are all referred to the determination of the jury; who are instructed,', ''), ('until', '**4 The statute which presents the question before the court is, that “it shall not be lawful for any sheriff or other officer to levy a writ of fieei facias or other execution, on the planted crop of a debtor, or person against whom an execution may issue,', ''), ('subject to', 'The policy of the State, as indicated by these statutes, is undeniably that all the property of a debtor, real and personal, to which he has a legal title, shall be', ''), ('until', 'The mischief which the statute designed to remedy was, the sacrifice which would be necessarily made by the sale of an immature crop: the statute enables the debtor to retain it', ''), ('if', '**5', ''), ('until', 'The sheriff is forbidden to levy on a “planted crop”', ''), ('if', 'Now,', ''), ('until', 'This, I feel a thorough conviction, was not the intention of the legislature; but that it was to secure him from loss, by prohibiting a levy and sale of the crop,', ''), ('when', 'it was gathered,', ''), ('subject to', 'Growing crops as', ''), ('subject to', '464\\r\\nGenerally, at common law, growing crops raised by annual planting, while still attached to the soil, are regarded as personal chattels,', ''), ('where', 'And', '')]\n"
          ],
          "name": "stdout"
        }
      ]
    },
    {
      "cell_type": "code",
      "metadata": {
        "id": "GRLfYQ1kScqB",
        "colab_type": "code",
        "colab": {
          "base_uri": "https://localhost:8080/",
          "height": 55
        },
        "outputId": "30bdadf3-a748-4874-db6b-01baf3bfe19d"
      },
      "source": [
        "#Extracting constraint\n",
        "\n",
        "import lexnlp.extract.en.constraints\n",
        "try:\n",
        "  print(list(lexnlp.extract.en.constraints.get_constraints(data)))\n",
        "except:\n",
        "  print(None)"
      ],
      "execution_count": 41,
      "outputs": [
        {
          "output_type": "stream",
          "text": [
            "[('after', 'on a growing crop, nor does such lien attach until', ''), ('after', '', ' and that alias and pluries fieri facias’, issued regularly up to the time levy was made; that the cotton levied on was growed on the plantation of harrison, and cultivated by the hands in his service.'), ('first of', 'the claimants came from tennessee, (where they resided) about the', ''), ('first of', 'the court charged the jury, that the plaintiff had no lien by virtue of his judgment, and execution on the growing crop; that harrison had a right to convey it, without being in any manner restrained by them; that the writing adduced, was a sale of the crop, but if it was not, and the lien of the fieri facias would have attached upon it, when gathered, yet if the claimants obtained possession on the', ''), ('after', 'it merely inhibits the levy, but the lien attaches, and a levy and sale may be made', ''), ('more than', 'taking this to be clear *744 law, and it will be seen, that the defendant in execution at the time of the levy had nothing', ''), ('before', 'it has been frequently mooted whether, at common law, corn, &c.,', ''), ('before', '**4 the statute which presents the question', ''), ('after', 'now, if the view taken by the majority of the court, is correct, the right secured to the plaintiff in execution, of levying on the crop', ''), ('before', 'tried', ''), ('before', 'tried', ''), ('before', 'tried', ''), ('before', 'tried', ''), ('before', 'tried', ''), ('before', 'tried', '')]\n"
          ],
          "name": "stdout"
        }
      ]
    },
    {
      "cell_type": "code",
      "metadata": {
        "id": "fGwPkDwHSxZS",
        "colab_type": "code",
        "colab": {
          "base_uri": "https://localhost:8080/",
          "height": 35
        },
        "outputId": "254b39f0-6880-45b9-9fe4-7478af5ee4f0"
      },
      "source": [
        "#Extracting copyright\n",
        "\n",
        "import lexnlp.extract.en.copyright\n",
        "try:\n",
        "  print(list(lexnlp.extract.en.copyright.get_copyright(data)))\n",
        "except:\n",
        "  print(None)"
      ],
      "execution_count": 42,
      "outputs": [
        {
          "output_type": "stream",
          "text": [
            "[('©', '2019', 'Thomson Reuters. No')]\n"
          ],
          "name": "stdout"
        }
      ]
    },
    {
      "cell_type": "code",
      "metadata": {
        "id": "Noq7PPxFS0Xi",
        "colab_type": "code",
        "colab": {
          "base_uri": "https://localhost:8080/",
          "height": 35
        },
        "outputId": "4ff0cc82-09e8-494f-e853-fc6bb9351f09"
      },
      "source": [
        "#Extracting courts\n",
        "\n",
        "import lexnlp.extract.en.courts\n",
        "try:\n",
        "  print(list(lexnlp.extract.en.courts.get_courts(data)))\n",
        "except:\n",
        "  print(None)"
      ],
      "execution_count": 44,
      "outputs": [
        {
          "output_type": "stream",
          "text": [
            "None\n"
          ],
          "name": "stdout"
        }
      ]
    },
    {
      "cell_type": "code",
      "metadata": {
        "id": "dbYyQ5W4S4p0",
        "colab_type": "code",
        "colab": {
          "base_uri": "https://localhost:8080/",
          "height": 35
        },
        "outputId": "1cf4e455-9d7f-482e-bd75-60625ad35cbb"
      },
      "source": [
        "#Extracting CUSIP\n",
        "\n",
        "import lexnlp.extract.en.cusip\n",
        "try:\n",
        "  print(lexnlp.extract.en.cusip.get_cusip_list(data))\n",
        "except:\n",
        "  print(None)"
      ],
      "execution_count": 45,
      "outputs": [
        {
          "output_type": "stream",
          "text": [
            "[]\n"
          ],
          "name": "stdout"
        }
      ]
    },
    {
      "cell_type": "code",
      "metadata": {
        "id": "OICYA9GiTGjE",
        "colab_type": "code",
        "colab": {
          "base_uri": "https://localhost:8080/",
          "height": 161
        },
        "outputId": "6364d5be-6994-4f2d-83aa-3a60cf37b790"
      },
      "source": [
        "#Extracting dates\n",
        "\n",
        "import lexnlp.extract.en.dates\n",
        "try:\n",
        "  print(list(lexnlp.extract.en.dates.get_dates(data)))\n",
        "except:\n",
        "  print(None)"
      ],
      "execution_count": 46,
      "outputs": [
        {
          "output_type": "stream",
          "text": [
            "/usr/local/lib/python3.6/dist-packages/sklearn/base.py:318: UserWarning: Trying to unpickle estimator SelectKBest from version 0.19.0 when using version 0.22.1. This might lead to breaking code or invalid results. Use at your own risk.\n",
            "  collected_tags = _update_if_consistent(collected_tags,\n",
            "/usr/local/lib/python3.6/dist-packages/sklearn/base.py:318: UserWarning: Trying to unpickle estimator LogisticRegressionCV from version 0.19.0 when using version 0.22.1. This might lead to breaking code or invalid results. Use at your own risk.\n",
            "  collected_tags = _update_if_consistent(collected_tags,\n",
            "/usr/local/lib/python3.6/dist-packages/sklearn/base.py:318: UserWarning: Trying to unpickle estimator Pipeline from version 0.19.0 when using version 0.22.1. This might lead to breaking code or invalid results. Use at your own risk.\n",
            "  collected_tags = _update_if_consistent(collected_tags,\n"
          ],
          "name": "stderr"
        },
        {
          "output_type": "stream",
          "text": [
            "[datetime.date(2020, 6, 1), datetime.date(1840, 11, 1), datetime.date(1839, 10, 1), datetime.date(1840, 5, 1), datetime.date(1840, 9, 1), datetime.date(1840, 5, 1), datetime.date(1840, 5, 1), datetime.date(2020, 12, 1), datetime.date(2020, 12, 1), datetime.date(2020, 1, 1), datetime.date(2020, 1, 1), datetime.date(2020, 1, 1), datetime.date(2020, 3, 21), datetime.date(2020, 6, 1), datetime.date(2020, 7, 1), datetime.date(2020, 11, 1), datetime.date(1887, 5, 1)]\n"
          ],
          "name": "stdout"
        }
      ]
    },
    {
      "cell_type": "code",
      "metadata": {
        "id": "vma-Rz3tTeWY",
        "colab_type": "code",
        "colab": {
          "base_uri": "https://localhost:8080/",
          "height": 35
        },
        "outputId": "b084cc16-b583-4c5e-bee6-89a4a5ba5ed3"
      },
      "source": [
        "#Extracting definition\n",
        "\n",
        "import lexnlp.extract.en.definitions\n",
        "try:\n",
        "  print(list(lexnlp.extract.en.definitions.get_definitions(data)))\n",
        "except:\n",
        "  print(None)"
      ],
      "execution_count": 50,
      "outputs": [
        {
          "output_type": "stream",
          "text": [
            "[]\n"
          ],
          "name": "stdout"
        }
      ]
    },
    {
      "cell_type": "code",
      "metadata": {
        "id": "hIOHBd33TynU",
        "colab_type": "code",
        "colab": {
          "base_uri": "https://localhost:8080/",
          "height": 35
        },
        "outputId": "beb561d2-815c-4ea6-f336-54aac7a6f4d1"
      },
      "source": [
        "#Extracting distances\n",
        "\n",
        "import lexnlp.extract.en.distances\n",
        "try:\n",
        "  print(list(lexnlp.extract.en.distances.get_distances(data)))\n",
        "except:\n",
        "  print(None)"
      ],
      "execution_count": 51,
      "outputs": [
        {
          "output_type": "stream",
          "text": [
            "[]\n"
          ],
          "name": "stdout"
        }
      ]
    },
    {
      "cell_type": "code",
      "metadata": {
        "id": "k1hHU3ulT5M8",
        "colab_type": "code",
        "colab": {
          "base_uri": "https://localhost:8080/",
          "height": 35
        },
        "outputId": "0bbcf580-8292-44dd-89a0-661afa2ba047"
      },
      "source": [
        "#Extracting durations\n",
        "\n",
        "import lexnlp.extract.en.durations\n",
        "try:\n",
        "  print(list(lexnlp.extract.en.durations.get_durations(data)))\n",
        "except:\n",
        "  print(None)"
      ],
      "execution_count": 52,
      "outputs": [
        {
          "output_type": "stream",
          "text": [
            "[('second', 20.0, 0.00023148148148148146), ('year', 6.0, 2190.0)]\n"
          ],
          "name": "stdout"
        }
      ]
    },
    {
      "cell_type": "code",
      "metadata": {
        "id": "b5da9pErUB-4",
        "colab_type": "code",
        "colab": {
          "base_uri": "https://localhost:8080/",
          "height": 35
        },
        "outputId": "69288831-fc36-4b90-9e61-f09054305f72"
      },
      "source": [
        "#Extracting geographic and geopolitical entities\n",
        "\n",
        "import lexnlp.extract.en.geoentities \n",
        "try:\n",
        "  print(list(lexnlp.extract.en.geoentities.get_geoentities(data)))\n",
        "except:\n",
        "  print(None)\n"
      ],
      "execution_count": 54,
      "outputs": [
        {
          "output_type": "stream",
          "text": [
            "None\n"
          ],
          "name": "stdout"
        }
      ]
    },
    {
      "cell_type": "code",
      "metadata": {
        "id": "5Yy1yla4ULvL",
        "colab_type": "code",
        "colab": {
          "base_uri": "https://localhost:8080/",
          "height": 35
        },
        "outputId": "d7355034-fcf3-49aa-bfe2-c1272384e45a"
      },
      "source": [
        "#Extracting currency\n",
        "\n",
        "import lexnlp.extract.en.money\n",
        "try:\n",
        "  print(list(lexnlp.extract.en.money.get_money(data)))\n",
        "except:\n",
        "  print(None)"
      ],
      "execution_count": 55,
      "outputs": [
        {
          "output_type": "stream",
          "text": [
            "[(100.0, 'USD'), (14000, 'USD'), (14000, 'USD')]\n"
          ],
          "name": "stdout"
        }
      ]
    },
    {
      "cell_type": "code",
      "metadata": {
        "id": "QRvzW9AzUP-b",
        "colab_type": "code",
        "colab": {
          "base_uri": "https://localhost:8080/",
          "height": 35
        },
        "outputId": "f3d2912c-27ac-4902-b259-0ae8184e06aa"
      },
      "source": [
        "# Extracting percentage \n",
        "\n",
        "import lexnlp.extract.en.percents\n",
        "try:\n",
        "  print(list(lexnlp.extract.en.percents.get_percents(data)))\n",
        "except:\n",
        "  print(None)"
      ],
      "execution_count": 56,
      "outputs": [
        {
          "output_type": "stream",
          "text": [
            "[]\n"
          ],
          "name": "stdout"
        }
      ]
    },
    {
      "cell_type": "code",
      "metadata": {
        "id": "AgqnRDsiUU9H",
        "colab_type": "code",
        "colab": {
          "base_uri": "https://localhost:8080/",
          "height": 35
        },
        "outputId": "8644fae6-f4d1-4e0e-a35f-8cc7587ecf88"
      },
      "source": [
        "#Extracting PII\n",
        "\n",
        "import lexnlp.extract.en.pii\n",
        "try:\n",
        "  print(list(lexnlp.extract.en.pii.get_pii(data)))\n",
        "except:\n",
        "  print(None)"
      ],
      "execution_count": 58,
      "outputs": [
        {
          "output_type": "stream",
          "text": [
            "[]\n"
          ],
          "name": "stdout"
        }
      ]
    },
    {
      "cell_type": "code",
      "metadata": {
        "id": "UW3_kpayUbgT",
        "colab_type": "code",
        "colab": {
          "base_uri": "https://localhost:8080/",
          "height": 35
        },
        "outputId": "f20220da-683a-4cb1-e0e8-f34da14625f6"
      },
      "source": [
        "#Extracting ratios\n",
        "\n",
        "import lexnlp.extract.en.ratios\n",
        "try:\n",
        "  print(list(lexnlp.extract.en.ratios.get_ratios(data)))\n",
        "except:\n",
        "  print(None)"
      ],
      "execution_count": 59,
      "outputs": [
        {
          "output_type": "stream",
          "text": [
            "[]\n"
          ],
          "name": "stdout"
        }
      ]
    },
    {
      "cell_type": "code",
      "metadata": {
        "id": "0cFId681UfkV",
        "colab_type": "code",
        "colab": {
          "base_uri": "https://localhost:8080/",
          "height": 35
        },
        "outputId": "7df8fd9c-2a9a-4748-d834-9996e1f6ab64"
      },
      "source": [
        "#Extracting regulations\n",
        "\n",
        "import lexnlp.extract.en.regulations\n",
        "try: \n",
        "  print(list(lexnlp.extract.en.regulations.get_regulations(data)))\n",
        "except:\n",
        "  print(None)"
      ],
      "execution_count": 60,
      "outputs": [
        {
          "output_type": "stream",
          "text": [
            "[]\n"
          ],
          "name": "stdout"
        }
      ]
    },
    {
      "cell_type": "code",
      "metadata": {
        "id": "98kIDE_MUk0y",
        "colab_type": "code",
        "colab": {
          "base_uri": "https://localhost:8080/",
          "height": 35
        },
        "outputId": "263f4f7e-ce06-4706-9533-e4395e5900f2"
      },
      "source": [
        "#Extracting trademarks\n",
        "\n",
        "import lexnlp.extract.en.trademarks\n",
        "try:\n",
        "  print(list(lexnlp.extract.en.trademarks.get_trademarks(data)))\n",
        "except:\n",
        "  print(None)"
      ],
      "execution_count": 61,
      "outputs": [
        {
          "output_type": "stream",
          "text": [
            "[]\n"
          ],
          "name": "stdout"
        }
      ]
    },
    {
      "cell_type": "code",
      "metadata": {
        "id": "zk1iLr-PUrLB",
        "colab_type": "code",
        "colab": {
          "base_uri": "https://localhost:8080/",
          "height": 35
        },
        "outputId": "6585ac60-c255-4796-e08c-c3b847a98590"
      },
      "source": [
        "#Extracting URLs\n",
        "\n",
        "import lexnlp.extract.en.urls\n",
        "try:\n",
        "   print(list(lexnlp.extract.en.urls.get_urls(data)))\n",
        "except:\n",
        "  print(None)"
      ],
      "execution_count": 62,
      "outputs": [
        {
          "output_type": "stream",
          "text": [
            "[]\n"
          ],
          "name": "stdout"
        }
      ]
    },
    {
      "cell_type": "code",
      "metadata": {
        "id": "DSKz4GpDUyfT",
        "colab_type": "code",
        "colab": {
          "base_uri": "https://localhost:8080/",
          "height": 1000
        },
        "outputId": "f535d382-f8f8-422e-937e-00d3cda467ca"
      },
      "source": [
        "!pip install AllenNLP"
      ],
      "execution_count": 63,
      "outputs": [
        {
          "output_type": "stream",
          "text": [
            "Collecting AllenNLP\n",
            "\u001b[?25l  Downloading https://files.pythonhosted.org/packages/bb/bb/041115d8bad1447080e5d1e30097c95e4b66e36074277afce8620a61cee3/allennlp-0.9.0-py3-none-any.whl (7.6MB)\n",
            "\u001b[K     |████████████████████████████████| 7.6MB 2.7MB/s \n",
            "\u001b[?25hRequirement already satisfied: h5py in /usr/local/lib/python3.6/dist-packages (from AllenNLP) (2.8.0)\n",
            "Collecting pytorch-transformers==1.1.0\n",
            "\u001b[?25l  Downloading https://files.pythonhosted.org/packages/50/89/ad0d6bb932d0a51793eaabcf1617a36ff530dc9ab9e38f765a35dc293306/pytorch_transformers-1.1.0-py3-none-any.whl (158kB)\n",
            "\u001b[K     |████████████████████████████████| 163kB 38.8MB/s \n",
            "\u001b[?25hRequirement already satisfied: matplotlib>=2.2.3 in /usr/local/lib/python3.6/dist-packages (from AllenNLP) (3.1.3)\n",
            "Collecting jsonnet>=0.10.0; sys_platform != \"win32\"\n",
            "\u001b[?25l  Downloading https://files.pythonhosted.org/packages/33/b8/a8588d4010f13716a324f55d23999259bad9db2320f4fe919a66b2f651f3/jsonnet-0.15.0.tar.gz (255kB)\n",
            "\u001b[K     |████████████████████████████████| 256kB 44.4MB/s \n",
            "\u001b[?25hCollecting responses>=0.7\n",
            "  Downloading https://files.pythonhosted.org/packages/a5/52/8063322bd9ee6e7921b74fcb730c6ba983ff995ddfabd966bb689e313464/responses-0.10.12-py2.py3-none-any.whl\n",
            "Requirement already satisfied: tqdm>=4.19 in /usr/local/lib/python3.6/dist-packages (from AllenNLP) (4.28.1)\n",
            "Collecting jsonpickle\n",
            "  Downloading https://files.pythonhosted.org/packages/7e/6b/fbb2d499b96861a18c1641f6fefe775110d3faba65c1524950e9ad64824a/jsonpickle-1.3-py2.py3-none-any.whl\n",
            "Collecting overrides\n",
            "  Downloading https://files.pythonhosted.org/packages/72/dd/ac49f9c69540d7e09210415801a05d0a54d4d0ca8401503c46847dacd3a0/overrides-2.8.0.tar.gz\n",
            "Requirement already satisfied: editdistance in /usr/local/lib/python3.6/dist-packages (from AllenNLP) (0.5.3)\n",
            "Collecting tensorboardX>=1.2\n",
            "\u001b[?25l  Downloading https://files.pythonhosted.org/packages/35/f1/5843425495765c8c2dd0784a851a93ef204d314fc87bcc2bbb9f662a3ad1/tensorboardX-2.0-py2.py3-none-any.whl (195kB)\n",
            "\u001b[K     |████████████████████████████████| 204kB 48.6MB/s \n",
            "\u001b[?25hRequirement already satisfied: requests>=2.18 in /usr/local/lib/python3.6/dist-packages (from AllenNLP) (2.22.0)\n",
            "Collecting parsimonious>=0.8.0\n",
            "\u001b[?25l  Downloading https://files.pythonhosted.org/packages/02/fc/067a3f89869a41009e1a7cdfb14725f8ddd246f30f63c645e8ef8a1c56f4/parsimonious-0.8.1.tar.gz (45kB)\n",
            "\u001b[K     |████████████████████████████████| 51kB 5.9MB/s \n",
            "\u001b[?25hRequirement already satisfied: boto3 in /usr/local/lib/python3.6/dist-packages (from AllenNLP) (1.11.15)\n",
            "Collecting conllu==1.3.1\n",
            "  Downloading https://files.pythonhosted.org/packages/ae/54/b0ae1199f3d01666821b028cd967f7c0ac527ab162af433d3da69242cea2/conllu-1.3.1-py2.py3-none-any.whl\n",
            "Requirement already satisfied: sqlparse>=0.2.4 in /usr/local/lib/python3.6/dist-packages (from AllenNLP) (0.3.0)\n",
            "Requirement already satisfied: scipy in /usr/local/lib/python3.6/dist-packages (from AllenNLP) (1.0.0)\n",
            "Collecting ftfy\n",
            "\u001b[?25l  Downloading https://files.pythonhosted.org/packages/ec/d8/5e877ac5e827eaa41a7ea8c0dc1d3042e05d7e337604dc2aedb854e7b500/ftfy-5.7.tar.gz (58kB)\n",
            "\u001b[K     |████████████████████████████████| 61kB 6.3MB/s \n",
            "\u001b[?25hRequirement already satisfied: spacy<2.2,>=2.1.0 in /usr/local/lib/python3.6/dist-packages (from AllenNLP) (2.1.9)\n",
            "Requirement already satisfied: torch>=1.2.0 in /usr/local/lib/python3.6/dist-packages (from AllenNLP) (1.4.0)\n",
            "Requirement already satisfied: scikit-learn in /usr/local/lib/python3.6/dist-packages (from AllenNLP) (0.21.3)\n",
            "Requirement already satisfied: numpy in /usr/local/lib/python3.6/dist-packages (from AllenNLP) (1.17.5)\n",
            "Requirement already satisfied: nltk in /usr/local/lib/python3.6/dist-packages (from AllenNLP) (3.4.5)\n",
            "Requirement already satisfied: pytest in /usr/local/lib/python3.6/dist-packages (from AllenNLP) (3.6.4)\n",
            "Collecting flaky\n",
            "  Downloading https://files.pythonhosted.org/packages/fe/12/0f169abf1aa07c7edef4855cca53703d2e6b7ecbded7829588ac7e7e3424/flaky-3.6.1-py2.py3-none-any.whl\n",
            "Collecting numpydoc>=0.8.0\n",
            "  Downloading https://files.pythonhosted.org/packages/b0/70/4d8c3f9f6783a57ac9cc7a076e5610c0cc4a96af543cafc9247ac307fbfe/numpydoc-0.9.2.tar.gz\n",
            "Collecting pytorch-pretrained-bert>=0.6.0\n",
            "\u001b[?25l  Downloading https://files.pythonhosted.org/packages/d7/e0/c08d5553b89973d9a240605b9c12404bcf8227590de62bae27acbcfe076b/pytorch_pretrained_bert-0.6.2-py3-none-any.whl (123kB)\n",
            "\u001b[K     |████████████████████████████████| 133kB 45.0MB/s \n",
            "\u001b[?25hCollecting flask-cors>=3.0.7\n",
            "  Downloading https://files.pythonhosted.org/packages/78/38/e68b11daa5d613e3a91e4bf3da76c94ac9ee0d9cd515af9c1ab80d36f709/Flask_Cors-3.0.8-py2.py3-none-any.whl\n",
            "Collecting word2number>=1.1\n",
            "  Downloading https://files.pythonhosted.org/packages/4a/29/a31940c848521f0725f0df6b25dca8917f13a2025b0e8fcbe5d0457e45e6/word2number-1.1.zip\n",
            "Requirement already satisfied: unidecode in /usr/local/lib/python3.6/dist-packages (from AllenNLP) (0.4.21)\n",
            "Requirement already satisfied: flask>=1.0.2 in /usr/local/lib/python3.6/dist-packages (from AllenNLP) (1.1.1)\n",
            "Requirement already satisfied: gevent>=1.3.6 in /usr/local/lib/python3.6/dist-packages (from AllenNLP) (1.4.0)\n",
            "Requirement already satisfied: pytz>=2017.3 in /usr/local/lib/python3.6/dist-packages (from AllenNLP) (2018.9)\n",
            "Requirement already satisfied: six in /usr/local/lib/python3.6/dist-packages (from h5py->AllenNLP) (1.12.0)\n",
            "Collecting sentencepiece\n",
            "\u001b[?25l  Downloading https://files.pythonhosted.org/packages/74/f4/2d5214cbf13d06e7cb2c20d84115ca25b53ea76fa1f0ade0e3c9749de214/sentencepiece-0.1.85-cp36-cp36m-manylinux1_x86_64.whl (1.0MB)\n",
            "\u001b[K     |████████████████████████████████| 1.0MB 42.7MB/s \n",
            "\u001b[?25hRequirement already satisfied: regex in /usr/local/lib/python3.6/dist-packages (from pytorch-transformers==1.1.0->AllenNLP) (2017.9.23)\n",
            "Requirement already satisfied: kiwisolver>=1.0.1 in /usr/local/lib/python3.6/dist-packages (from matplotlib>=2.2.3->AllenNLP) (1.1.0)\n",
            "Requirement already satisfied: python-dateutil>=2.1 in /usr/local/lib/python3.6/dist-packages (from matplotlib>=2.2.3->AllenNLP) (2.6.1)\n",
            "Requirement already satisfied: pyparsing!=2.0.4,!=2.1.2,!=2.1.6,>=2.0.1 in /usr/local/lib/python3.6/dist-packages (from matplotlib>=2.2.3->AllenNLP) (2.4.6)\n",
            "Requirement already satisfied: cycler>=0.10 in /usr/local/lib/python3.6/dist-packages (from matplotlib>=2.2.3->AllenNLP) (0.10.0)\n",
            "Requirement already satisfied: protobuf>=3.8.0 in /usr/local/lib/python3.6/dist-packages (from tensorboardX>=1.2->AllenNLP) (3.10.0)\n",
            "Requirement already satisfied: urllib3!=1.25.0,!=1.25.1,<1.26,>=1.21.1 in /usr/local/lib/python3.6/dist-packages (from requests>=2.18->AllenNLP) (1.24.3)\n",
            "Requirement already satisfied: certifi>=2017.4.17 in /usr/local/lib/python3.6/dist-packages (from requests>=2.18->AllenNLP) (2019.11.28)\n",
            "Requirement already satisfied: idna<2.9,>=2.5 in /usr/local/lib/python3.6/dist-packages (from requests>=2.18->AllenNLP) (2.8)\n",
            "Requirement already satisfied: chardet<3.1.0,>=3.0.2 in /usr/local/lib/python3.6/dist-packages (from requests>=2.18->AllenNLP) (3.0.4)\n",
            "Requirement already satisfied: jmespath<1.0.0,>=0.7.1 in /usr/local/lib/python3.6/dist-packages (from boto3->AllenNLP) (0.9.4)\n",
            "Requirement already satisfied: botocore<1.15.0,>=1.14.15 in /usr/local/lib/python3.6/dist-packages (from boto3->AllenNLP) (1.14.15)\n",
            "Requirement already satisfied: s3transfer<0.4.0,>=0.3.0 in /usr/local/lib/python3.6/dist-packages (from boto3->AllenNLP) (0.3.3)\n",
            "Requirement already satisfied: wcwidth in /usr/local/lib/python3.6/dist-packages (from ftfy->AllenNLP) (0.1.8)\n",
            "Requirement already satisfied: thinc<7.1.0,>=7.0.8 in /usr/local/lib/python3.6/dist-packages (from spacy<2.2,>=2.1.0->AllenNLP) (7.0.8)\n",
            "Requirement already satisfied: murmurhash<1.1.0,>=0.28.0 in /usr/local/lib/python3.6/dist-packages (from spacy<2.2,>=2.1.0->AllenNLP) (1.0.2)\n",
            "Requirement already satisfied: wasabi<1.1.0,>=0.2.0 in /usr/local/lib/python3.6/dist-packages (from spacy<2.2,>=2.1.0->AllenNLP) (0.6.0)\n",
            "Requirement already satisfied: blis<0.3.0,>=0.2.2 in /usr/local/lib/python3.6/dist-packages (from spacy<2.2,>=2.1.0->AllenNLP) (0.2.4)\n",
            "Requirement already satisfied: cymem<2.1.0,>=2.0.2 in /usr/local/lib/python3.6/dist-packages (from spacy<2.2,>=2.1.0->AllenNLP) (2.0.3)\n",
            "Requirement already satisfied: preshed<2.1.0,>=2.0.1 in /usr/local/lib/python3.6/dist-packages (from spacy<2.2,>=2.1.0->AllenNLP) (2.0.1)\n",
            "Requirement already satisfied: srsly<1.1.0,>=0.0.6 in /usr/local/lib/python3.6/dist-packages (from spacy<2.2,>=2.1.0->AllenNLP) (1.0.1)\n",
            "Requirement already satisfied: plac<1.0.0,>=0.9.6 in /usr/local/lib/python3.6/dist-packages (from spacy<2.2,>=2.1.0->AllenNLP) (0.9.6)\n",
            "Requirement already satisfied: joblib>=0.11 in /usr/local/lib/python3.6/dist-packages (from scikit-learn->AllenNLP) (0.14.1)\n",
            "Requirement already satisfied: attrs>=17.4.0 in /usr/local/lib/python3.6/dist-packages (from pytest->AllenNLP) (19.3.0)\n",
            "Requirement already satisfied: pluggy<0.8,>=0.5 in /usr/local/lib/python3.6/dist-packages (from pytest->AllenNLP) (0.7.1)\n",
            "Requirement already satisfied: setuptools in /usr/local/lib/python3.6/dist-packages (from pytest->AllenNLP) (45.2.0)\n",
            "Requirement already satisfied: py>=1.5.0 in /usr/local/lib/python3.6/dist-packages (from pytest->AllenNLP) (1.8.1)\n",
            "Requirement already satisfied: atomicwrites>=1.0 in /usr/local/lib/python3.6/dist-packages (from pytest->AllenNLP) (1.3.0)\n",
            "Requirement already satisfied: more-itertools>=4.0.0 in /usr/local/lib/python3.6/dist-packages (from pytest->AllenNLP) (8.2.0)\n",
            "Requirement already satisfied: sphinx>=1.6.5 in /usr/local/lib/python3.6/dist-packages (from numpydoc>=0.8.0->AllenNLP) (1.8.5)\n",
            "Requirement already satisfied: Jinja2>=2.3 in /usr/local/lib/python3.6/dist-packages (from numpydoc>=0.8.0->AllenNLP) (2.11.1)\n",
            "Requirement already satisfied: Werkzeug>=0.15 in /usr/local/lib/python3.6/dist-packages (from flask>=1.0.2->AllenNLP) (1.0.0)\n",
            "Requirement already satisfied: itsdangerous>=0.24 in /usr/local/lib/python3.6/dist-packages (from flask>=1.0.2->AllenNLP) (1.1.0)\n",
            "Requirement already satisfied: click>=5.1 in /usr/local/lib/python3.6/dist-packages (from flask>=1.0.2->AllenNLP) (7.0)\n",
            "Requirement already satisfied: greenlet>=0.4.14; platform_python_implementation == \"CPython\" in /usr/local/lib/python3.6/dist-packages (from gevent>=1.3.6->AllenNLP) (0.4.15)\n",
            "Requirement already satisfied: docutils<0.16,>=0.10 in /usr/local/lib/python3.6/dist-packages (from botocore<1.15.0,>=1.14.15->boto3->AllenNLP) (0.15.2)\n",
            "Requirement already satisfied: Pygments>=2.0 in /usr/local/lib/python3.6/dist-packages (from sphinx>=1.6.5->numpydoc>=0.8.0->AllenNLP) (2.1.3)\n",
            "Requirement already satisfied: sphinxcontrib-websupport in /usr/local/lib/python3.6/dist-packages (from sphinx>=1.6.5->numpydoc>=0.8.0->AllenNLP) (1.2.0)\n",
            "Requirement already satisfied: alabaster<0.8,>=0.7 in /usr/local/lib/python3.6/dist-packages (from sphinx>=1.6.5->numpydoc>=0.8.0->AllenNLP) (0.7.12)\n",
            "Requirement already satisfied: packaging in /usr/local/lib/python3.6/dist-packages (from sphinx>=1.6.5->numpydoc>=0.8.0->AllenNLP) (20.1)\n",
            "Requirement already satisfied: babel!=2.0,>=1.3 in /usr/local/lib/python3.6/dist-packages (from sphinx>=1.6.5->numpydoc>=0.8.0->AllenNLP) (2.8.0)\n",
            "Requirement already satisfied: imagesize in /usr/local/lib/python3.6/dist-packages (from sphinx>=1.6.5->numpydoc>=0.8.0->AllenNLP) (1.2.0)\n",
            "Requirement already satisfied: snowballstemmer>=1.1 in /usr/local/lib/python3.6/dist-packages (from sphinx>=1.6.5->numpydoc>=0.8.0->AllenNLP) (2.0.0)\n",
            "Requirement already satisfied: MarkupSafe>=0.23 in /usr/local/lib/python3.6/dist-packages (from Jinja2>=2.3->numpydoc>=0.8.0->AllenNLP) (1.1.1)\n",
            "Building wheels for collected packages: jsonnet, overrides, parsimonious, ftfy, numpydoc, word2number\n",
            "  Building wheel for jsonnet (setup.py) ... \u001b[?25l\u001b[?25hdone\n",
            "  Created wheel for jsonnet: filename=jsonnet-0.15.0-cp36-cp36m-linux_x86_64.whl size=3320535 sha256=e109d4cc0769a9cfd0f8b0b82a9f7311a97e43e21c422fa8fab8cba8b26bab5e\n",
            "  Stored in directory: /root/.cache/pip/wheels/57/63/2e/da89cfe1ba08550bd7262d5d9c027edc313980c3b85b3b0a38\n",
            "  Building wheel for overrides (setup.py) ... \u001b[?25l\u001b[?25hdone\n",
            "  Created wheel for overrides: filename=overrides-2.8.0-cp36-none-any.whl size=5609 sha256=7d35c58cc93e5d70db444364b27815c82caa70ecbfcaa9c4e494ae6d1dd19704\n",
            "  Stored in directory: /root/.cache/pip/wheels/df/f1/ba/eaf6cd7d284d2f257dc71436ce72d25fd3be5a5813a37794ab\n",
            "  Building wheel for parsimonious (setup.py) ... \u001b[?25l\u001b[?25hdone\n",
            "  Created wheel for parsimonious: filename=parsimonious-0.8.1-cp36-none-any.whl size=42712 sha256=0ec694a13c9bfa817f34e2e1275db158f7ead93597ed09e2ce49fbf4c6aafc04\n",
            "  Stored in directory: /root/.cache/pip/wheels/b7/8d/e7/a0e74217da5caeb3c1c7689639b6d28ddbf9985b840bc96a9a\n",
            "  Building wheel for ftfy (setup.py) ... \u001b[?25l\u001b[?25hdone\n",
            "  Created wheel for ftfy: filename=ftfy-5.7-cp36-none-any.whl size=44593 sha256=65c4c1ca2e78a67ecc311af3667465f58ed1ced4c3516fe9af55757114032946\n",
            "  Stored in directory: /root/.cache/pip/wheels/8e/da/59/6c8925d571aacade638a0f515960c21c0887af1bfe31908fbf\n",
            "  Building wheel for numpydoc (setup.py) ... \u001b[?25l\u001b[?25hdone\n",
            "  Created wheel for numpydoc: filename=numpydoc-0.9.2-cp36-none-any.whl size=31893 sha256=fdc189ce8299b34aae1e6146b88e6c6dd45b6aad93eb1581e7f43232c73533f5\n",
            "  Stored in directory: /root/.cache/pip/wheels/96/f3/52/25c8e1f40637661d27feebc61dae16b84c7cdd93b8bc3d7486\n",
            "  Building wheel for word2number (setup.py) ... \u001b[?25l\u001b[?25hdone\n",
            "  Created wheel for word2number: filename=word2number-1.1-cp36-none-any.whl size=5587 sha256=fd49e16252ae1ff86a3471f0ae9474e7439ffe7b9bf54b27f363bd4cb1fa64ce\n",
            "  Stored in directory: /root/.cache/pip/wheels/46/2f/53/5f5c1d275492f2fce1cdab9a9bb12d49286dead829a4078e0e\n",
            "Successfully built jsonnet overrides parsimonious ftfy numpydoc word2number\n",
            "Installing collected packages: sentencepiece, pytorch-transformers, jsonnet, responses, jsonpickle, overrides, tensorboardX, parsimonious, conllu, ftfy, flaky, numpydoc, pytorch-pretrained-bert, flask-cors, word2number, AllenNLP\n",
            "Successfully installed AllenNLP-0.9.0 conllu-1.3.1 flaky-3.6.1 flask-cors-3.0.8 ftfy-5.7 jsonnet-0.15.0 jsonpickle-1.3 numpydoc-0.9.2 overrides-2.8.0 parsimonious-0.8.1 pytorch-pretrained-bert-0.6.2 pytorch-transformers-1.1.0 responses-0.10.12 sentencepiece-0.1.85 tensorboardX-2.0 word2number-1.1\n"
          ],
          "name": "stdout"
        }
      ]
    },
    {
      "cell_type": "code",
      "metadata": {
        "id": "-MNqsHO6VLN9",
        "colab_type": "code",
        "colab": {
          "base_uri": "https://localhost:8080/",
          "height": 90
        },
        "outputId": "3155b5a9-c793-4d51-d594-e04fa176938b"
      },
      "source": [
        "from allennlp.predictors.predictor import Predictor\n",
        "entity_predictor = Predictor.from_path(\"https://s3-us-west-2.amazonaws.com/allennlp/models/fine-grained-ner-model-elmo-2018.12.21.tar.gz\")"
      ],
      "execution_count": 64,
      "outputs": [
        {
          "output_type": "stream",
          "text": [
            "100%|██████████| 724601837/724601837 [00:23<00:00, 30812175.29B/s]\n",
            "/usr/local/lib/python3.6/dist-packages/allennlp/data/token_indexers/token_characters_indexer.py:56: UserWarning: You are using the default value (0) of `min_padding_length`, which can cause some subtle bugs (more info see https://github.com/allenai/allennlp/issues/1954). Strongly recommend to set a value, usually the maximum size of the convolutional layer size when using CnnEncoder.\n",
            "  UserWarning)\n"
          ],
          "name": "stderr"
        }
      ]
    },
    {
      "cell_type": "code",
      "metadata": {
        "id": "0P2lCsbCVbMh",
        "colab_type": "code",
        "colab": {
          "base_uri": "https://localhost:8080/",
          "height": 1000
        },
        "outputId": "270411bf-508d-4c9b-fd77-f28ca1362b2b"
      },
      "source": [
        "\n",
        "def process_allen_results(allen_results):\n",
        "  ents = set()\n",
        "  for word, tag in zip(allen_results[\"words\"], allen_results[\"tags\"]):\n",
        "    if tag != \"O\":\n",
        "      ent_position, ent_type = tag.split(\"-\")\n",
        "      if ent_type == \"PERSON\" or ent_type == \"GPE\":\n",
        "        ents.add((word,ent_type))\n",
        "  return ents\n",
        "\n",
        "for row in data.split(\".\"):\n",
        "  if(len(row) > 3):\n",
        "   per_results = entity_predictor.predict(sentence=row)\n",
        "   result = process_allen_results(per_results)\n",
        "   if(len(result) > 0):\n",
        "       print(result)"
      ],
      "execution_count": 65,
      "outputs": [
        {
          "output_type": "stream",
          "text": [
            "{('ADAMS', 'PERSON')}\n",
            "{('TANNER', 'PERSON')}\n",
            "{('Sumter', 'GPE')}\n",
            "{('Harrison', 'PERSON'), ('Allen', 'PERSON')}\n",
            "{('Harrison', 'PERSON'), ('Allen', 'PERSON')}\n",
            "{('Harrison', 'PERSON')}\n",
            "{('Harrison', 'PERSON'), ('Gainesville', 'GPE'), ('Allen', 'PERSON')}\n",
            "{('Tennessee', 'GPE'), ('Gainesville', 'GPE')}\n",
            "{('Harrison', 'PERSON')}\n",
            "{('Harrison', 'PERSON')}\n",
            "{('SMITH', 'PERSON')}\n",
            "{('Harrison', 'PERSON')}\n",
            "{('Bos', 'PERSON')}\n",
            "{('Aik', 'PERSON')}\n",
            "{('Harrison', 'PERSON')}\n",
            "{('Chit', 'PERSON')}\n",
            "{('Harrison', 'PERSON')}\n",
            "{('MURPHY', 'PERSON')}\n",
            "{('Aik', 'PERSON'), ('JONES', 'PERSON')}\n",
            "{('Stewart', 'PERSON')}\n",
            "{('Sawyer', 'PERSON')}\n",
            "{('Perkins', 'PERSON'), ('Elliott', 'PERSON')}\n",
            "{('Dane', 'PERSON')}\n",
            "{('Salk', 'PERSON'), ('Poole', 'PERSON')}\n",
            "{('Bos', 'PERSON')}\n",
            "{('Foot', 'PERSON')}\n",
            "{('Aik', 'PERSON')}\n",
            "{('Mansony', 'PERSON')}\n",
            "{('Gary', 'PERSON')}\n",
            "{('ORMOND', 'PERSON')}\n",
            "{('Clay', 'PERSON')}\n",
            "{('Booker', 'PERSON')}\n",
            "{('SAFFOLD', 'PERSON')}\n",
            "{('Ala', 'PERSON'), ('Marshall', 'PERSON')}\n",
            "{('D', 'PERSON'), ('JOHN', 'PERSON')}\n",
            "{('CUNNINGHAM', 'PERSON')}\n",
            "{('Bibb', 'PERSON')}\n",
            "{('D', 'PERSON'), ('JOHN', 'PERSON')}\n",
            "{('CUNNINGHAM', 'PERSON')}\n",
            "{('McKenzie', 'PERSON')}\n",
            "{('Ala', 'PERSON')}\n",
            "{('HALE', 'PERSON')}\n",
            "{('Evans', 'PERSON')}\n",
            "{('21', 'PERSON'), ('Lamar', 'PERSON'), ('Ala', 'PERSON')}\n",
            "{('Ala', 'PERSON')}\n",
            "{('MOORE', 'PERSON')}\n",
            "{('Bowman', 'PERSON')}\n",
            "{('Jacob', 'PERSON'), ('S', 'PERSON')}\n",
            "{('Cohen', 'PERSON')}\n",
            "{('WHITLOCK', 'PERSON')}\n",
            "{('Edwards', 'PERSON')}\n",
            "{('Tenn', 'GPE')}\n",
            "{('county', 'GPE'), ('Weakley', 'GPE')}\n",
            "{('Austin', 'PERSON')}\n",
            "{('Sawyer', 'PERSON')}\n",
            "{('Perkins', 'PERSON')}\n",
            "{('Ala', 'GPE')}\n",
            "{('Stewart', 'PERSON')}\n"
          ],
          "name": "stdout"
        }
      ]
    }
  ]
}