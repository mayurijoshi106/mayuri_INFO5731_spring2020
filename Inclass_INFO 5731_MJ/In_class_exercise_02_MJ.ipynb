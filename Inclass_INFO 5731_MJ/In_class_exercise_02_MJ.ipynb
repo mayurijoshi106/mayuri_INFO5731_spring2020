{
  "nbformat": 4,
  "nbformat_minor": 0,
  "metadata": {
    "colab": {
      "name": "Copy of In_class_exercise_02.ipynb",
      "provenance": [],
      "collapsed_sections": [],
      "include_colab_link": true
    },
    "kernelspec": {
      "name": "python3",
      "display_name": "Python 3"
    }
  },
  "cells": [
    {
      "cell_type": "markdown",
      "metadata": {
        "id": "view-in-github",
        "colab_type": "text"
      },
      "source": [
        "<a href=\"https://colab.research.google.com/github/mayurijoshi106/mayuri_INFO5731_spring2020/blob/master/Inclass_INFO%205731_MJ/In_class_exercise_02_MJ.ipynb\" target=\"_parent\"><img src=\"https://colab.research.google.com/assets/colab-badge.svg\" alt=\"Open In Colab\"/></a>"
      ]
    },
    {
      "cell_type": "markdown",
      "metadata": {
        "id": "oo5bsEh2eeWi",
        "colab_type": "text"
      },
      "source": [
        "# **The second In-class-exercise**\n"
      ]
    },
    {
      "cell_type": "markdown",
      "metadata": {
        "id": "2sPQ58dIeqgp",
        "colab_type": "text"
      },
      "source": [
        "(1) Write a Python program to find the duplicate elements in a given array of integers. Return -1 If there are no such elements."
      ]
    },
    {
      "cell_type": "code",
      "metadata": {
        "id": "mnrvKMFTeoJR",
        "colab_type": "code",
        "outputId": "ba0cc909-927d-468a-e59b-73c052d8d230",
        "colab": {
          "base_uri": "https://localhost:8080/",
          "height": 34
        }
      },
      "source": [
        "def dup_element(arr, x_size): \n",
        "  print(\"Duplicate elements in given array \", end = '')\n",
        "  for i in range(0, x_size):\n",
        "    for j in range(i+1, x_size):\n",
        "      if arr[i] == arr[j]:\n",
        "        print (arr[i], end = ' ')\n",
        "\n",
        "intarray = [2, 10, 10, 12, 12, 18, 23, 25, 30]\n",
        "x = len(intarray)\n",
        "dup_element(intarray, x)"
      ],
      "execution_count": 0,
      "outputs": [
        {
          "output_type": "stream",
          "text": [
            "Duplicate elements in given array 10 12 "
          ],
          "name": "stdout"
        }
      ]
    },
    {
      "cell_type": "markdown",
      "metadata": {
        "id": "YYrH6n6IhZoQ",
        "colab_type": "text"
      },
      "source": [
        "(2) Write a Python program to select all the Sundays of a specified year.\n",
        "\n"
      ]
    },
    {
      "cell_type": "code",
      "metadata": {
        "id": "OSfPLd23eLpX",
        "colab_type": "code",
        "outputId": "4bd240a7-ea1a-442d-db12-aea88c081e81",
        "colab": {
          "base_uri": "https://localhost:8080/",
          "height": 890
        }
      },
      "source": [
        "from datetime import date, timedelta \n",
        "def count_sundays(year):   \n",
        "       dt = date(year, 1, 1)         \n",
        "       dt += timedelta(days = 6 - dt.weekday())    \n",
        "       while dt.year == year:  \n",
        "          yield dt  \n",
        "          dt += timedelta(days = 7)  \n",
        "            \n",
        "for x in count_sundays(2020):  \n",
        "   print(x)  \n"
      ],
      "execution_count": 0,
      "outputs": [
        {
          "output_type": "stream",
          "text": [
            "2020-01-05\n",
            "2020-01-12\n",
            "2020-01-19\n",
            "2020-01-26\n",
            "2020-02-02\n",
            "2020-02-09\n",
            "2020-02-16\n",
            "2020-02-23\n",
            "2020-03-01\n",
            "2020-03-08\n",
            "2020-03-15\n",
            "2020-03-22\n",
            "2020-03-29\n",
            "2020-04-05\n",
            "2020-04-12\n",
            "2020-04-19\n",
            "2020-04-26\n",
            "2020-05-03\n",
            "2020-05-10\n",
            "2020-05-17\n",
            "2020-05-24\n",
            "2020-05-31\n",
            "2020-06-07\n",
            "2020-06-14\n",
            "2020-06-21\n",
            "2020-06-28\n",
            "2020-07-05\n",
            "2020-07-12\n",
            "2020-07-19\n",
            "2020-07-26\n",
            "2020-08-02\n",
            "2020-08-09\n",
            "2020-08-16\n",
            "2020-08-23\n",
            "2020-08-30\n",
            "2020-09-06\n",
            "2020-09-13\n",
            "2020-09-20\n",
            "2020-09-27\n",
            "2020-10-04\n",
            "2020-10-11\n",
            "2020-10-18\n",
            "2020-10-25\n",
            "2020-11-01\n",
            "2020-11-08\n",
            "2020-11-15\n",
            "2020-11-22\n",
            "2020-11-29\n",
            "2020-12-06\n",
            "2020-12-13\n",
            "2020-12-20\n",
            "2020-12-27\n"
          ],
          "name": "stdout"
        }
      ]
    },
    {
      "cell_type": "markdown",
      "metadata": {
        "id": "UIpziZ6Sjie-",
        "colab_type": "text"
      },
      "source": [
        "(3) Python files reading and writing. Download the “[exercise_02_data _collection.zip](https://github.com/unt-iialab/INFO5731_Spring2020/blob/master/In_class_exercise/exercise_02_data_collection.zip)” to your local and un-zip it.\n",
        "\n",
        "*   Write a program to read all the txt files and save the sentences in all the files into one csv file with two columns, the first column is sentence id (txt file name+sentence line number), the second column is the sentence text content.\n",
        "*   Remove all the punctuations from the sentences, save the processed sentences into a new column in the same csv file.\n",
        "*   Ask the user to enter a word, return all the sentences that include this word, three kinds of information should be returned: sentence id, sentence text content, the count that user input word appear in the sentence..\n",
        "\n"
      ]
    },
    {
      "cell_type": "code",
      "metadata": {
        "id": "f3CUsrWOj1Xy",
        "colab_type": "code",
        "outputId": "4180a5e1-8434-4824-f681-e58082f5ebee",
        "colab": {
          "resources": {
            "http://localhost:8080/nbextensions/google.colab/files.js": {
              "data": "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",
              "ok": true,
              "headers": [
                [
                  "content-type",
                  "application/javascript"
                ]
              ],
              "status": 200,
              "status_text": ""
            }
          },
          "base_uri": "https://localhost:8080/",
          "height": 1000
        }
      },
      "source": [
        "import os\n",
        "from google.colab import files\n",
        "load =files.upload()"
      ],
      "execution_count": 9,
      "outputs": [
        {
          "output_type": "display_data",
          "data": {
            "text/html": [
              "\n",
              "     <input type=\"file\" id=\"files-773866a6-82b0-48b9-824e-8ba63c62de25\" name=\"files[]\" multiple disabled />\n",
              "     <output id=\"result-773866a6-82b0-48b9-824e-8ba63c62de25\">\n",
              "      Upload widget is only available when the cell has been executed in the\n",
              "      current browser session. Please rerun this cell to enable.\n",
              "      </output>\n",
              "      <script src=\"/nbextensions/google.colab/files.js\"></script> "
            ],
            "text/plain": [
              "<IPython.core.display.HTML object>"
            ]
          },
          "metadata": {
            "tags": []
          }
        },
        {
          "output_type": "stream",
          "text": [
            "Saving ARTHROTEC.1.txt to ARTHROTEC.1 (1).txt\n",
            "Saving ARTHROTEC.2.txt to ARTHROTEC.2 (1).txt\n",
            "Saving ARTHROTEC.3.txt to ARTHROTEC.3 (1).txt\n",
            "Saving ARTHROTEC.4.txt to ARTHROTEC.4 (1).txt\n",
            "Saving ARTHROTEC.5.txt to ARTHROTEC.5 (1).txt\n",
            "Saving ARTHROTEC.6.txt to ARTHROTEC.6.txt\n",
            "Saving ARTHROTEC.7.txt to ARTHROTEC.7.txt\n",
            "Saving ARTHROTEC.8.txt to ARTHROTEC.8.txt\n",
            "Saving ARTHROTEC.9.txt to ARTHROTEC.9.txt\n",
            "Saving ARTHROTEC.10.txt to ARTHROTEC.10.txt\n",
            "Saving ARTHROTEC.11.txt to ARTHROTEC.11.txt\n",
            "Saving ARTHROTEC.12.txt to ARTHROTEC.12.txt\n",
            "Saving ARTHROTEC.13.txt to ARTHROTEC.13.txt\n",
            "Saving ARTHROTEC.14.txt to ARTHROTEC.14.txt\n",
            "Saving ARTHROTEC.15.txt to ARTHROTEC.15.txt\n",
            "Saving ARTHROTEC.16.txt to ARTHROTEC.16.txt\n",
            "Saving ARTHROTEC.17.txt to ARTHROTEC.17.txt\n",
            "Saving ARTHROTEC.18.txt to ARTHROTEC.18.txt\n",
            "Saving ARTHROTEC.19.txt to ARTHROTEC.19.txt\n",
            "Saving ARTHROTEC.20.txt to ARTHROTEC.20.txt\n",
            "Saving ARTHROTEC.21.txt to ARTHROTEC.21.txt\n",
            "Saving ARTHROTEC.22.txt to ARTHROTEC.22.txt\n",
            "Saving ARTHROTEC.23.txt to ARTHROTEC.23.txt\n",
            "Saving ARTHROTEC.24.txt to ARTHROTEC.24.txt\n",
            "Saving ARTHROTEC.25.txt to ARTHROTEC.25.txt\n",
            "Saving ARTHROTEC.26.txt to ARTHROTEC.26.txt\n",
            "Saving ARTHROTEC.27.txt to ARTHROTEC.27.txt\n",
            "Saving ARTHROTEC.28.txt to ARTHROTEC.28.txt\n",
            "Saving ARTHROTEC.29.txt to ARTHROTEC.29.txt\n",
            "Saving ARTHROTEC.30.txt to ARTHROTEC.30.txt\n",
            "Saving ARTHROTEC.31.txt to ARTHROTEC.31.txt\n",
            "Saving ARTHROTEC.32.txt to ARTHROTEC.32.txt\n",
            "Saving ARTHROTEC.33.txt to ARTHROTEC.33.txt\n",
            "Saving ARTHROTEC.34.txt to ARTHROTEC.34.txt\n",
            "Saving ARTHROTEC.35.txt to ARTHROTEC.35.txt\n",
            "Saving ARTHROTEC.36.txt to ARTHROTEC.36.txt\n",
            "Saving ARTHROTEC.37.txt to ARTHROTEC.37.txt\n",
            "Saving ARTHROTEC.38.txt to ARTHROTEC.38.txt\n",
            "Saving ARTHROTEC.39.txt to ARTHROTEC.39.txt\n",
            "Saving ARTHROTEC.40.txt to ARTHROTEC.40.txt\n",
            "Saving ARTHROTEC.41.txt to ARTHROTEC.41.txt\n",
            "Saving ARTHROTEC.42.txt to ARTHROTEC.42.txt\n",
            "Saving ARTHROTEC.43.txt to ARTHROTEC.43.txt\n",
            "Saving ARTHROTEC.44.txt to ARTHROTEC.44.txt\n",
            "Saving ARTHROTEC.45.txt to ARTHROTEC.45.txt\n",
            "Saving ARTHROTEC.46.txt to ARTHROTEC.46.txt\n",
            "Saving ARTHROTEC.47.txt to ARTHROTEC.47.txt\n",
            "Saving ARTHROTEC.48.txt to ARTHROTEC.48.txt\n",
            "Saving ARTHROTEC.49.txt to ARTHROTEC.49.txt\n",
            "Saving ARTHROTEC.50.txt to ARTHROTEC.50.txt\n",
            "Saving ARTHROTEC.51.txt to ARTHROTEC.51.txt\n",
            "Saving ARTHROTEC.52.txt to ARTHROTEC.52.txt\n",
            "Saving ARTHROTEC.53.txt to ARTHROTEC.53.txt\n",
            "Saving ARTHROTEC.54.txt to ARTHROTEC.54.txt\n",
            "Saving ARTHROTEC.55.txt to ARTHROTEC.55.txt\n",
            "Saving ARTHROTEC.56.txt to ARTHROTEC.56.txt\n",
            "Saving ARTHROTEC.57.txt to ARTHROTEC.57.txt\n",
            "Saving ARTHROTEC.58.txt to ARTHROTEC.58.txt\n",
            "Saving ARTHROTEC.59.txt to ARTHROTEC.59.txt\n",
            "Saving ARTHROTEC.60.txt to ARTHROTEC.60.txt\n",
            "Saving ARTHROTEC.61.txt to ARTHROTEC.61.txt\n",
            "Saving ARTHROTEC.62.txt to ARTHROTEC.62.txt\n",
            "Saving ARTHROTEC.63.txt to ARTHROTEC.63.txt\n",
            "Saving ARTHROTEC.64.txt to ARTHROTEC.64.txt\n",
            "Saving ARTHROTEC.65.txt to ARTHROTEC.65.txt\n",
            "Saving ARTHROTEC.66.txt to ARTHROTEC.66.txt\n",
            "Saving ARTHROTEC.67.txt to ARTHROTEC.67.txt\n",
            "Saving ARTHROTEC.68.txt to ARTHROTEC.68.txt\n",
            "Saving ARTHROTEC.69.txt to ARTHROTEC.69.txt\n",
            "Saving ARTHROTEC.70.txt to ARTHROTEC.70.txt\n",
            "Saving ARTHROTEC.71.txt to ARTHROTEC.71.txt\n",
            "Saving ARTHROTEC.72.txt to ARTHROTEC.72.txt\n",
            "Saving ARTHROTEC.73.txt to ARTHROTEC.73.txt\n",
            "Saving ARTHROTEC.74.txt to ARTHROTEC.74.txt\n",
            "Saving ARTHROTEC.75.txt to ARTHROTEC.75.txt\n",
            "Saving ARTHROTEC.76.txt to ARTHROTEC.76.txt\n",
            "Saving ARTHROTEC.77.txt to ARTHROTEC.77.txt\n",
            "Saving ARTHROTEC.78.txt to ARTHROTEC.78.txt\n",
            "Saving ARTHROTEC.79.txt to ARTHROTEC.79.txt\n",
            "Saving ARTHROTEC.80.txt to ARTHROTEC.80.txt\n",
            "Saving ARTHROTEC.81.txt to ARTHROTEC.81.txt\n",
            "Saving ARTHROTEC.82.txt to ARTHROTEC.82.txt\n",
            "Saving ARTHROTEC.83.txt to ARTHROTEC.83.txt\n",
            "Saving ARTHROTEC.84.txt to ARTHROTEC.84.txt\n",
            "Saving ARTHROTEC.85.txt to ARTHROTEC.85.txt\n",
            "Saving ARTHROTEC.86.txt to ARTHROTEC.86.txt\n",
            "Saving ARTHROTEC.87.txt to ARTHROTEC.87.txt\n",
            "Saving ARTHROTEC.88.txt to ARTHROTEC.88.txt\n",
            "Saving ARTHROTEC.89.txt to ARTHROTEC.89.txt\n",
            "Saving ARTHROTEC.90.txt to ARTHROTEC.90.txt\n",
            "Saving ARTHROTEC.91.txt to ARTHROTEC.91.txt\n",
            "Saving ARTHROTEC.92.txt to ARTHROTEC.92.txt\n",
            "Saving ARTHROTEC.93.txt to ARTHROTEC.93.txt\n",
            "Saving ARTHROTEC.94.txt to ARTHROTEC.94.txt\n",
            "Saving ARTHROTEC.95.txt to ARTHROTEC.95.txt\n",
            "Saving ARTHROTEC.96.txt to ARTHROTEC.96.txt\n",
            "Saving ARTHROTEC.97.txt to ARTHROTEC.97.txt\n",
            "Saving ARTHROTEC.98.txt to ARTHROTEC.98.txt\n",
            "Saving ARTHROTEC.99.txt to ARTHROTEC.99.txt\n",
            "Saving ARTHROTEC.100.txt to ARTHROTEC.100.txt\n"
          ],
          "name": "stdout"
        }
      ]
    },
    {
      "cell_type": "code",
      "metadata": {
        "id": "8RQOmcAGvjlr",
        "colab_type": "code",
        "outputId": "c0c8128c-cde5-4ae8-9e50-d13f32f3c721",
        "colab": {
          "base_uri": "https://localhost:8080/",
          "height": 402
        }
      },
      "source": [
        "import pandas as pd\n",
        "import csv as csv \n",
        "\n",
        "column_id=[]\n",
        "output_list=[]\n",
        "new_list=[]\n",
        "given_sentences=[]\n",
        "for file in load:\n",
        "  with open(file, 'r') as f:\n",
        "    given_text = f.read()\n",
        "    given_sentences = given_text.splitlines()\n",
        "    length_of_sentence = len(given_sentences)\n",
        "    for a in range(length_of_sentence):\n",
        "      column_id.append(file+'.'+str(a))\n",
        "    for b in given_sentences:\n",
        "      output_list.append(b)\n",
        "with open('output_file.csv', 'w') as f:\n",
        "    writer = csv.writer(f)\n",
        "    for value in output_list:\n",
        "      writer.writerow([value])\n",
        "d1 = pd.read_csv(\"output_file.csv\", names=['text_with_punctuation'])\n",
        "d2 = pd.DataFrame(column_id, columns=['Sentence_ID'])\n",
        "result = pd.concat([d1,d2], axis=1)\n",
        "result = result.reindex(columns=['Sentence_ID','text_with_punctuation'])\n",
        "result.to_csv('Final_file.csv')\n",
        "\n",
        "result[\"without_Punctuation\"] = result['text_with_punctuation'].str.replace('[^\\w\\s]','')\n",
        "result\n"
      ],
      "execution_count": 10,
      "outputs": [
        {
          "output_type": "execute_result",
          "data": {
            "text/html": [
              "<div>\n",
              "<style scoped>\n",
              "    .dataframe tbody tr th:only-of-type {\n",
              "        vertical-align: middle;\n",
              "    }\n",
              "\n",
              "    .dataframe tbody tr th {\n",
              "        vertical-align: top;\n",
              "    }\n",
              "\n",
              "    .dataframe thead th {\n",
              "        text-align: right;\n",
              "    }\n",
              "</style>\n",
              "<table border=\"1\" class=\"dataframe\">\n",
              "  <thead>\n",
              "    <tr style=\"text-align: right;\">\n",
              "      <th></th>\n",
              "      <th>Sentence_ID</th>\n",
              "      <th>text_with_punctuation</th>\n",
              "      <th>without_Punctuation</th>\n",
              "    </tr>\n",
              "  </thead>\n",
              "  <tbody>\n",
              "    <tr>\n",
              "      <th>0</th>\n",
              "      <td>ARTHROTEC.1.txt.0</td>\n",
              "      <td>I feel a bit drowsy &amp; have a little blurred vi...</td>\n",
              "      <td>I feel a bit drowsy  have a little blurred vis...</td>\n",
              "    </tr>\n",
              "    <tr>\n",
              "      <th>1</th>\n",
              "      <td>ARTHROTEC.1.txt.1</td>\n",
              "      <td>I've been on Arthrotec 50 for over 10 years on...</td>\n",
              "      <td>Ive been on Arthrotec 50 for over 10 years on ...</td>\n",
              "    </tr>\n",
              "    <tr>\n",
              "      <th>2</th>\n",
              "      <td>ARTHROTEC.1.txt.2</td>\n",
              "      <td>Due to my arthritis getting progressively wors...</td>\n",
              "      <td>Due to my arthritis getting progressively wors...</td>\n",
              "    </tr>\n",
              "    <tr>\n",
              "      <th>3</th>\n",
              "      <td>ARTHROTEC.1.txt.3</td>\n",
              "      <td>every day for the next month to see how I get ...</td>\n",
              "      <td>every day for the next month to see how I get ...</td>\n",
              "    </tr>\n",
              "    <tr>\n",
              "      <th>4</th>\n",
              "      <td>ARTHROTEC.1.txt.4</td>\n",
              "      <td>So far its been very good, pains almost gone, ...</td>\n",
              "      <td>So far its been very good pains almost gone bu...</td>\n",
              "    </tr>\n",
              "    <tr>\n",
              "      <th>...</th>\n",
              "      <td>...</td>\n",
              "      <td>...</td>\n",
              "      <td>...</td>\n",
              "    </tr>\n",
              "    <tr>\n",
              "      <th>530</th>\n",
              "      <td>ARTHROTEC.100.txt.3</td>\n",
              "      <td>canker sores in my mouth.</td>\n",
              "      <td>canker sores in my mouth</td>\n",
              "    </tr>\n",
              "    <tr>\n",
              "      <th>531</th>\n",
              "      <td>ARTHROTEC.100.txt.4</td>\n",
              "      <td>headache.</td>\n",
              "      <td>headache</td>\n",
              "    </tr>\n",
              "    <tr>\n",
              "      <th>532</th>\n",
              "      <td>ARTHROTEC.100.txt.5</td>\n",
              "      <td>been off for 1 week still have bleeding.</td>\n",
              "      <td>been off for 1 week still have bleeding</td>\n",
              "    </tr>\n",
              "    <tr>\n",
              "      <th>533</th>\n",
              "      <td>ARTHROTEC.100.txt.6</td>\n",
              "      <td>helped my pain alot .</td>\n",
              "      <td>helped my pain alot</td>\n",
              "    </tr>\n",
              "    <tr>\n",
              "      <th>534</th>\n",
              "      <td>ARTHROTEC.100.txt.7</td>\n",
              "      <td>too scared to take this drug again.</td>\n",
              "      <td>too scared to take this drug again</td>\n",
              "    </tr>\n",
              "  </tbody>\n",
              "</table>\n",
              "<p>535 rows × 3 columns</p>\n",
              "</div>"
            ],
            "text/plain": [
              "             Sentence_ID  ...                                without_Punctuation\n",
              "0      ARTHROTEC.1.txt.0  ...  I feel a bit drowsy  have a little blurred vis...\n",
              "1      ARTHROTEC.1.txt.1  ...  Ive been on Arthrotec 50 for over 10 years on ...\n",
              "2      ARTHROTEC.1.txt.2  ...  Due to my arthritis getting progressively wors...\n",
              "3      ARTHROTEC.1.txt.3  ...  every day for the next month to see how I get ...\n",
              "4      ARTHROTEC.1.txt.4  ...  So far its been very good pains almost gone bu...\n",
              "..                   ...  ...                                                ...\n",
              "530  ARTHROTEC.100.txt.3  ...                           canker sores in my mouth\n",
              "531  ARTHROTEC.100.txt.4  ...                                           headache\n",
              "532  ARTHROTEC.100.txt.5  ...            been off for 1 week still have bleeding\n",
              "533  ARTHROTEC.100.txt.6  ...                               helped my pain alot \n",
              "534  ARTHROTEC.100.txt.7  ...                 too scared to take this drug again\n",
              "\n",
              "[535 rows x 3 columns]"
            ]
          },
          "metadata": {
            "tags": []
          },
          "execution_count": 10
        }
      ]
    },
    {
      "cell_type": "code",
      "metadata": {
        "id": "nQ3ps3Emvtk4",
        "colab_type": "code",
        "outputId": "5271738c-d1f4-40a7-bde2-544165ab2766",
        "colab": {
          "base_uri": "https://localhost:8080/",
          "height": 360
        }
      },
      "source": [
        "word=input('word to be searched:')\n",
        "r1=result[result['text_with_punctuation'].str.contains(word, na=False)]\n",
        "del r1['without_Punctuation']\n",
        "r2=r1.text_with_punctuation.str.count(word).to_frame(name='Frequency in sentence')\n",
        "final = pd.concat([r1,r2],axis=1)\n",
        "final"
      ],
      "execution_count": 11,
      "outputs": [
        {
          "output_type": "stream",
          "text": [
            "word to be searched:sleep\n"
          ],
          "name": "stdout"
        },
        {
          "output_type": "execute_result",
          "data": {
            "text/html": [
              "<div>\n",
              "<style scoped>\n",
              "    .dataframe tbody tr th:only-of-type {\n",
              "        vertical-align: middle;\n",
              "    }\n",
              "\n",
              "    .dataframe tbody tr th {\n",
              "        vertical-align: top;\n",
              "    }\n",
              "\n",
              "    .dataframe thead th {\n",
              "        text-align: right;\n",
              "    }\n",
              "</style>\n",
              "<table border=\"1\" class=\"dataframe\">\n",
              "  <thead>\n",
              "    <tr style=\"text-align: right;\">\n",
              "      <th></th>\n",
              "      <th>Sentence_ID</th>\n",
              "      <th>text_with_punctuation</th>\n",
              "      <th>Frequency in sentence</th>\n",
              "    </tr>\n",
              "  </thead>\n",
              "  <tbody>\n",
              "    <tr>\n",
              "      <th>9</th>\n",
              "      <td>ARTHROTEC.3.txt.1</td>\n",
              "      <td>Pain so bad it disrupted my sleep co pletely.</td>\n",
              "      <td>1</td>\n",
              "    </tr>\n",
              "    <tr>\n",
              "      <th>14</th>\n",
              "      <td>ARTHROTEC.3.txt.6</td>\n",
              "      <td>Have stopped taking and immediatedly muscle/jo...</td>\n",
              "      <td>1</td>\n",
              "    </tr>\n",
              "    <tr>\n",
              "      <th>42</th>\n",
              "      <td>ARTHROTEC.8.txt.2</td>\n",
              "      <td>Still can't sleep, can't work without pain.</td>\n",
              "      <td>1</td>\n",
              "    </tr>\n",
              "    <tr>\n",
              "      <th>44</th>\n",
              "      <td>ARTHROTEC.9.txt.0</td>\n",
              "      <td>vomitting - I have to fight to not throw up I ...</td>\n",
              "      <td>1</td>\n",
              "    </tr>\n",
              "    <tr>\n",
              "      <th>134</th>\n",
              "      <td>ARTHROTEC.24.txt.2</td>\n",
              "      <td>I ended up having to take additional medicatio...</td>\n",
              "      <td>1</td>\n",
              "    </tr>\n",
              "    <tr>\n",
              "      <th>152</th>\n",
              "      <td>ARTHROTEC.27.txt.2</td>\n",
              "      <td>I am in so much pain that I cannot sleep, nor ...</td>\n",
              "      <td>1</td>\n",
              "    </tr>\n",
              "    <tr>\n",
              "      <th>269</th>\n",
              "      <td>ARTHROTEC.47.txt.0</td>\n",
              "      <td>after taking just one dose, had hunger feeling...</td>\n",
              "      <td>1</td>\n",
              "    </tr>\n",
              "    <tr>\n",
              "      <th>337</th>\n",
              "      <td>ARTHROTEC.61.txt.2</td>\n",
              "      <td>Now I can sleep at night and do most activities.</td>\n",
              "      <td>1</td>\n",
              "    </tr>\n",
              "    <tr>\n",
              "      <th>455</th>\n",
              "      <td>ARTHROTEC.85.txt.3</td>\n",
              "      <td>Dizziness while rolling over while sleeping an...</td>\n",
              "      <td>1</td>\n",
              "    </tr>\n",
              "    <tr>\n",
              "      <th>526</th>\n",
              "      <td>ARTHROTEC.99.txt.5</td>\n",
              "      <td>It also allows me to sleep.</td>\n",
              "      <td>1</td>\n",
              "    </tr>\n",
              "  </tbody>\n",
              "</table>\n",
              "</div>"
            ],
            "text/plain": [
              "            Sentence_ID  ... Frequency in sentence\n",
              "9     ARTHROTEC.3.txt.1  ...                     1\n",
              "14    ARTHROTEC.3.txt.6  ...                     1\n",
              "42    ARTHROTEC.8.txt.2  ...                     1\n",
              "44    ARTHROTEC.9.txt.0  ...                     1\n",
              "134  ARTHROTEC.24.txt.2  ...                     1\n",
              "152  ARTHROTEC.27.txt.2  ...                     1\n",
              "269  ARTHROTEC.47.txt.0  ...                     1\n",
              "337  ARTHROTEC.61.txt.2  ...                     1\n",
              "455  ARTHROTEC.85.txt.3  ...                     1\n",
              "526  ARTHROTEC.99.txt.5  ...                     1\n",
              "\n",
              "[10 rows x 3 columns]"
            ]
          },
          "metadata": {
            "tags": []
          },
          "execution_count": 11
        }
      ]
    },
    {
      "cell_type": "markdown",
      "metadata": {
        "id": "-12cqmJEpZOh",
        "colab_type": "text"
      },
      "source": [
        "(4) Install packages nltk, numpy, scipy, pandas, and sklearn on Google Colab. Write a program to test whether they are installed successfully. "
      ]
    },
    {
      "cell_type": "code",
      "metadata": {
        "id": "f1pn1Zl2qK77",
        "colab_type": "code",
        "outputId": "27d2b24b-7c17-4044-9db2-82271bf23957",
        "colab": {
          "base_uri": "https://localhost:8080/",
          "height": 370
        }
      },
      "source": [
        "!pip install nltk\n",
        "!pip install numpy\n",
        "!pip install scipy\n",
        "!pip install pandas\n",
        "!pip install sklearn\n",
        "\n",
        "try:\n",
        "  import nltk\n",
        "  print('nltk Package is installed')\n",
        "  import numpy\n",
        "  print('numpy Package is installed')\n",
        "  import scipy\n",
        "  print('scipy Package is installed')\n",
        "  import pandas\n",
        "  print('pandas py Package is installed')\n",
        "  import sklearn\n",
        "  print('sklearn Package is installed')\n",
        "  import Nullpackage\n",
        "  print(\"Nullpackage Package is insalled\")\n",
        "except ImportError:\n",
        "    print(\"Package not installed\")\n",
        "\n",
        "\n",
        "\n"
      ],
      "execution_count": 0,
      "outputs": [
        {
          "output_type": "stream",
          "text": [
            "Requirement already satisfied: nltk in /usr/local/lib/python3.6/dist-packages (3.2.5)\n",
            "Requirement already satisfied: six in /usr/local/lib/python3.6/dist-packages (from nltk) (1.12.0)\n",
            "Requirement already satisfied: numpy in /usr/local/lib/python3.6/dist-packages (1.17.5)\n",
            "Requirement already satisfied: scipy in /usr/local/lib/python3.6/dist-packages (1.4.1)\n",
            "Requirement already satisfied: numpy>=1.13.3 in /usr/local/lib/python3.6/dist-packages (from scipy) (1.17.5)\n",
            "Requirement already satisfied: pandas in /usr/local/lib/python3.6/dist-packages (0.25.3)\n",
            "Requirement already satisfied: python-dateutil>=2.6.1 in /usr/local/lib/python3.6/dist-packages (from pandas) (2.6.1)\n",
            "Requirement already satisfied: numpy>=1.13.3 in /usr/local/lib/python3.6/dist-packages (from pandas) (1.17.5)\n",
            "Requirement already satisfied: pytz>=2017.2 in /usr/local/lib/python3.6/dist-packages (from pandas) (2018.9)\n",
            "Requirement already satisfied: six>=1.5 in /usr/local/lib/python3.6/dist-packages (from python-dateutil>=2.6.1->pandas) (1.12.0)\n",
            "Requirement already satisfied: sklearn in /usr/local/lib/python3.6/dist-packages (0.0)\n",
            "Requirement already satisfied: scikit-learn in /usr/local/lib/python3.6/dist-packages (from sklearn) (0.22.1)\n",
            "Requirement already satisfied: scipy>=0.17.0 in /usr/local/lib/python3.6/dist-packages (from scikit-learn->sklearn) (1.4.1)\n",
            "Requirement already satisfied: numpy>=1.11.0 in /usr/local/lib/python3.6/dist-packages (from scikit-learn->sklearn) (1.17.5)\n",
            "Requirement already satisfied: joblib>=0.11 in /usr/local/lib/python3.6/dist-packages (from scikit-learn->sklearn) (0.14.1)\n",
            "nltk Package is installed\n",
            "numpy Package is installed\n",
            "scipy Package is installed\n",
            "pandas py Package is installed\n",
            "sklearn Package is installed\n",
            "Package not installed\n"
          ],
          "name": "stdout"
        }
      ]
    }
  ]
}