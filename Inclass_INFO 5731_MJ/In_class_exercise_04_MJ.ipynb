{
  "nbformat": 4,
  "nbformat_minor": 0,
  "metadata": {
    "colab": {
      "name": "Copy of In-class-exercise-04.ipynb",
      "provenance": [],
      "collapsed_sections": [],
      "include_colab_link": true
    },
    "kernelspec": {
      "name": "python3",
      "display_name": "Python 3"
    }
  },
  "cells": [
    {
      "cell_type": "markdown",
      "metadata": {
        "id": "view-in-github",
        "colab_type": "text"
      },
      "source": [
        "<a href=\"https://colab.research.google.com/github/mayurijoshi106/mayuri_INFO5731_spring2020/blob/master/Inclass_INFO%205731_MJ/In_class_exercise_04_MJ.ipynb\" target=\"_parent\"><img src=\"https://colab.research.google.com/assets/colab-badge.svg\" alt=\"Open In Colab\"/></a>"
      ]
    },
    {
      "cell_type": "markdown",
      "metadata": {
        "id": "EuX00KHNeSpw",
        "colab_type": "text"
      },
      "source": [
        "# **The fourth in-class-exercise**"
      ]
    },
    {
      "cell_type": "markdown",
      "metadata": {
        "id": "s-vTOb03hG1f",
        "colab_type": "text"
      },
      "source": [
        "# 1. Text Data Preprocessing\n",
        "\n",
        "Here is a [legal case](https://github.com/unt-iialab/INFO5731_Spring2020/blob/master/In_class_exercise/01-05-1%20%20Adams%20v%20Tanner.txt) we collected from westlaw, please follow the steps we mentioned in lesson 5 to clean the data:\n",
        "\n",
        "\n",
        "\n",
        "## 1.1 Basic feature extraction using text data\n",
        "\n",
        "*   Number of sentences\n",
        "*   Number of words\n",
        "*   Number of characters\n",
        "*   Average word length\n",
        "*   Number of stopwords\n",
        "*   Number of special characters\n",
        "*   Number of numerics\n",
        "*   Number of uppercase words\n",
        "\n",
        "## 1.2 Basic Text Pre-processing of text data\n",
        "\n",
        "*   Lower casing\n",
        "*   Punctuation removal\n",
        "*   Stopwords removal\n",
        "*   Frequent words removal\n",
        "*   Rare words removal\n",
        "*   Spelling correction\n",
        "*   Tokenization\n",
        "*   Stemming\n",
        "*   Lemmatization\n",
        "\n",
        "## 1.3 Save all the **clean sentences** to a **csv file** (one column, each raw is a sentence) after finishing all the steps above.\n",
        "\n",
        "\n",
        "## 1.4 Advance Text Processing\n",
        "\n",
        "*   Calculate the term frequency of all the terms.\n",
        "*   Print out top 10 1-gram, top 10 2-grams, and top 10 2-grams terms as features.\n"
      ]
    },
    {
      "cell_type": "code",
      "metadata": {
        "id": "vR0L3_CreM_A",
        "colab_type": "code",
        "outputId": "a1b6d5ef-d0e0-4ea6-efe8-50c7727498e0",
        "colab": {
          "base_uri": "https://localhost:8080/",
          "height": 161
        }
      },
      "source": [
        "file = open(\"01-05-1AdamsvTanner.txt\", \"r\")\n",
        "txtfile = file.read()\n",
        "file.close()\n",
        "#print(txtfile)\n",
        "\n",
        "\n",
        "#1.2-1 Convert text to lowercase\n",
        "input_str = txtfile.lower()\n",
        "#print(input_str)\n",
        "\n",
        "#1.2-2 Punctuation removal\n",
        "import string\n",
        "words = txtfile.split()\n",
        "table = str.maketrans('', '', string.punctuation)\n",
        "stripped = [w.translate(table) for w in words]\n",
        "print(stripped)\n",
        "\n",
        "#1.2-3 Stopwards removal\n",
        "from nltk.tokenize import sent_tokenize, word_tokenize\n",
        "nltk.download ('stopwords')\n",
        "from nltk.corpus import stopwords\n",
        "stop_words = set(stopwords.words(\"english\"))\n",
        "#print(stop_words)\n",
        "tokens = word_tokenize(input_str)\n",
        "result = [i for i in tokens if not i in stop_words]\n",
        "#print (result)\n",
        "\n",
        "#1.2-4 Frequent words removal\n",
        "\n",
        "#1.2-5 Rare words removal\n",
        "\n",
        "#1.2-6 Spelling correction\n",
        "\n",
        "#1.2-7 Tokenization\n",
        "import nltk\n",
        "nltk.download('punkt')\n",
        "tokenized_text = sent_tokenize(txtfile)\n",
        "#print(tokenized_text)\n",
        "\n",
        "#1.2-8 Stemming\n",
        "from nltk.stem import PorterStemmer\n",
        "stemmer = PorterStemmer()\n",
        "stemmed_words = []\n",
        "input_stem = word_tokenize(input_str)\n",
        "for word in input_stem:\n",
        "  stemmed_words.append((stemmer.stem(word)))\n",
        "#print(stemmed_words)\n",
        "\n",
        "#1.2-9 Lemmatization\n",
        "from textblob import Word\n",
        "nltk.download('wordnet')\n",
        "from nltk.stem.wordnet import WordNetLemmatizer\n",
        "lem = WordNetLemmatizer()\n",
        "lemmed_words = []\n",
        "for word in input_stem:\n",
        "  lemmed_words.append((lem.lemmatize(word)))\n",
        "#print(lemmed_words)\n"
      ],
      "execution_count": 50,
      "outputs": [
        {
          "output_type": "stream",
          "text": [
            "['5', 'Ala', '740', 'Supreme', 'Court', 'of', 'Alabama', 'ADAMS', 'v', 'TANNER', 'AND', 'HORTON', 'June', 'Term', '1843', 'Synopsis', 'WRIT', 'of', 'Error', 'to', 'the', 'Circuit', 'Court', 'of', 'Sumter', 'West', 'Headnotes', '2', '1', 'Chattel', 'Mortgages', 'Crops', 'A', 'growing', 'crop', 'has', 'such', 'an', 'existence', 'as', 'to', 'be', 'the', 'subjectmatter', 'of', 'a', 'mortgage', 'or', 'other', 'contract', 'which', 'passes', 'an', 'interest', 'to', 'vest', 'in', 'possession', 'either', 'immediately', 'or', 'at', 'a', 'future', 'time', '4', 'Cases', 'that', 'cite', 'this', 'headnote', '2', 'Creditors’', 'Remedies', 'Lien', 'and', 'Priority', 'Under', 'St1821', 'prohibiting', 'a', 'levy', 'on', 'a', 'crop', 'until', 'it', 'has', 'been', 'gathered', 'no', 'lien', 'attaches', 'in', 'favor', 'of', 'a', 'fi', 'fa', 'on', 'a', 'growing', 'crop', 'nor', 'does', 'such', 'lien', 'attach', 'until', 'after', 'the', 'crop', 'has', 'been', 'gathered', '5', 'Cases', 'that', 'cite', 'this', 'headnote', '1', 'This', 'was', 'a', 'trial', 'of', 'the', 'right', 'of', 'property', 'under', 'the', 'statute', 'In', 'November', '1840', 'an', 'execution', 'issued', 'from', 'the', 'circuit', 'court', 'of', 'Sumter', 'at', 'the', 'suit', 'of', 'the', 'plaintiff', 'in', 'error', 'requiring', 'the', 'sheriff', 'of', 'that', 'county', 'to', 'make', 'of', 'the', 'goods', 'c', 'of', 'Allen', 'Harrison', 'and', 'others', 'the', 'sum', 'of', 'thirtyseven', 'hundred', 'and', 'seventyseven', '80100', 'dollars', 'besides', 'costs', 'This', 'execution', 'was', 'levied', 'on', 'thirty', 'bales', 'of', 'cotton', 'as', 'the', 'property', 'of', 'Allen', 'Harrison', 'which', 'was', 'claimed', 'and', 'a', 'bond', 'given', 'to', 'try', 'the', 'right', 'An', 'issue', 'was', 'made', 'up', 'to', 'try', 'the', 'question', 'of', 'the', 'liability', 'of', 'the', 'cotton', 'to', 'the', 'plaintiff’s', 'execution', 'and', 'submitted', 'to', 'a', 'jury', 'On', 'the', 'trial', 'a', 'bill', 'of', 'exceptions', 'was', 'sealed', 'at', 'the', 'instance', 'of', 'the', 'plaintiff', 'The', 'plaintiff', 'proved', 'that', 'he', 'recovered', 'his', 'judgment', 'in', 'October', '1839', 'that', 'an', 'execution', '741', 'was', 'issued', 'thereon', 'on', 'the', '7th', 'Nov', 'thereafter', 'and', 'that', 'alias', 'and', 'pluries', 'fieri', 'facias’', 'issued', 'regularly', 'up', 'to', 'the', 'time', 'levy', 'was', 'made', 'that', 'the', 'cotton', 'levied', 'on', 'was', 'growed', 'on', 'the', 'plantation', 'of', 'Harrison', 'and', 'cultivated', 'by', 'the', 'hands', 'in', 'his', 'service', 'It', 'was', 'proved', 'by', 'the', 'claimants', 'by', 'the', 'production', 'of', 'a', 'written', 'contract', 'that', 'Harrison', 'on', 'the', 'twentysecond', 'of', 'May', '1840', 'in', 'consideration', 'that', 'the', 'claimants', 'were', 'involved', 'as', 'indorsers', 'for', 'Burton', '', 'Harrison', 'of', 'Sumter', 'county', 'and', 'were', 'then', 'exposed', 'to', 'an', 'execution', 'amounting', 'to', 'upwards', 'of', 'fourteen', 'thousand', 'dollars', 'bargained', 'and', 'sold', 'to', 'the', 'claimants', 'all', 'his', 'growing', 'crop', 'of', 'cotton', 'c', 'consisting', 'of', 'one', 'hundred', 'and', 'twenty', 'acres', 'c', 'Allen', 'Harrison', 'promised', 'and', 'obliged', 'himself', 'to', 'give', 'up', 'his', 'crop', 'to', 'the', 'use', 'of', 'the', 'claimants', 'at', 'any', 'time', 'to', 'save', 'them', 'from', 'suffering', 'as', 'his', 'indorsers', 'if', 'the', 'crop', 'matured', 'and', 'was', 'gathered', 'he', 'undertook', 'to', 'deliver', 'the', 'cotton', 'in', 'Gainesville', 'The', 'claimants', 'came', 'from', 'Tennessee', 'where', 'they', 'resided', 'about', 'the', 'first', 'of', 'September', '1840', 'bringing', 'with', 'them', 'three', 'or', 'four', 'white', 'laborers', 'and', 'took', 'possession', 'of', 'the', 'crop', 'and', 'slaves', 'and', 'with', 'the', 'latter', 'and', 'white', 'laborers', 'gathered', 'the', 'cotton', 'prepared', 'it', 'for', 'market', 'and', 'when', 'levied', 'on', 'it', 'was', 'in', 'a', 'warehouse', 'in', 'Gainesville', 'The', 'plaintiff', 'then', 'proved', 'by', 'Harrison', 'that', 'the', 'claimants', 'took', 'possession', 'of', 'the', 'crop', 'while', 'he', 'was', 'absent', 'and', 'disposed', 'of', 'it', 'without', 'his', 'consent', 'It', 'was', 'admitted', 'that', 'the', 'contract', 'was', 'made', 'in', 'good', 'faith', 'The', 'court', 'charged', 'the', 'jury', 'that', 'the', 'plaintiff', 'had', 'no', 'lien', 'by', 'virtue', 'of', 'his', 'judgment', 'and', 'execution', 'on', 'the', 'growing', 'crop', 'that', 'Harrison', 'had', 'a', 'right', 'to', 'convey', 'it', 'without', 'being', 'in', 'any', 'manner', 'restrained', 'by', 'them', 'that', 'the', 'writing', 'adduced', 'was', 'a', 'sale', 'of', 'the', 'crop', 'but', 'if', 'it', 'was', 'not', 'and', 'the', 'lien', 'of', 'the', 'fieri', 'facias', 'would', 'have', 'attached', 'upon', 'it', 'when', 'gathered', 'yet', 'if', 'the', 'claimants', 'obtained', 'possession', 'on', 'the', 'first', 'of', 'September', 'and', 'controlled', 'the', 'gathering', 'of', 'the', 'crop', 'then', 'no', 'lien', 'attached', 'and', 'it', 'was', 'not', 'subject', 'to', 'the', 'levy', 'Attorneys', 'and', 'Law', 'Firms', 'R', 'H', 'SMITH', 'for', 'the', 'plaintiff', 'in', 'error', 'made', 'the', 'following', 'points1', 'The', 'crop', 'of', 'Harrison', 'must', 'in', 'May', '1840', 'have', 'been', 'in', 'an', 'immature', 'state', 'and', 'it', 'is', 'insisted', 'was', 'not', 'the', 'subject', 'of', 'a', 'sale', '2', 'By', 'the', 'common', 'law', 'a', 'growing', 'crop', 'could', 'be', 'levied', 'on', 'and', 'sold', '1', 'Salk', 'Rep', '361', '1', 'Bos', '', 'P', 'Rep', '307', '6', 'East’s', 'Rep', '604', 'note', '1', '2', 'Johns', 'Rep', '418', '422', '7', 'Mass', 'Rep', '34', 'and', 'our', 'statue', 'Aik', 'Dig', '§', '41', 'p', '167', 'which', 'forbids', 'the', 'levy', 'of', 'an', '742', 'execution', 'on', 'a', 'growing', 'crop', 'is', 'to', 'receive', 'a', 'strict', 'construction', 'It', 'merely', 'inhibits', 'the', 'levy', 'but', 'the', 'lien', 'attaches', 'and', 'a', 'levy', 'and', 'sale', 'may', 'be', 'made', 'after', 'the', 'crop', 'matures', 'and', 'is', 'gathered', '3', 'The', 'contract', 'does', 'not', 'purport', 'to', 'convey', 'the', 'growing', 'crop', 'but', 'is', 'a', 'mere', 'executory', 'agreement', 'requiring', 'some', 'act', 'to', 'be', 'done', 'by', 'Harrison', 'in', 'order', 'to', 'invest', 'the', 'claimants', 'with', 'the', 'right', 'of', 'property', 'Chit', 'on', 'Con', '112', '207', '3', 'Johns', 'Rep', '338', '424', '5', 'Wend', 'Rep', '26', '13', 'Johns', 'Rep', '235', '8', 'Dowl', 'Rep', '693', 'and', 'until', 'this', 'act', 'was', 'done', 'the', 'crop', 'no', 'matter', 'by', 'who', 'gathered', 'because', 'liable', 'to', 'be', 'seized', 'for', 'Harrison’s', 'debts', 'A', 'court', 'of', 'chancery', 'would', 'not', 'compel', 'a', 'specific', 'performance', 'of', 'the', 'contract', 'at', 'the', 'claimant’s', 'instance', '4', 'The', 'charge', 'of', 'the', 'court', 'is', 'also', 'objectionable', 'in', 'deciding', 'disputed', 'facts', 'W', 'M', 'MURPHY', 'with', 'whom', 'was', 'W', 'G', 'JONES', 'for', 'the', 'defendantcited', 'the', 'act', 'of', '1821', 'Aik', 'Dig', '167', 'which', 'declares', 'it', 'to', 'be', 'lawful', 'to', 'levy', 'an', 'execution', 'on', 'a', 'planted', 'crop', 'until', 'it', 'is', 'gathered', 'and', 'contended', 'that', 'no', 'lien', 'attached', 'in', 'favor', 'of', 'the', 'plaintiff', 'This', 'being', 'the', 'case', 'the', 'defendant', 'in', 'execution', 'was', 'not', 'restrained', 'from', 'making', 'the', 'contract', 'which', 'he', 'did', 'with', 'the', 'claimants', '2', 'The', 'lien', 'of', 'an', 'execution', 'is', 'destroyed', 'by', 'an', 'injunction', 'because', 'it', 'takes', 'away', 'the', 'right', 'to', 'levy', 'it', 'In', 'short', 'whenever', 'the', 'right', 'to', 'levy', 'an', 'execution', 'is', 'but', 'temporarily', 'suspended', 'or', 'withdrawn', 'the', 'lien', 'is', 'during', 'that', 'time', 'lost', 'Whipple', 'v', 'Foot', '2', 'Johns', 'Rep', '216', '3', 'Wash', 'C', 'C', 'Rep', '66', '4', 'How', 'Rep', '130', 'It', 'is', 'admitted', 'that', 'the', 'contract', 'between', 'the', 'defendant', 'in', 'execution', 'and', 'the', 'claimants', 'was', 'in', 'good', 'faith', 'if', 'so', 'the', 'severance', 'and', 'removal', 'of', 'the', 'cotton', 'gave', 'the', 'latter', 'a', 'good', 'title', 'against', 'all', 'creditors', 'of', 'the', 'former', 'Opinion', 'COLLIER', 'C', 'J', 'There', 'can', 'be', 'no', 'doubt', 'that', 'a', 'growing', 'crop', 'has', 'such', 'an', 'existence', 'as', 'to', 'be', 'the', 'subject', 'matter', 'of', 'a', 'sale', 'mortgage', 'or', 'other', 'contract', 'which', 'possess', 'an', 'interest', 'to', 'vest', 'in', 'possession', 'either', 'immediately', 'or', 'at', 'some', 'future', 'time', 'This', 'proposition', 'has', 'frequently', 'been', 'assumed', 'as', 'unquestionable', 'the', 'point', 'of', 'inquiry', 'generally', 'being', 'whether', 'under', 'a', 'statute', 'of', 'frauds', 'such', 'as', 'the', '29', 'Chas', '2', 'it', 'is', 'a', 'mere', 'chattel', 'and', 'transferrable', 'by', 'parol', 'without', 'writing', 'Chitty', 'on', 'Con', '2412', '332', 'Whipple', 'v', 'Foot', '2', 'Johns', 'Rep', '422', 'Stewart', 'v', 'Doughty', '9', 'Johns', 'Rep', '112', '743', 'Austin', 'v', 'Sawyer', '9', 'Cow', 'Rep', '39', 'See', 'also', 'Ravesies', 'v', 'Lee', '', 'Alston', 'at', 'last', 'term', 'The', 'contract', 'set', 'out', 'in', 'the', 'bill', 'of', 'exceptions', 'we', 'are', 'inclined', 'to', 'think', 'evidences', 'rather', 'a', 'mortgage', 'than', 'an', 'absolute', 'sale', 'It', 'recites', 'that', 'the', 'claimants', 'are', 'involved', 'as', 'indorsers', 'of', 'a', 'mercantile', 'firm', 'of', 'which', 'the', 'defendant', 'was', 'a', 'partner', 'that', 'an', 'execution', 'for', 'upwards', 'of', 'fourteen', 'thousand', 'dollars', 'against', 'their', 'estate', 'is', 'in', 'the', 'sheriff’s', 'hands', 'and', 'that', 'a', 'conveyance', 'is', 'made', 'of', 'the', 'crop', 'of', 'cotton', 'corn', 'and', 'oats', 'which', 'the', 'grantor', 'agrees', 'to', 'give', 'up', 'at', 'any', 'time', 'to', 'the', 'use', 'of', 'the', 'claimants', 'so', 'as', 'to', 'prevent', 'injury', 'to', 'them', 'as', 'indorsers', 'The', 'defendant', 'in', 'execution', 'might', 'at', 'any', 'time', 'have', 'divested', 'the', 'interest', 'which', 'the', 'contract', 'vested', 'in', 'the', 'claimants', 'by', 'discharging', 'their', 'liability', 'as', 'his', 'indorsers', 'or', 'a', 'judgment', 'creditor', 'might', 'have', 'satisfied', 'the', 'lien', 'and', 'when', 'the', 'crop', 'was', 'gathered', 'have', 'levied', 'on', 'and', 'sold', 'it', 'under', 'a', 'fieri', 'facias', 'We', 'will', 'then', 'consider', 'the', 'writing', 'under', 'which', 'the', 'claimants', 'assert', 'a', 'right', 'as', 'a', 'mortgage', 'with', 'a', 'power', 'to', 'take', 'possession', 'any', 'time', 'during', 'the', 'year', 'unless', 'they', 'should', 'be', 'relieved', 'from', 'their', 'engagements', 'as', 'indorsers', 'It', 'is', 'not', 'pretended', 'that', 'their', 'liability', 'has', 'been', 'satisfied', 'and', 'it', 'is', 'admitted', 'that', 'the', 'parties', 'have', 'acted', 'with', 'good', 'faith', 'so', 'that', 'it', 'is', 'a', 'dry', 'question', 'of', 'law', 'whether', 'the', 'right', 'of', 'the', 'plaintiff', 'or', 'the', 'claimants', 'shall', 'prevail', 'Assuming', 'for', 'the', 'present', 'that', 'the', 'execution', 'of', 'the', 'plaintiffs', 'did', 'not', 'operate', 'a', 'lien', 'upon', 'the', 'planted', 'crop', 'previous', 'to', 'the', 'contract', 'of', 'May', '1840', 'we', 'will', 'inquire', 'whether', 'the', 'defendant', 'in', 'execution', 'had', 'such', 'an', 'interest', 'as', 'could', 'be', 'levied', 'on', 'and', 'sold', 'The', 'claimants', 'had', 'previous', 'to', 'the', 'levy', 'of', 'the', 'execution', 'taken', 'possession', 'of', 'the', 'crop', 'prepared', 'the', 'cotton', 'for', 'market', 'and', 'removed', 'it', 'to', 'a', 'warehouse', 'This', 'possession', 'it', 'is', 'insisted', 'was', 'a', 'trespass', 'because', 'it', 'was', 'acquired', 'in', 'the', 'absence', 'of', 'the', 'defendant', 'in', 'execution', 'and', 'without', 'his', 'consent', 'then', 'given', 'Conceding', 'the', 'truth', 'of', 'the', 'facts', 'stated', 'in', 'the', 'bill', 'of', 'exceptions', 'and', 'we', 'think', 'it', 'will', 'not', 'follow', 'that', 'the', 'possession', 'of', 'the', 'claimants', 'is', 'a', 'nullity', 'and', 'that', 'the', 'case', 'must', 'be', 'considered', 'as', 'if', 'they', 'had', 'never', 'interfered', 'with', 'the', 'crop', 'The', 'contract', 'contains', 'an', 'express', 'undertaking', 'to', 'give', 'up', 'the', 'crop', 'at', 'any', 'time', 'the', 'claimants', 'might', 'require', 'it', 'for', 'their', 'indemnity', 'and', 'if', 'they', 'took', 'possession', 'of', 'it', 'in', 'the', 'absence', 'of', 'the', 'grantor', 'though', 'without', 'his', 'consent', 'if', 'he', 'subsequently', 'acquiesced', 'in', 'it', 'the', 'inference', 'would', 'be', 'if', 'necessary', 'that', 'their', 'acts', 'were', 'approved', 'by', 'him', 'Taking', 'this', 'to', 'be', 'clear', '744', 'law', 'and', 'it', 'will', 'be', 'seen', 'that', 'the', 'defendant', 'in', 'execution', 'at', 'the', 'time', 'of', 'the', 'levy', 'had', 'nothing', 'more', 'than', 'a', 'mere', 'equitable', 'right', 'to', 'redeem', 'the', 'cotton', 'by', 'paying', 'the', 'debts', 'indorsed', 'by', 'the', 'claimants', 'He', 'had', 'no', 'possession', 'coupled', 'with', 'this', 'equity', 'but', 'only', 'a', 'naked', 'equity', 'which', 'it', 'has', 'been', 'held', 'cannot', 'be', 'reached', 'by', 'an', 'ordinary', 'execution', 'Perkins', 'and', 'Elliott', 'v', 'Mayfield', '5', 'Porter’s', 'Rep', '182', '3', 'This', 'brings', 'us', 'back', 'to', 'the', 'question', 'whether', 'the', 'execution', 'of', 'the', 'plaintiff', 'was', 'a', 'lien', 'on', 'the', 'growing', 'crop', 'so', 'as', 'to', 'defeat', 'the', 'mortgage', 'to', 'the', 'claimants', 'It', 'has', 'been', 'frequently', 'mooted', 'whether', 'at', 'common', 'law', 'corn', 'c', 'before', 'it', 'is', 'gathered', 'can', 'be', 'seized', 'under', 'a', 'fieri', 'facias', 'Mr', 'Dane', 'in', 'remarking', 'upon', 'this', 'point', 'says', '“The', 'American', 'editor', 'of', 'Bacon’s', 'Abridgment', 'says', '‘Wheat', 'growing', 'in', 'the', 'ground', 'is', 'a', 'chattel', 'and', 'subject', 'to', 'be', 'taken', 'in', 'execution', 'and', 'the', 'sheriff', 'may', 'suffer', 'it', 'to', 'grow', 'till', 'harvest', 'and', 'then', 'cut', 'and', 'sell', 'it', 'or', 'may', 'perhaps', 'sell', 'it', 'growing', 'and', 'the', 'purchaser', 'will', 'then', 'be', 'entitled', 'to', 'enter', 'for', 'the', 'purpose', 'of', 'cutting', 'and', 'carrying', 'it', 'away”', 'He', 'cites', 'Whipple', 'v', 'Foot', 'ut', 'supra', 'also', 'Poole’s', 'case', 'Salk', '368', '1', 'Bos', '', 'P', '397', '6', 'East', '604', 'n', 'But', 'Whipple', 'v', 'Foot', 'seems', 'to', 'be', 'the', 'only', 'case', 'that', 'supports', 'his', 'position', 'that', 'unripe', 'wheat', 'or', 'corn', 'may', 'be', 'taken', 'in', 'execution', 'and', 'the', 'same', 'editor', 'states', 'that', 'nothing', 'can', 'be', 'taken', 'in', 'execution', 'which', 'cannot', 'be', 'sold', 'This', 'position', 'says', 'the', 'learned', 'commentator', 'is', 'no', 'doubt', 'law', 'But', 'it', 'is', 'unnecessary', 'to', 'consider', 'how', 'this', 'matter', 'stands', 'at', 'common', 'law', 'The', 'first', 'section', 'of', 'the', 'act', 'of', '1821', '“To', 'prevent', 'sheriffs', 'and', 'other', 'officers', 'from', 'levying', 'executions', 'in', 'certain', 'cases', 'enacts', 'that', '“It', 'shall', 'not', 'be', 'lawful', 'for', 'any', 'sheriff', 'or', 'other', 'officer', 'to', 'levy', 'a', 'writ', 'of', 'fieri', 'facias', 'or', 'other', 'execution', 'on', 'the', 'planted', 'crop', 'of', 'a', 'debtor', 'or', 'person', 'against', 'whom', 'an', 'execution', 'may', 'issue', 'until', 'the', 'crop', 'is', 'gathered”', 'Aik', 'Dig', '167', 'Now', 'here', 'is', 'an', 'express', 'inhibition', 'to', 'levy', 'an', 'execution', 'on', 'a', 'crop', 'while', 'it', 'remains', 'on', 'or', 'in', 'the', 'ground', 'and', 'until', 'it', 'is', 'severed', 'from', 'the', 'soil', 'to', 'which', 'it', 'owes', 'its', 'growth', 'In', 'respect', 'to', 'property', 'thus', 'situated', 'will', 'the', 'lien', 'of', 'an', 'execution', 'attach', 'eo', 'instanti', 'upon', 'its', 'being', 'placed', 'in', 'the', 'hands', 'of', 'an', 'officer', 'If', 'so', 'the', 'act', 'cited', 'will', 'only', 'have', 'the', 'effect', 'of', 'keeping', 'the', 'right', 'to', 'levy', 'it', 'in', 'abeyance', 'until', 'the', 'crop', 'is', 'gathered', 'The', 'lien', 'of', 'an', 'execution', 'does', 'not', 'only', 'operate', 'so', 'as', 'to', 'prevent', 'the', 'debtor', 'from', 'disposing', 'of', 'the', 'property', 'on', 'which', 'it', 'attaches', 'but', 'gives', 'to', 'the', 'creditor', 'the', 'right', 'to', 'have', 'it', 'sold', 'to', 'satisfy', 'his', '745', 'judgment', 'The', 'lien', 'and', 'the', 'right', 'to', 'levy', 'are', 'intimately', 'connected', 'and', 'if', 'the', 'latter', 'be', 'taken', 'away', 'or', 'suspended', 'the', 'effect', 'at', 'common', 'law', 'is', 'the', 'destruction', 'of', 'the', 'former', 'This', 'principle', 'is', 'fully', 'established', 'by', 'Mansony', 'and', 'Hurtell', 'v', 'The', 'President', 'c', 'of', 'the', 'Bank', 'of', 'the', 'United', 'States', 'and', 'its', 'assignees', 'and', 'the', 'citations', 'contained', 'in', 'the', 'opinion', 'of', 'the', 'court', 'in', 'that', 'case', 'as', 'also', 'in', 'my', 'opinion', 'in', 'Wood', 'v', 'Gary', 'et', 'al', 'both', 'decided', 'at', 'the', 'last', 'term', 'That', 'it', 'was', 'competent', 'for', 'the', 'legislature', 'to', 'have', 'made', 'it', 'unlawful', 'to', 'levy', 'an', 'execution', 'on', 'particular', 'property', 'until', 'its', 'condition', 'was', 'changed', 'and', 'still', 'to', 'give', 'it', 'a', 'continuing', 'lien', 'cannot', 'be', 'doubted', 'but', 'there', 'is', 'nothing', 'in', 'the', 'act', 'in', 'question', 'to', 'indicate', 'that', 'such', 'is', 'its', 'intention', 'If', 'the', 'object', 'was', 'merely', 'to', 'suspend', 'the', 'sale', 'until', 'the', 'crop', 'was', 'gathered', 'it', 'would', 'have', 'been', 'very', 'easy', 'to', 'have', 'said', 'so', 'in', 'explicit', 'terms', 'but', 'declaring', 'as', 'the', 'statute', 'does', 'in', 'totidem', 'verbis', 'that', 'the', 'execution', 'shall', 'not', 'be', 'levied', 'the', 'legislature', 'must', 'be', 'supposed', 'to', 'have', 'meant', 'what', 'they', 'have', 'expressed', 'The', 'act', 'was', 'induced', 'by', 'the', 'doubts', 'which', 'existed', 'as', 'to', 'what', 'was', 'the', 'common', 'law', 'and', 'was', 'intended', 'to', 'remove', 'those', 'doubts', 'by', 'declaring', 'what', 'should', 'be', 'the', 'law', 'in', 'future', 'It', 'does', 'not', 'create', 'a', 'lien', 'or', 'authorize', 'a', 'levy', 'in', 'a', 'case', 'in', 'which', 'the', 'law', 'as', 'it', 'then', 'existed', 'was', 'silent', 'The', 'idea', 'that', 'the', 'lien', 'attached', 'upon', 'the', 'planted', 'crop', 'as', 'soon', 'as', 'the', 'execution', 'was', 'delivered', 'to', 'the', 'sheriff', 'though', 'the', 'right', 'to', 'levy', 'it', 'was', 'postponed', 'until', 'a', 'severance', 'took', 'place', 'is', 'attempted', 'to', 'be', 'deduced', 'from', 'the', 'last', 'words', 'of', 'the', 'section', 'cited', 'viz', '“until', 'the', 'crop', 'is', 'gathered”', 'These', 'words', 'cannot', 'upon', 'any', 'just', 'principles', 'of', 'construction', 'be', 'regarded', 'so', 'potent', 'as', 'to', 'give', 'to', 'an', 'execution', 'a', 'retrospective', 'effect', 'They', 'do', 'not', 'refer', 'to', 'the', 'lien', 'if', 'they', 'did', 'they', 'would', 'postpone', 'it', 'until', 'the', 'crop', 'was', 'gathered', 'but', 'it', 'is', 'the', 'levy', 'they', 'relate', 'to', 'and', 'postpone', 'until', 'that', 'event', 'takes', 'place', '4', 'The', 'right', 'to', 'levy', 'an', 'execution', 'on', 'a', 'planted', 'crop', 'then', 'being', 'expressly', 'taken', 'away', 'by', 'the', 'statute', 'the', 'lien', 'which', 'is', 'connected', 'with', 'and', 'consequent', 'upon', 'that', 'right', 'never', 'attaches', 'until', 'severance', 'This', 'being', 'the', 'case', 'the', 'right', 'of', 'the', 'defendant', 'in', 'execution', 'to', 'make', 'the', 'contract', 'which', 'he', 'did', 'is', 'unquestionable', 'and', 'the', 'title', 'of', 'the', 'claimants', 'coupled', 'as', 'it', 'was', 'with', 'the', 'possession', 'was', 'paramount', 'to', 'any', 'lien', 'which', 'the', 'execution', 'could', 'exert', 'The', 'circuit', 'judge', 'may', 'have', 'mistaken', 'the', 'law', 'in', 'supposing', 'that', 'the', 'contract', 'was', 'a', 'sale', 'but', 'if', 'he', 'did', 'an', 'error', 'in', 'that', 'respect', 'was', 'very', 'immaterial', 'for', 'whether', 'a', 'sale', 'or', 'mortgage', 'as', 'we', 'have', '746', 'seen', 'under', 'the', 'facts', 'of', 'the', 'case', 'the', 'defendant', 'in', 'execution', 'has', 'no', 'interest', 'that', 'could', 'be', 'seised', 'and', 'sold', 'under', 'execution', 'There', 'is', 'no', 'assumption', 'of', 'any', 'material', 'fact', 'in', 'the', 'charge', 'but', 'the', 'possession', 'of', 'the', 'claimant', 'the', 'time', 'when', 'acquired', 'the', 'gathering', 'of', 'the', 'crop', 'c', 'are', 'all', 'referred', 'to', 'the', 'determination', 'of', 'the', 'jury', 'who', 'are', 'instructed', 'if', 'they', 'find', 'them', 'according', 'to', 'the', 'evidence', 'adduced', 'that', 'no', 'lien', 'ever', 'attached', 'in', 'favor', 'of', 'the', 'plaintiff', 'The', 'bona', 'fides', 'of', 'the', 'contract', 'was', 'conceded', 'so', 'that', 'no', 'charge', 'was', 'necessary', 'on', 'that', 'point', 'and', 'it', 'could', 'not', 'with', 'propriety', 'enter', 'into', 'the', 'inquiry', 'of', 'the', 'jury', 'It', 'results', 'from', 'what', 'has', 'been', 'said', 'that', 'the', 'judgment', 'of', 'the', 'circuit', 'court', 'is', 'affirmed', 'DISSENTING', 'OPINION', 'ORMOND', 'J', '4', 'The', 'statute', 'which', 'presents', 'the', 'question', 'before', 'the', 'court', 'is', 'that', '“it', 'shall', 'not', 'be', 'lawful', 'for', 'any', 'sheriff', 'or', 'other', 'officer', 'to', 'levy', 'a', 'writ', 'of', 'fieei', 'facias', 'or', 'other', 'execution', 'on', 'the', 'planted', 'crop', 'of', 'a', 'debtor', 'or', 'person', 'against', 'whom', 'an', 'execution', 'may', 'issue', 'until', 'the', 'crop', 'is', 'gathered”', 'Clay’s', 'Dig', '210', '§', '46', 'I', 'shall', 'not', 'enter', 'upon', 'the', 'enquiry', 'whether', 'at', 'common', 'law', 'an', 'execution', 'could', 'be', 'levied', 'upon', 'a', 'growing', 'crop', 'though', 'I', 'apprehend', 'it', 'would', 'not', 'be', 'difficult', 'to', 'maintain', 'the', 'affirmative', 'of', 'the', 'proposition', 'It', 'is', 'sufficient', 'for', 'my', 'purpose', 'that', 'the', 'statute', 'supposes', 'such', 'to', 'have', 'been', 'the', 'law', 'as', 'it', 'doubtless', 'was', 'the', 'practice', 'This', 'act', 'must', 'be', 'considered', 'in', 'connection', 'with', 'the', 'other', 'acts', 'upon', 'the', 'same', 'subject', 'The', 'policy', 'of', 'the', 'State', 'as', 'indicated', 'by', 'these', 'statutes', 'is', 'undeniably', 'that', 'all', 'the', 'property', 'of', 'a', 'debtor', 'real', 'and', 'personal', 'to', 'which', 'he', 'has', 'a', 'legal', 'title', 'shall', 'be', 'subject', 'to', 'sale', 'by', 'execution', 'and', 'it', 'appears', 'to', 'me', 'that', 'it', 'would', 'be', 'difficult', 'to', 'assign', 'a', 'reason', 'for', 'the', 'exemption', 'of', 'this', 'species', 'of', 'property', 'from', 'the', 'claims', 'of', 'judgment', 'creditors', 'and', 'for', 'giving', 'to', 'the', 'defendant', 'in', 'execution', 'the', 'right', 'to', 'dispose', 'of', 'it', 'It', 'appears', 'to', 'me', 'with', 'all', 'deference', 'that', 'the', 'argument', 'that', 'because', 'the', 'sheriff', 'was', 'prohibited', 'from', 'levying', 'on', 'a', '““planted', 'crop”', 'that', 'therefore', 'the', 'execution', 'had', 'lost', 'its', 'lien', 'and', 'the', 'debtor', 'had', 'the', 'right', 'to', 'sell', 'it', 'is', 'a', 'non', 'sequitur', 'The', 'mischief', 'which', 'the', 'statute', 'designed', 'to', 'remedy', 'was', 'the', 'sacrifice', 'which', 'would', 'be', 'necessarily', 'made', 'by', 'the', 'sale', 'of', 'an', 'immature', 'crop', 'the', 'statute', 'enables', 'the', 'debtor', 'to', 'retain', 'it', 'until', 'it', 'matures', 'and', 'by', 'severing', 'it', 'from', 'the', 'soil', 'to', 'put', 'it', '747', 'in', 'a', 'condition', 'to', 'bring', 'its', 'valuethe', 'lien', 'in', 'the', 'mean', 'time', 'continuing', 'in', 'the', 'plaintiff', 'in', 'execution', '5', 'If', 'further', 'confirmation', 'of', 'the', 'correctness', 'of', 'this', 'view', 'were', 'necessary', 'it', 'will', 'be', 'found', 'I', 'think', 'in', 'the', 'language', 'employed', 'by', 'the', 'legislature', 'The', 'sheriff', 'is', 'forbidden', 'to', 'levy', 'on', 'a', '“planted', 'crop”', 'until', 'the', 'crop', 'is', 'gathered', 'Now', 'if', 'the', 'view', 'taken', 'by', 'the', 'majority', 'of', 'the', 'court', 'is', 'correct', 'the', 'right', 'secured', 'to', 'the', 'plaintiff', 'in', 'execution', 'of', 'levying', 'on', 'the', 'crop', 'after', 'it', 'is', 'gathered', 'may', 'be', 'frustrated', 'as', 'it', 'was', 'in', 'this', 'case', 'by', 'a', 'sale', 'by', 'the', 'defendant', 'in', 'execution', 'whilst', 'the', 'crop', 'is', 'in', 'an', 'immature', 'state', 'The', 'construction', 'which', 'has', 'been', 'put', 'upon', 'the', 'statute', 'involves', 'the', 'singular', 'anomaly', 'that', 'the', 'legislature', 'for', 'the', 'protection', 'of', 'the', 'debtor', 'has', 'forbidden', 'the', 'plaintiff', 'in', 'execution', 'to', 'sell', 'the', 'property', 'of', 'his', 'debtor', 'because', 'it', 'is', 'not', 'in', 'a', 'condition', 'to', 'bring', 'its', 'value', 'and', 'yet', 'permits', 'the', 'debtor', 'voluntarily', 'by', 'a', 'sale', 'to', 'submit', 'to', 'the', 'same', 'sacrifice', 'for', 'his', 'own', 'benefit', 'It', 'is', 'in', 'effect', 'a', 'gift', 'to', 'the', 'defendant', 'in', 'execution', 'of', 'the', 'growing', 'crop', 'provided', 'he', 'does', 'not', 'gather', 'it', 'himself', 'but', 'disposes', 'of', 'it', 'in', 'its', 'then', 'condition', 'This', 'I', 'feel', 'a', 'thorough', 'conviction', 'was', 'not', 'the', 'intention', 'of', 'the', 'legislature', 'but', 'that', 'it', 'was', 'to', 'secure', 'him', 'from', 'loss', 'by', 'prohibiting', 'a', 'levy', 'and', 'sale', 'of', 'the', 'crop', 'until', 'it', 'was', 'gathered', 'when', 'the', 'temporary', 'suspension', 'of', 'the', 'right', 'to', 'sell', 'ceased', 'All', 'Citations', '5', 'Ala', '740', '1843', 'WL', '284', 'End', 'of', 'Document', '©', '2019', 'Thomson', 'Reuters', 'No', 'claim', 'to', 'original', 'US', 'Government', 'Works', 'Citing', 'References', '9', 'Treatment', 'Title', 'Date', 'Type', 'Depth', 'Headnotes', 'Cited', 'by', '1', 'Booker', 'v', 'Jones’s', 'Adm’x', '55', 'Ala', '266', '271', '', 'Ala', 'Trover', 'for', 'Conversion', 'of', 'Cotton', 'with', 'Counts', 'in', 'Case', 'APPEAL', 'from', 'the', 'Circuit', 'Court', 'of', 'Hale', 'Tried', 'before', 'the', 'Hon', 'M', 'J', 'SAFFOLD', 'Dec', 'Term', '1876', 'Case', '—', 'Cited', 'by', '2', 'Lehman', 'Durr', '', 'Co', 'v', 'Marshall', '47', 'Ala', '362', '376', '', 'Ala', 'TROVER', 'FOR', 'CONVERSION', 'OF', 'COTTON', 'APPEAL', 'from', 'the', 'City', 'Court', 'of', 'Montgomery', 'Tried', 'before', 'Hon', 'JOHN', 'D', 'CUNNINGHAM', 'Jan', 'Term', '1872', 'Case', '—', 'Cited', 'by', '3', 'Bibb', 'v', 'Janney', '45', 'Ala', '329', '334', '', 'Ala', 'GARNISHMENT', 'WAGES', 'WAIVER', 'OF', 'EXEMPTION', 'APPEAL', 'from', 'City', 'Court', 'of', 'Montgomery', 'Tried', 'before', 'Hon', 'JOHN', 'D', 'CUNNINGHAM', 'Jan', 'Term', '1871', 'Case', '—', 'Cited', 'by', '4', 'McKenzie', 'v', 'Lampley', '31', 'Ala', '526', '527', '', 'Ala', 'TRIAL', 'OF', 'RIGHT', 'OF', 'PROPERTY', 'IN', 'COTTON', 'APPEAL', 'from', 'the', 'Circuit', 'Court', 'of', 'Barbour', 'Tried', 'before', 'the', 'Hon', 'S', 'D', 'HALE', 'Jan', 'Term', '1858', 'Case', '—', 'Cited', 'by', '5', 'Evans', 'v', 'Lamar', '21', 'Ala', '333', '335', '', 'Ala', 'ERROR', 'to', 'the', 'Circuit', 'Court', 'of', 'Autauga', 'Tried', 'before', 'the', 'Hon', 'A', 'B', 'MOORE', 'Jun', 'Term', '1852', 'Case', '—', 'Cited', 'by', '6', 'Dewey', 'v', 'Bowman', '8', 'Cal', '145', '147', '', 'Cal', 'The', 'judgment', 'of', 'the', 'Court', 'below', 'against', 'Jacob', 'S', 'Cohen', 'should', 'be', 'reversed', 'for', 'the', 'following', 'reasons', 'Because', 'the', 'finding', 'of', 'the', 'Court', 'was', 'so', 'far', 'as', 'Cohen', 'was', 'concerned', 'Jul', 'Term', '1857', 'Case', '—', 'Mentioned', 'by', '7', 'Rees', 'v', 'Coats', '65', 'Ala', '256', '258', '', 'Ala', 'Trover', 'for', 'Conversion', 'of', 'Three', 'Bales', 'of', 'Cotton', 'APPEAL', 'from', 'the', 'Circuit', 'Court', 'of', 'Etowah', 'Tried', 'before', 'the', 'Hon', 'WM', 'L', 'WHITLOCK', 'Nov', 'Term', '1880', 'Case', '—', 'Mentioned', 'by', '8', 'Edwards', 'v', 'Thompson', '4', 'SW', '913', '914', '', 'Tenn', 'Appeal', 'from', 'circuit', 'court', 'Weakley', 'county', 'May', '1887', 'Case', '—', '—', '9', 'Growing', 'crops', 'as', 'subject', 'to', 'levy', 'and', 'seizure', 'under', 'attachment', 'or', 'execution', '103', 'ALR', '464', 'Generally', 'at', 'common', 'law', 'growing', 'crops', 'raised', 'by', 'annual', 'planting', 'while', 'still', 'attached', 'to', 'the', 'soil', 'are', 'regarded', 'as', 'personal', 'chattels', 'subject', 'to', 'levy', 'and', 'seizure', 'under', 'attachment', '1936', 'ALR', '—', '—', 'Table', 'of', 'Authorities', '3', 'Treatment', 'Referenced', 'Title', 'Type', 'Depth', 'Quoted', 'Page', 'Number', 'Mentioned', '1', 'Austin', 'v', 'Sawyer', '9', 'Cow', '39', 'NYSup', '1828', 'Parol', 'evidence', 'is', 'not', 'admissible', 'to', 'contradict', 'or', 'substantially', 'vary', 'a', 'written', 'contract', 'And', 'where', 'A', 'quitclaimed', 'land', 'to', 'W', 'on', 'which', 'a', 'crop', 'of', 'wheat', 'was', 'growing', 'reserving', 'the', 'Case', '2', 'Cited', '2', 'Perkins', 'v', 'Mayfield', '5', 'Port', '182', 'Ala', '1837', 'On', 'writ', 'of', 'error', 'to', 'the', 'Circuit', 'Court', 'of', 'Tuskaloosa', 'Case', '2', 'Mentioned', '3', 'Stewart', 'v', 'Doughty', '9', 'Johns', '108', 'NYSup', '1812', 'A', 'let', 'to', 'B', 'a', 'farm', 'for', 'six', 'years', 'and', 'A', 'agreed', '“to', 'render', 'yield', 'and', 'pay', 'to', 'A', 'the', 'one', 'half', 'of', 'all', 'the', 'wheat', 'rye', 'corn', 'and', 'other', 'grain', 'raised', 'on', 'the', 'farm', 'in', 'each', 'year', 'in', 'the', 'Case', '2', 'Filings', 'There', 'are', 'no', 'Filings', 'for', 'this', 'citation', 'Negative', 'Treatment', 'There', 'are', 'no', 'Negative', 'Treatment', 'results', 'for', 'this', 'citation', 'History', 'There', 'are', 'no', 'History', 'results', 'for', 'this', 'citation']\n",
            "[nltk_data] Downloading package stopwords to /root/nltk_data...\n",
            "[nltk_data]   Package stopwords is already up-to-date!\n",
            "[nltk_data] Downloading package punkt to /root/nltk_data...\n",
            "[nltk_data]   Package punkt is already up-to-date!\n",
            "[nltk_data] Downloading package wordnet to /root/nltk_data...\n",
            "[nltk_data]   Package wordnet is already up-to-date!\n"
          ],
          "name": "stdout"
        }
      ]
    },
    {
      "cell_type": "markdown",
      "metadata": {
        "id": "BBiC4E_kefvV",
        "colab_type": "text"
      },
      "source": [
        "# 2. Python Regular Expression"
      ]
    },
    {
      "cell_type": "markdown",
      "metadata": {
        "id": "Z1QJ-UwCenvN",
        "colab_type": "text"
      },
      "source": [
        "## 2.1 Write a Python program to remove leading zeros from an IP address. \n",
        "\n",
        "ip = \"260.08.094.109\""
      ]
    },
    {
      "cell_type": "code",
      "metadata": {
        "id": "wSv6fVhOfFmv",
        "colab_type": "code",
        "outputId": "cddc4a33-2f56-4bf9-bc9b-a9601c4982f6",
        "colab": {
          "base_uri": "https://localhost:8080/",
          "height": 35
        }
      },
      "source": [
        "import re\n",
        "\n",
        "ip= \"260.08.094.109\"\n",
        "#with regx to remove leading zeros\n",
        "sub_zero = re.sub('\\.[0]*', '.', ip)\n",
        "\n",
        "#with regx function and join method to remove all zeros\n",
        "#sub_zero = re.split(\"[0]\", ip, 4)\n",
        "#res = ''.join(sub_zero) \n",
        "\n",
        "print(sub_zero)\n",
        "#print(res)\n",
        "\n",
        "    "
      ],
      "execution_count": 0,
      "outputs": [
        {
          "output_type": "stream",
          "text": [
            "260.8.94.109\n"
          ],
          "name": "stdout"
        }
      ]
    },
    {
      "cell_type": "markdown",
      "metadata": {
        "id": "PXRjaHzrfKAy",
        "colab_type": "text"
      },
      "source": [
        "## 2.2 Write a Python Program to extract all the years from the following sentence.\n",
        "\n",
        "sentence = \"The 2010s were a dramatic decade, filled with ups and downs, more than 1000 stroies have happened. As the decade comes to a close, Insider took a look back at some of the biggest headline-grabbing stories, from 2010 to 2019. The result was 119 news stories that ranged from the heartwarming rescue of a Thai boys' soccer team from a flooded cave to the divisive election of President Donald Trump.\""
      ]
    },
    {
      "cell_type": "code",
      "metadata": {
        "id": "7xdJpDx9gjbX",
        "colab_type": "code",
        "outputId": "10a2cab9-a75c-413a-9224-c96e4c0f3643",
        "colab": {
          "base_uri": "https://localhost:8080/",
          "height": 70
        }
      },
      "source": [
        "import re\n",
        "\n",
        "msg = \"The 2010s were a dramatic decade, filled with ups and downs, more than 1000 stroies have happened. As the decade comes to a close, Insider took a look back at some of the biggest headline-grabbing stories, from 2010 to 2019. The result was 119 news stories that ranged from the heartwarming rescue of a Thai boys' soccer team from a flooded cave to the divisive election of President Donald Trump.\"\n",
        "all = re.findall(r\"[\\d]{4}\", msg)\n",
        "\n",
        "for item in all: \n",
        "   if ((eval(item))% 100 != 0):\n",
        "     print(item)"
      ],
      "execution_count": 0,
      "outputs": [
        {
          "output_type": "stream",
          "text": [
            "2010\n",
            "2010\n",
            "2019\n"
          ],
          "name": "stdout"
        }
      ]
    }
  ]
}