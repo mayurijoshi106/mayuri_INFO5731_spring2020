{
  "nbformat": 4,
  "nbformat_minor": 0,
  "metadata": {
    "colab": {
      "name": "Copy of In-class-exercise-04.ipynb",
      "provenance": [],
      "collapsed_sections": [],
      "include_colab_link": true
    },
    "kernelspec": {
      "name": "python3",
      "display_name": "Python 3"
    }
  },
  "cells": [
    {
      "cell_type": "markdown",
      "metadata": {
        "id": "view-in-github",
        "colab_type": "text"
      },
      "source": [
        "<a href=\"https://colab.research.google.com/github/mayurijoshi106/mayuri_INFO5731_spring2020/blob/master/Inclass_INFO%205731_MJ/In_class_exercise_04_MJ.ipynb\" target=\"_parent\"><img src=\"https://colab.research.google.com/assets/colab-badge.svg\" alt=\"Open In Colab\"/></a>"
      ]
    },
    {
      "cell_type": "markdown",
      "metadata": {
        "id": "EuX00KHNeSpw",
        "colab_type": "text"
      },
      "source": [
        "# **The fourth in-class-exercise**"
      ]
    },
    {
      "cell_type": "markdown",
      "metadata": {
        "id": "s-vTOb03hG1f",
        "colab_type": "text"
      },
      "source": [
        "# 1. Text Data Preprocessing\n",
        "\n",
        "Here is a [legal case](https://github.com/unt-iialab/INFO5731_Spring2020/blob/master/In_class_exercise/01-05-1%20%20Adams%20v%20Tanner.txt) we collected from westlaw, please follow the steps we mentioned in lesson 5 to clean the data:\n",
        "\n",
        "\n",
        "\n",
        "## 1.1 Basic feature extraction using text data\n",
        "\n",
        "*   Number of sentences\n",
        "*   Number of words\n",
        "*   Number of characters\n",
        "*   Average word length\n",
        "*   Number of stopwords\n",
        "*   Number of special characters\n",
        "*   Number of numerics\n",
        "*   Number of uppercase words\n",
        "\n",
        "## 1.2 Basic Text Pre-processing of text data\n",
        "\n",
        "*   Lower casing\n",
        "*   Punctuation removal\n",
        "*   Stopwords removal\n",
        "*   Frequent words removal\n",
        "*   Rare words removal\n",
        "*   Spelling correction\n",
        "*   Tokenization\n",
        "*   Stemming\n",
        "*   Lemmatization\n",
        "\n",
        "## 1.3 Save all the **clean sentences** to a **csv file** (one column, each raw is a sentence) after finishing all the steps above.\n",
        "\n",
        "\n",
        "## 1.4 Advance Text Processing\n",
        "\n",
        "*   Calculate the term frequency of all the terms.\n",
        "*   Print out top 10 1-gram, top 10 2-grams, and top 10 2-grams terms as features.\n"
      ]
    },
    {
      "cell_type": "code",
      "metadata": {
        "id": "vR0L3_CreM_A",
        "colab_type": "code",
        "outputId": "bb64ffbb-0a17-4695-9f3e-d19d87a8b6ab",
        "colab": {
          "base_uri": "https://localhost:8080/",
          "height": 384
        }
      },
      "source": [
        "import pandas as pd\n",
        "import string\n",
        "import nltk\n",
        "import csv\n",
        "from csv import writer\n",
        "words = txtfile.split()\n",
        "from nltk.tokenize import sent_tokenize, word_tokenize\n",
        "from nltk.stem import PorterStemmer\n",
        "from nltk.stem.wordnet import WordNetLemmatizer\n",
        "nltk.download ('stopwords')\n",
        "nltk.download('punkt')\n",
        "nltk.download('wordnet')\n",
        "from nltk.corpus import stopwords\n",
        "from autocorrect import Speller\n",
        "from textblob import Word\n",
        "\n",
        "\n",
        "file = open(\"01-05-1AdamsvTanner.txt\", \"r\")\n",
        "txtfile = file.read()\n",
        "#file.close()\n",
        "#print(txtfile)\n",
        "\n",
        "# stopwords list\n",
        "stop_words = set(stopwords.words(\"english\"))\n",
        "#print(stop_words)\n",
        "\n",
        "#1.1- 1-2-3: Number of Sentences, words and characters\n",
        "num_sent = words\n",
        "char_count = 0 \n",
        "for i in num_sent:\n",
        "  char_count = char_count + len(i)\n",
        "#print(\"\\nNumber of sentences: \"+str(txtfile.count('.')))\n",
        "#print(\"\\nNumber of words: \"+str(len(txtfile.split())))\n",
        "#print(\"\\nNumber of characters: \"+str(char_count))\n",
        "\n",
        "#1.1-4 Average word length\n",
        "average = sum(len(word) for word in words) / len(words)\n",
        "#print(\"\\nAverage word length: \",average)\n",
        "\n",
        "#1.1-5 Number of stopwords\n",
        "stopword_count = 0\n",
        "for i in range(len(words)):\n",
        "  if words[i] in stop_words:\n",
        "    stopword_count = stopword_count+1\n",
        "#print(\"\\nNumber of stopwords: \"+str(stopword_count))\n",
        "\n",
        "#1.1- 6-7-8: Number of special characters, numerics and uppercase words\n",
        "splchar_count = 0\n",
        "num_count = 0\n",
        "upwords_count = 0\n",
        "spl_char = \"!#$%&'()*+,-./:;<=>?@[\\]^_`{|}~\"\n",
        "num = \"0123456789\"\n",
        "for i in range(len(words)):\n",
        "  for j in range(len(words[i])):\n",
        "    if words[i][j] in spl_char:\n",
        "      splchar_count = splchar_count + 1\n",
        "    elif words[i][j] in num:\n",
        "      num_count = num_count + 1\n",
        "    elif words[i][j].isupper():\n",
        "      upwords_count = upwords_count + 1\n",
        "#print(\"\\nnumber of special characters: \"+str(splchar_count))\n",
        "#print(\"\\nnumber of numerics: \"+str(num_count))\n",
        "#print(\"\\nNumber of uppercase words: \"+str(upwords_count))\n",
        "\n",
        "#1.2-1 Convert text to lowercase\n",
        "input_str = txtfile.lower()\n",
        "#print(\"\\n********************Convert text to lowercase********************\")\n",
        "#print(input_str)\n",
        "\n",
        "#1.2-2 Punctuation removal\n",
        "table = str.maketrans('', '', string.punctuation)\n",
        "stripped = [w.translate(table) for w in words]\n",
        "#print(\"\\n********************Punctuation Removal********************\")\n",
        "#print(stripped)\n",
        "\n",
        "#1.2-3 Stopwards removal\n",
        "tokens = word_tokenize(input_str)\n",
        "result = [i for i in tokens if not i in stop_words]\n",
        "#print(\"\\n********************Stopwards removal********************\")\n",
        "#print (result)\n",
        "\n",
        "#1.2- 4 and 5: Frequent and rare words removal\n",
        "frq_words = ''\n",
        "frequent_words = pd.Series(' '.join(words).split()).value_counts()[:10]\n",
        "rare_words=pd.Series(' '.join(words).split()).value_counts()[-10:]\n",
        "for i in range(len(words)):\n",
        "  if words[i] in frequent_words or words[i] in rare_words:\n",
        "    pass\n",
        "  else:\n",
        "    frq_words=frq_words+\" \"+words[i]\n",
        "#print(\"\\n********************Frequent & Rare words removal********************\")\n",
        "print(frq_words)\n",
        "\n",
        "#1.2-6 Spelling correction\n",
        "def spell_correct(self, txtfile):\n",
        "  spell_correction = ''\n",
        "  spelling = Speller(lang='en')\n",
        "  for item in range(len(words)):\n",
        "    corrected_word = spelling(words[item])\n",
        "    spell_correction=spell_correction+\" \"+corrected_word\n",
        "#print(\"\\n********************Spelling Checker********************\")\n",
        "#print(spell_correction)  \n",
        "\n",
        "#1.2-7 Tokenization\n",
        "tokenized_text = sent_tokenize(txtfile)\n",
        "#print(\"\\n********************Tokenization********************\")\n",
        "#print(tokenized_text)\n",
        "c = 0\n",
        "clean_data = ''\n",
        "for i in range(len(tokenized_text)):\n",
        "  if(len(frq_words) is not 0):\n",
        "    spell_correct = object.spell_correct(frq_words)\n",
        "  else:\n",
        "    tokenized_text=object.tokenized_text(frq_words)\n",
        "\n",
        "print(tokenized_text)\n",
        "\n",
        "\n",
        "#1.2-8 Stemming\n",
        "stemmer = PorterStemmer()\n",
        "stemmed_words = []\n",
        "input_stem = word_tokenize(input_str)\n",
        "for word in input_stem:\n",
        "  stemmed_words.append((stemmer.stem(word)))\n",
        "#print(\"\\n********************Stemming********************\")  \n",
        "#print(stemmed_words)\n",
        "\n",
        "#1.2-9 Lemmatization\n",
        "lem = WordNetLemmatizer()\n",
        "lemmed_words = []\n",
        "for word in input_stem:\n",
        "  lemmed_words.append((lem.lemmatize(word)))\n",
        "#print(\"\\n********************Lemmatization********************\") \n",
        "#print(lemmed_words)\n",
        "\n",
        "\n",
        "#1.3 Cleaned sentences into csv\n",
        "\n",
        "\n"
      ],
      "execution_count": 135,
      "outputs": [
        {
          "output_type": "stream",
          "text": [
            "[nltk_data] Downloading package stopwords to /root/nltk_data...\n",
            "[nltk_data]   Package stopwords is already up-to-date!\n",
            "[nltk_data] Downloading package punkt to /root/nltk_data...\n",
            "[nltk_data]   Package punkt is already up-to-date!\n",
            "[nltk_data] Downloading package wordnet to /root/nltk_data...\n",
            "[nltk_data]   Package wordnet is already up-to-date!\n",
            " 5 Ala. 740 Supreme Court Alabama. ADAMS v. TANNER AND HORTON. June Term, 1843. Synopsis WRIT Error Circuit Court Sumter. West Headnotes (2) [1] Chattel Mortgages Crops A growing crop has such an existence as be subject-matter mortgage or other contract which passes an interest vest possession, either immediately or at future time. 4 Cases cite this headnote [2] Creditors’ Remedies Lien Priority Under St.1821, prohibiting levy on crop until has been gathered, no lien attaches favor fi. fa. on growing crop, nor does such lien attach until after crop has been gathered. 5 Cases cite this headnote **1 This trial right property under statute. In November, 1840, an execution issued from circuit court Sumter, at suit plaintiff error, requiring sheriff county, make goods, &c., Allen Harrison others, sum thirty-seven hundred seventy-seven 80-100 dollars, besides costs. This execution levied on thirty bales cotton, as property Allen Harrison, which claimed, bond given try right. issue made up try question liability cotton plaintiff’s execution, submitted jury. On trial, bill exceptions sealed at instance plaintiff. The plaintiff proved he recovered his judgment October, 1839; an execution *741 issued thereon on 7th Nov. thereafter, alias pluries fieri facias’, issued regularly up time levy made; cotton levied on growed on plantation Harrison, cultivated by hands his service. It proved by claimants, by production written contract, Harrison, on twenty-second May, 1840, consideration claimants were involved, as indorsers for Burton & Harrison Sumter county, were then exposed an execution, amounting upwards fourteen thousand dollars, bargained sold claimants all his growing crop cotton &c., consisting one hundred twenty acres, &c. Allen Harrison promised obliged himself give up his crop use claimants at any time save them from suffering as his indorsers; if crop matured gathered he undertook deliver cotton Gainesville. The claimants came from Tennessee, (where they resided) about first September, 1840, bringing with them three or four white laborers, took possession crop slaves, with latter, white laborers, gathered cotton, prepared for market, when levied on, ware-house Gainesville. The plaintiff then proved by Harrison, claimants took possession crop, while he absent, disposed without his consent. It admitted, contract made good faith. The court charged plaintiff had no lien by virtue his judgment, execution on growing crop; Harrison had right convey it, without being any manner restrained by them; writing adduced, sale crop, but if not, lien fieri facias would have attached upon it, when gathered, yet if claimants obtained possession on first September, controlled gathering crop, then no lien attached, not subject levy. Attorneys Law Firms R. H. SMITH, for plaintiff, error, made following points.--1. The crop Harrison, must, May, 1840, have been an immature state, insisted, not subject sale. 2. By common law, growing crop could be levied on sold, [1 Salk. Rep. 361; 1 Bos. & P. Rep. 307; 6 East’s Rep. 604, note 1; 2 Johns. Rep. 418, 422; 7 Mass. Rep. 34,] our statue, [[[Aik. Dig. § 41, p. 167,] which forbids levy an *742 execution on growing crop, receive strict construction. It merely inhibits levy, but lien attaches, levy sale may be made after crop matures, gathered. 3. The contract does not purport convey growing crop, but mere executory agreement, requiring some act be done by Harrison, order invest claimants with right property. [Chit. on Con. 112, 207; 3 Johns. Rep. 338, 424; 5 Wend. Rep. 26; 13 Johns. Rep. 235; 8 Dowl. Rep, 693;] until this act done, crop, no matter by who gathered, because liable be seized for Harrison’s debts. A court chancery would not compel specific performance contract at claimant’s instance. 4. The charge court also objectionable deciding disputed facts. W. M. MURPHY, with whom W. G. JONES, for defendant--cited act 1821, [Aik. Dig. 167,] which declares be lawful levy an execution on planted crop, until gathered, contended no lien attached favor plaintiff. This being case, defendant execution not restrained from making contract which he did with claimants. **2 The lien an execution destroyed by an injunction, because takes away right levy it. In short, whenever right levy an execution but temporarily suspended, or withdrawn, lien during time lost. [[[[Whipple v. Foot, 2 Johns. Rep. 216; 3 Wash. C. C. Rep. 66; 4 How. Rep. 130.] It admitted contract between defendant execution, claimants, good faith, if so, severance removal cotton gave latter good title against all creditors former. Opinion COLLIER, C. J. There can be no doubt growing crop has such an existence as be subject matter sale, mortgage, or other contract which possess an interest vest possession, either immediately or at some future time. This proposition has frequently been assumed as unquestionable; point inquiry generally being, whether under statute frauds, such as 29 Chas. 2, mere chattel, transferrable by parol without writing. [Chitty on Con. 241-2, 332; Whipple v. Foot, 2 Johns. Rep. 422; Stewart v. Doughty, 9 Johns. Rep. 112; *743 Austin v. Sawyer, 9 Cow. Rep. 39. See also Ravesies v. Lee & Alston, at last term.] The contract set out bill exceptions, we are inclined think evidences rather mortgage than an absolute sale. It recites claimants are involved as indorsers mercantile firm, which defendant partner; an execution for upwards fourteen thousand dollars against their estate, sheriff’s hands, conveyance made crop cotton, corn oats, which grantor agrees give up at any time use claimants, so as prevent injury them as indorsers. The defendant execution might at any time have divested interest which contract vested claimants, by discharging their liability as his indorsers, or judgment creditor might have satisfied lien, when crop gathered, have levied on, sold under fieri facias. We will then consider writing under which claimants assert right, as mortgage with power take possession any time during year, unless they should be relieved from their engagements as indorsers. It not pretended their liability has been satisfied, admitted parties have acted with good faith, so dry question law, whether right plaintiff, or claimants shall prevail. Assuming for present execution plaintiffs did not operate lien upon planted crop previous contract May, 1840, we will inquire whether defendant execution had such an interest as could be levied on sold. The claimants had previous levy execution taken possession crop, prepared cotton for market, removed ware-house. This possession, insisted, trespass, because acquired absence defendant execution, without his consent then given. Conceding truth facts bill exceptions, we think will not follow, possession claimants nullity, case must be considered as if they had never interfered with crop. The contract contains an express undertaking give up crop at any time claimants might require for their indemnity, if they took possession absence grantor, (though without his consent,) if he subsequently acquiesced it, inference would be, if necessary, their acts were approved by him. Taking this be clear *744 law, will be seen, defendant execution at time levy had nothing more than mere equitable right redeem cotton by paying debts indorsed by claimants. He had no possession coupled with this equity, but only naked equity, which has been held cannot be reached by an ordinary execution. [Perkins Elliott v. Mayfield, 5 Porter’s Rep. 182.] **3 This brings us back question, whether execution plaintiff lien on growing crop, so as mortgage claimants. It has been frequently mooted whether, at common law, corn, &c., before gathered, can be seized under fieri facias. Mr. Dane, remarking upon this point, says, “The American editor Bacon’s Abridgment, says, ‘Wheat growing ground chattel, subject be taken execution; sheriff may suffer grow till harvest, then cut sell it; or may perhaps sell growing, purchaser will then be entitled enter, for purpose cutting carrying away.” [He cites Whipple v. Foot, ut supra, also case, Salk. 368; 1 Bos. & P. 397; 6 East, 604, n.] But Whipple v. Foot seems be only case supports his position, unripe wheat or corn may be taken execution; same editor states nothing can be taken execution which cannot be sold. This position, says learned commentator, no doubt law. But unnecessary consider how this matter stands at common law. The first section act 1821, “To prevent sheriffs other officers from levying executions certain cases, enacts, “It shall not be lawful for any sheriff or other officer, levy writ fieri facias or other execution on planted crop debtor, or person against whom an execution may issue, until crop gathered.” [Aik. Dig. Now here an express inhibition levy an execution on crop while remains on, or ground, until severed from soil which owes its growth. In respect property thus situated, will lien an execution attach eo instanti upon its being placed hands an officer? If so, act cited, will only have effect keeping right levy abeyance until crop gathered. The lien an execution does, not only operate so as prevent debtor from disposing property on which attaches, but gives creditor right have sold satisfy his *745 judgment. The lien right levy are intimately connected, if latter be taken away, or suspended, effect, at common law, destruction former. This principle fully established by Mansony Hurtell v. The President, &c. Bank United States, its assignees, citations contained opinion court case, as also my opinion Wood v. Gary, et al., both decided at last term. That competent for legislature have made unlawful levy an execution on particular property, until its condition changed, still give continuing lien, cannot be doubted; but there nothing act question indicate such its intention. If object merely suspend sale, until crop gathered, would have been very easy have said so explicit terms, but declaring as statute does, totidem verbis, execution shall not be levied, legislature must be supposed have meant what they have expressed. The act induced by doubts which existed as what common law, intended remove those doubts by declaring what should be law future. It does not create lien or authorize levy case which law, as then silent. The idea lien attached upon planted crop as soon as execution delivered sheriff, though right levy postponed until severance took place, attempted be deduced from last words section cited, viz: “until crop gathered.” These words cannot, upon any just principles construction be regarded so potent as give an execution retrospective effect. They do not refer lien, if they did they would postpone until crop gathered; but levy they relate postpone until takes place. **4 The right levy an execution on planted crop, then, being expressly taken away by statute, lien which connected with consequent upon right, never attaches until severance. This being case, right defendant execution make contract which he did, unquestionable, title claimants, coupled as with possession, paramount any lien which execution could exert. The circuit judge may have mistaken law supposing contract sale, but if he did, an error respect very immaterial, for whether sale or mortgage, as we have *746 seen, under facts case, defendant execution has no interest could be seised sold under execution. There no assumption any material fact charge; but possession claimant, time when acquired, gathering crop, &c., are all referred determination jury; who are instructed, if they find them according evidence adduced, no lien ever attached favor plaintiff. The bona fides contract conceded, so no charge necessary on point, could not with propriety enter into inquiry jury. It results from what has been said, judgment circuit court affirmed. DISSENTING OPINION. ORMOND, J. **4 The statute which presents question before court is, “it shall not be lawful for any sheriff or other officer levy writ fieei facias or other execution, on planted crop debtor, or person against whom an execution may issue, until crop gathered.” [Clay’s Dig. 210, § 46.] I shall not enter upon enquiry, whether, at common law, an execution could be levied upon growing crop, though I apprehend, would not be difficult maintain affirmative proposition. It sufficient for my purpose, statute supposes such have been law, as doubtless practice. This act must be considered connection with other acts upon same subject. The policy State, as indicated by these statutes, undeniably all property debtor, real personal, which he has legal title, shall be subject sale by execution, appears me would be difficult assign reason for exemption this species property from claims judgment creditors, for giving defendant execution right dispose it. It appears me, with all deference, argument because sheriff prohibited from levying on ““planted crop,” therefore execution had lost its lien, debtor had right sell it, non sequitur. The mischief which statute designed remedy was, sacrifice which would be necessarily made by sale an immature crop: statute enables debtor retain until matures, by severing from soil put *747 condition bring its value--the lien mean time continuing plaintiff execution. **5 If further confirmation correctness this view were necessary, will be found, I think, language employed by legislature. The sheriff forbidden levy on “planted crop” until crop gathered. Now, if view taken by majority court, correct, right secured plaintiff execution, levying on crop after gathered, may be frustrated, as this case, by sale by defendant execution, whilst crop an immature state. The construction which has been put upon statute, involves singular anomaly, legislature, for protection debtor, has forbidden plaintiff execution sell property his debtor, because not condition bring its value, yet permits debtor, voluntarily, by sale, submit same sacrifice, for his own benefit. It is, effect, gift defendant execution, growing crop, provided he does not gather himself, but disposes its then condition. This, I feel thorough conviction, not intention legislature; but secure him from loss, by prohibiting levy sale crop, until gathered, when temporary suspension right sell, ceased. All Citations 5 Ala. 740, 1843 WL 284 End Document © 2019 Reuters. No claim original U.S. Government Works. Citing References (9) Treatment Title Date Type Depth Headnote(s) Cited by 1. Booker v. Jones’s Adm’x 55 Ala. 266, 271 , Ala. Trover for Conversion Cotton, with Counts Case. APPEAL from Circuit Court Hale. Tried before Hon. M. J. SAFFOLD. Dec Term 1876 Case — Cited by 2. Lehman, Durr & Co. v. Marshall 47 Ala. 362, 376 , Ala. [TROVER FOR CONVERSION OF COTTON.] APPEAL from City Court Montgomery. Tried before Hon. JOHN D. CUNNINGHAM. Jan Term 1872 Case — Cited by 3. Bibb v. Janney 45 Ala. 329, 334 , Ala. [GARNISHMENT; WAGES; WAIVER OF EXEMPTION.] APPEAL from City Court Montgomery. Tried before Hon. JOHN D. CUNNINGHAM. Jan Term 1871 Case — Cited by 4. McKenzie v. Lampley 31 Ala. 526, 527 , Ala. [TRIAL OF RIGHT OF PROPERTY IN COTTON.] APPEAL from Circuit Court Barbour. Tried before Hon. S. D. HALE. Jan Term 1858 Case — Cited by 5. Evans v. Lamar 21 Ala. 333, 335+ , Ala. ERROR Circuit Court Autauga. Tried before Hon. A. B. MOORE. Jun Term 1852 Case — Cited by 6. Dewey v. Bowman 8 Cal. 145, 147 , Cal. The judgment Court below, against Jacob S. Cohen, should be reversed, for following reasons: Because finding Court was, so far as Cohen concerned,... Jul Term 1857 Case — Mentioned by 7. Rees v. Coats 65 Ala. 256, 258 , Ala. Trover for Conversion Three Bales Cotton. APPEAL from Circuit Court Etowah. Tried before Hon. WM. L. WHITLOCK. Nov Term 1880 Case — Mentioned by 8. Edwards v. Thompson 4 S.W. 913, 914 , Tenn. Appeal from circuit court, Weakley county. May 1887 Case — — 9. Growing crops as subject levy seizure under attachment or execution 103 A.L.R. 464 Generally, at common law, growing crops raised by annual planting, while still attached soil, are regarded as personal chattels, subject levy seizure under attachment... 1936 ALR — — Table Authorities (3) Treatment Referenced Title Type Depth Quoted Page Number Mentioned 1. Austin v. Sawyer 9 Cow. N.Y.Sup., 1828 Parol evidence not admissible contradict, or substantially vary, written contract. And where A. quit-claimed land W., on which crop wheat growing, reserving the... Case 2 Cited 2. Perkins v. Mayfield 5 Port. 182, Ala., 1837 On writ error Circuit Court Tuskaloosa. Case 2+ Mentioned 3. Stewart v. Doughty 9 Johns. 108, N.Y.Sup., 1812 A. let B. farm for six years, A. agreed “to render, yield pay A. one half all wheat, rye, corn other grain, raised on farm each year, the... Case 2 Filings There are no Filings for this citation. Negative Treatment There are no Negative Treatment results for this citation. History There are no History results for this citation.\n"
          ],
          "name": "stdout"
        },
        {
          "output_type": "error",
          "ename": "AttributeError",
          "evalue": "ignored",
          "traceback": [
            "\u001b[0;31m---------------------------------------------------------------------------\u001b[0m",
            "\u001b[0;31mAttributeError\u001b[0m                            Traceback (most recent call last)",
            "\u001b[0;32m<ipython-input-135-17d53a13bf36>\u001b[0m in \u001b[0;36m<module>\u001b[0;34m()\u001b[0m\n\u001b[1;32m    110\u001b[0m \u001b[0;32mfor\u001b[0m \u001b[0mi\u001b[0m \u001b[0;32min\u001b[0m \u001b[0mrange\u001b[0m\u001b[0;34m(\u001b[0m\u001b[0mlen\u001b[0m\u001b[0;34m(\u001b[0m\u001b[0mtokenized_text\u001b[0m\u001b[0;34m)\u001b[0m\u001b[0;34m)\u001b[0m\u001b[0;34m:\u001b[0m\u001b[0;34m\u001b[0m\u001b[0;34m\u001b[0m\u001b[0m\n\u001b[1;32m    111\u001b[0m   \u001b[0;32mif\u001b[0m\u001b[0;34m(\u001b[0m\u001b[0mlen\u001b[0m\u001b[0;34m(\u001b[0m\u001b[0mfrq_words\u001b[0m\u001b[0;34m)\u001b[0m \u001b[0;32mis\u001b[0m \u001b[0;32mnot\u001b[0m \u001b[0;36m0\u001b[0m\u001b[0;34m)\u001b[0m\u001b[0;34m:\u001b[0m\u001b[0;34m\u001b[0m\u001b[0;34m\u001b[0m\u001b[0m\n\u001b[0;32m--> 112\u001b[0;31m     \u001b[0mspell_correct\u001b[0m \u001b[0;34m=\u001b[0m \u001b[0mobject\u001b[0m\u001b[0;34m.\u001b[0m\u001b[0mspell_correct\u001b[0m\u001b[0;34m(\u001b[0m\u001b[0mfrq_words\u001b[0m\u001b[0;34m)\u001b[0m\u001b[0;34m\u001b[0m\u001b[0;34m\u001b[0m\u001b[0m\n\u001b[0m\u001b[1;32m    113\u001b[0m   \u001b[0;32melse\u001b[0m\u001b[0;34m:\u001b[0m\u001b[0;34m\u001b[0m\u001b[0;34m\u001b[0m\u001b[0m\n\u001b[1;32m    114\u001b[0m     \u001b[0mtokenized_text\u001b[0m\u001b[0;34m=\u001b[0m\u001b[0mobject\u001b[0m\u001b[0;34m.\u001b[0m\u001b[0mtokenized_text\u001b[0m\u001b[0;34m(\u001b[0m\u001b[0mfrq_words\u001b[0m\u001b[0;34m)\u001b[0m\u001b[0;34m\u001b[0m\u001b[0;34m\u001b[0m\u001b[0m\n",
            "\u001b[0;31mAttributeError\u001b[0m: type object 'object' has no attribute 'spell_correct'"
          ]
        }
      ]
    },
    {
      "cell_type": "markdown",
      "metadata": {
        "id": "BBiC4E_kefvV",
        "colab_type": "text"
      },
      "source": [
        "# 2. Python Regular Expression"
      ]
    },
    {
      "cell_type": "markdown",
      "metadata": {
        "id": "Z1QJ-UwCenvN",
        "colab_type": "text"
      },
      "source": [
        "## 2.1 Write a Python program to remove leading zeros from an IP address. \n",
        "\n",
        "ip = \"260.08.094.109\""
      ]
    },
    {
      "cell_type": "code",
      "metadata": {
        "id": "wSv6fVhOfFmv",
        "colab_type": "code",
        "outputId": "cddc4a33-2f56-4bf9-bc9b-a9601c4982f6",
        "colab": {
          "base_uri": "https://localhost:8080/",
          "height": 35
        }
      },
      "source": [
        "import re\n",
        "\n",
        "ip= \"260.08.094.109\"\n",
        "#with regx to remove leading zeros\n",
        "sub_zero = re.sub('\\.[0]*', '.', ip)\n",
        "\n",
        "#with regx function and join method to remove all zeros\n",
        "#sub_zero = re.split(\"[0]\", ip, 4)\n",
        "#res = ''.join(sub_zero) \n",
        "\n",
        "print(sub_zero)\n",
        "#print(res)\n",
        "\n",
        "    "
      ],
      "execution_count": 0,
      "outputs": [
        {
          "output_type": "stream",
          "text": [
            "260.8.94.109\n"
          ],
          "name": "stdout"
        }
      ]
    },
    {
      "cell_type": "markdown",
      "metadata": {
        "id": "PXRjaHzrfKAy",
        "colab_type": "text"
      },
      "source": [
        "## 2.2 Write a Python Program to extract all the years from the following sentence.\n",
        "\n",
        "sentence = \"The 2010s were a dramatic decade, filled with ups and downs, more than 1000 stroies have happened. As the decade comes to a close, Insider took a look back at some of the biggest headline-grabbing stories, from 2010 to 2019. The result was 119 news stories that ranged from the heartwarming rescue of a Thai boys' soccer team from a flooded cave to the divisive election of President Donald Trump.\""
      ]
    },
    {
      "cell_type": "code",
      "metadata": {
        "id": "7xdJpDx9gjbX",
        "colab_type": "code",
        "outputId": "10a2cab9-a75c-413a-9224-c96e4c0f3643",
        "colab": {
          "base_uri": "https://localhost:8080/",
          "height": 70
        }
      },
      "source": [
        "import re\n",
        "\n",
        "msg = \"The 2010s were a dramatic decade, filled with ups and downs, more than 1000 stroies have happened. As the decade comes to a close, Insider took a look back at some of the biggest headline-grabbing stories, from 2010 to 2019. The result was 119 news stories that ranged from the heartwarming rescue of a Thai boys' soccer team from a flooded cave to the divisive election of President Donald Trump.\"\n",
        "all = re.findall(r\"[\\d]{4}\", msg)\n",
        "\n",
        "for item in all: \n",
        "   if ((eval(item))% 100 != 0):\n",
        "     print(item)"
      ],
      "execution_count": 0,
      "outputs": [
        {
          "output_type": "stream",
          "text": [
            "2010\n",
            "2010\n",
            "2019\n"
          ],
          "name": "stdout"
        }
      ]
    }
  ]
}