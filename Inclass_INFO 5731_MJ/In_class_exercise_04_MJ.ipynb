{
  "nbformat": 4,
  "nbformat_minor": 0,
  "metadata": {
    "colab": {
      "name": "Copy of In-class-exercise-04.ipynb",
      "provenance": [],
      "collapsed_sections": [],
      "include_colab_link": true
    },
    "kernelspec": {
      "name": "python3",
      "display_name": "Python 3"
    }
  },
  "cells": [
    {
      "cell_type": "markdown",
      "metadata": {
        "id": "view-in-github",
        "colab_type": "text"
      },
      "source": [
        "<a href=\"https://colab.research.google.com/github/mayurijoshi106/mayuri_INFO5731_spring2020/blob/master/Inclass_INFO%205731_MJ/In_class_exercise_04_MJ.ipynb\" target=\"_parent\"><img src=\"https://colab.research.google.com/assets/colab-badge.svg\" alt=\"Open In Colab\"/></a>"
      ]
    },
    {
      "cell_type": "markdown",
      "metadata": {
        "id": "EuX00KHNeSpw",
        "colab_type": "text"
      },
      "source": [
        "# **The fourth in-class-exercise**"
      ]
    },
    {
      "cell_type": "markdown",
      "metadata": {
        "id": "s-vTOb03hG1f",
        "colab_type": "text"
      },
      "source": [
        "# 1. Text Data Preprocessing\n",
        "\n",
        "Here is a [legal case](https://github.com/unt-iialab/INFO5731_Spring2020/blob/master/In_class_exercise/01-05-1%20%20Adams%20v%20Tanner.txt) we collected from westlaw, please follow the steps we mentioned in lesson 5 to clean the data:\n",
        "\n",
        "\n",
        "\n",
        "## 1.1 Basic feature extraction using text data\n",
        "\n",
        "*   Number of sentences\n",
        "*   Number of words\n",
        "*   Number of characters\n",
        "*   Average word length\n",
        "*   Number of stopwords\n",
        "*   Number of special characters\n",
        "*   Number of numerics\n",
        "*   Number of uppercase words\n",
        "\n",
        "## 1.2 Basic Text Pre-processing of text data\n",
        "\n",
        "*   Lower casing\n",
        "*   Punctuation removal\n",
        "*   Stopwords removal\n",
        "*   Frequent words removal\n",
        "*   Rare words removal\n",
        "*   Spelling correction\n",
        "*   Tokenization\n",
        "*   Stemming\n",
        "*   Lemmatization\n",
        "\n",
        "## 1.3 Save all the **clean sentences** to a **csv file** (one column, each raw is a sentence) after finishing all the steps above.\n",
        "\n",
        "\n",
        "## 1.4 Advance Text Processing\n",
        "\n",
        "*   Calculate the term frequency of all the terms.\n",
        "*   Print out top 10 1-gram, top 10 2-grams, and top 10 2-grams terms as features.\n"
      ]
    },
    {
      "cell_type": "code",
      "metadata": {
        "id": "vR0L3_CreM_A",
        "colab_type": "code",
        "outputId": "d7346596-49f0-44c5-ae7b-57dddf8ca4bf",
        "colab": {
          "base_uri": "https://localhost:8080/",
          "height": 124
        }
      },
      "source": [
        "import pandas as pd\n",
        "import string\n",
        "import nltk\n",
        "words = txtfile.split()\n",
        "from nltk.tokenize import sent_tokenize, word_tokenize\n",
        "from nltk.stem import PorterStemmer\n",
        "from nltk.stem.wordnet import WordNetLemmatizer\n",
        "nltk.download ('stopwords')\n",
        "nltk.download('punkt')\n",
        "nltk.download('wordnet')\n",
        "from nltk.corpus import stopwords\n",
        "from autocorrect import Speller\n",
        "from textblob import Word\n",
        "\n",
        "\n",
        "file = open(\"01-05-1AdamsvTanner.txt\", \"r\")\n",
        "txtfile = file.read()\n",
        "file.close()\n",
        "#print(txtfile)\n",
        "\n",
        "dataset = {'data': txtfile}\n",
        "df = pd.DataFrame(dataset, columns=['data'], index=[i])\n",
        "export_csv = df.loc[[i]].to_csv('ProcessedData.csv', index=None,header=0,mode='a') \n",
        "\n",
        "# stopwords list\n",
        "stop_words = set(stopwords.words(\"english\"))\n",
        "#print(stop_words)\n",
        "\n",
        "#1.1- 1-2-3: Number of Sentences, words and characters\n",
        "num_sent = words\n",
        "char_count = 0 \n",
        "for i in num_sent:\n",
        "  char_count = char_count + len(i)\n",
        "#print(\"\\nNumber of sentences: \"+str(txtfile.count('.')))\n",
        "#print(\"\\nNumber of words: \"+str(len(txtfile.split())))\n",
        "#print(\"\\nNumber of characters: \"+str(char_count))\n",
        "\n",
        "#1.1-4 Average word length\n",
        "average = sum(len(word) for word in words) / len(words)\n",
        "#print(\"\\nAverage word length: \",average)\n",
        "\n",
        "#1.1-5 Number of stopwords\n",
        "stopword_count = 0\n",
        "for i in range(len(words)):\n",
        "  if words[i] in stop_words:\n",
        "    stopword_count = stopword_count+1\n",
        "#print(\"\\nNumber of stopwords: \"+str(stopword_count))\n",
        "\n",
        "#1.1- 6-7-8: Number of special characters, numerics and uppercase words\n",
        "splchar_count = 0\n",
        "num_count = 0\n",
        "upwords_count = 0\n",
        "spl_char = \"!#$%&'()*+,-./:;<=>?@[\\]^_`{|}~\"\n",
        "num = \"0123456789\"\n",
        "for i in range(len(words)):\n",
        "  for j in range(len(words[i])):\n",
        "    if words[i][j] in spl_char:\n",
        "      splchar_count = splchar_count + 1\n",
        "    elif words[i][j] in num:\n",
        "      num_count = num_count + 1\n",
        "    elif words[i][j].isupper():\n",
        "      upwords_count = upwords_count + 1\n",
        "#print(\"\\nnumber of special characters: \"+str(splchar_count))\n",
        "#print(\"\\nnumber of numerics: \"+str(num_count))\n",
        "#print(\"\\nNumber of uppercase words: \"+str(upwords_count))\n",
        "\n",
        "#1.2-1 Convert text to lowercase\n",
        "input_str = txtfile.lower()\n",
        "#print(\"\\n********************Convert text to lowercase********************\")\n",
        "#print(input_str)\n",
        "\n",
        "#1.2-2 Punctuation removal\n",
        "table = str.maketrans('', '', string.punctuation)\n",
        "stripped = [w.translate(table) for w in words]\n",
        "#print(\"\\n********************Punctuation Removal********************\")\n",
        "#print(stripped)\n",
        "\n",
        "#1.2-3 Stopwards removal\n",
        "tokens = word_tokenize(input_str)\n",
        "result = [i for i in tokens if not i in stop_words]\n",
        "#print(\"\\n********************Stopwards removal********************\")\n",
        "#print (result)\n",
        "\n",
        "#1.2- 4 and 5: Frequent and rare words removal\n",
        "frq_words = ''\n",
        "frequent_words = pd.Series(' '.join(words).split()).value_counts()[:10]\n",
        "rare_words=pd.Series(' '.join(words).split()).value_counts()[-10:]\n",
        "for i in range(len(words)):\n",
        "  if words[i] in frequent_words or words[i] in rare_words:\n",
        "    pass\n",
        "  else:\n",
        "    frq_words=frq_words+\" \"+words[i]\n",
        "#print(\"\\n********************Frequent & Rare words removal********************\")\n",
        "#print(frq_words)\n",
        "\n",
        "#1.2-6 Spelling correction\n",
        "#!pip install autocorrect\n",
        "spell_correction = ''\n",
        "spelling = Speller(lang='en')\n",
        "for item in range(len(words)):\n",
        "  corrected_word = spelling(words[item])\n",
        "  spell_correction=spell_correction+\" \"+corrected_word\n",
        "#print(\"\\n********************Spelling Checker********************\")\n",
        "#print(spell_correction)  \n",
        "\n",
        "#1.2-7 Tokenization\n",
        "tokenized_text = sent_tokenize(txtfile)\n",
        "#print(\"\\n********************Tokenization********************\")\n",
        "#print(tokenized_text)\n",
        "\n",
        "#1.2-8 Stemming\n",
        "stemmer = PorterStemmer()\n",
        "stemmed_words = []\n",
        "input_stem = word_tokenize(input_str)\n",
        "for word in input_stem:\n",
        "  stemmed_words.append((stemmer.stem(word)))\n",
        "#print(\"\\n********************Stemming********************\")  \n",
        "#print(stemmed_words)\n",
        "\n",
        "#1.2-9 Lemmatization\n",
        "lem = WordNetLemmatizer()\n",
        "lemmed_words = []\n",
        "for word in input_stem:\n",
        "  lemmed_words.append((lem.lemmatize(word)))\n",
        "#print(\"\\n********************Lemmatization********************\") \n",
        "#print(lemmed_words)\n"
      ],
      "execution_count": 88,
      "outputs": [
        {
          "output_type": "stream",
          "text": [
            "[nltk_data] Downloading package stopwords to /root/nltk_data...\n",
            "[nltk_data]   Package stopwords is already up-to-date!\n",
            "[nltk_data] Downloading package punkt to /root/nltk_data...\n",
            "[nltk_data]   Package punkt is already up-to-date!\n",
            "[nltk_data] Downloading package wordnet to /root/nltk_data...\n",
            "[nltk_data]   Package wordnet is already up-to-date!\n"
          ],
          "name": "stdout"
        }
      ]
    },
    {
      "cell_type": "markdown",
      "metadata": {
        "id": "BBiC4E_kefvV",
        "colab_type": "text"
      },
      "source": [
        "# 2. Python Regular Expression"
      ]
    },
    {
      "cell_type": "markdown",
      "metadata": {
        "id": "Z1QJ-UwCenvN",
        "colab_type": "text"
      },
      "source": [
        "## 2.1 Write a Python program to remove leading zeros from an IP address. \n",
        "\n",
        "ip = \"260.08.094.109\""
      ]
    },
    {
      "cell_type": "code",
      "metadata": {
        "id": "wSv6fVhOfFmv",
        "colab_type": "code",
        "outputId": "cddc4a33-2f56-4bf9-bc9b-a9601c4982f6",
        "colab": {
          "base_uri": "https://localhost:8080/",
          "height": 35
        }
      },
      "source": [
        "import re\n",
        "\n",
        "ip= \"260.08.094.109\"\n",
        "#with regx to remove leading zeros\n",
        "sub_zero = re.sub('\\.[0]*', '.', ip)\n",
        "\n",
        "#with regx function and join method to remove all zeros\n",
        "#sub_zero = re.split(\"[0]\", ip, 4)\n",
        "#res = ''.join(sub_zero) \n",
        "\n",
        "print(sub_zero)\n",
        "#print(res)\n",
        "\n",
        "    "
      ],
      "execution_count": 0,
      "outputs": [
        {
          "output_type": "stream",
          "text": [
            "260.8.94.109\n"
          ],
          "name": "stdout"
        }
      ]
    },
    {
      "cell_type": "markdown",
      "metadata": {
        "id": "PXRjaHzrfKAy",
        "colab_type": "text"
      },
      "source": [
        "## 2.2 Write a Python Program to extract all the years from the following sentence.\n",
        "\n",
        "sentence = \"The 2010s were a dramatic decade, filled with ups and downs, more than 1000 stroies have happened. As the decade comes to a close, Insider took a look back at some of the biggest headline-grabbing stories, from 2010 to 2019. The result was 119 news stories that ranged from the heartwarming rescue of a Thai boys' soccer team from a flooded cave to the divisive election of President Donald Trump.\""
      ]
    },
    {
      "cell_type": "code",
      "metadata": {
        "id": "7xdJpDx9gjbX",
        "colab_type": "code",
        "outputId": "10a2cab9-a75c-413a-9224-c96e4c0f3643",
        "colab": {
          "base_uri": "https://localhost:8080/",
          "height": 70
        }
      },
      "source": [
        "import re\n",
        "\n",
        "msg = \"The 2010s were a dramatic decade, filled with ups and downs, more than 1000 stroies have happened. As the decade comes to a close, Insider took a look back at some of the biggest headline-grabbing stories, from 2010 to 2019. The result was 119 news stories that ranged from the heartwarming rescue of a Thai boys' soccer team from a flooded cave to the divisive election of President Donald Trump.\"\n",
        "all = re.findall(r\"[\\d]{4}\", msg)\n",
        "\n",
        "for item in all: \n",
        "   if ((eval(item))% 100 != 0):\n",
        "     print(item)"
      ],
      "execution_count": 0,
      "outputs": [
        {
          "output_type": "stream",
          "text": [
            "2010\n",
            "2010\n",
            "2019\n"
          ],
          "name": "stdout"
        }
      ]
    }
  ]
}